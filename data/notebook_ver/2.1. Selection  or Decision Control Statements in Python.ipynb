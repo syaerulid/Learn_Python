{
 "cells": [
  {
   "cell_type": "markdown",
   "id": "55963a3a",
   "metadata": {},
   "source": [
    "## Selection / Decision Control Statements"
   ]
  },
  {
   "cell_type": "markdown",
   "id": "4a9d05e1",
   "metadata": {},
   "source": [
    "- If\n",
    "- If .. Else\n",
    "- Elif"
   ]
  },
  {
   "cell_type": "markdown",
   "id": "e8ba71bf",
   "metadata": {},
   "source": [
    "# If"
   ]
  },
  {
   "cell_type": "code",
   "execution_count": 1,
   "id": "f26dfd08",
   "metadata": {},
   "outputs": [],
   "source": [
    "a = 5\n",
    "b = 4"
   ]
  },
  {
   "cell_type": "code",
   "execution_count": 2,
   "id": "6d7efb17",
   "metadata": {},
   "outputs": [
    {
     "name": "stdout",
     "output_type": "stream",
     "text": [
      "a is greater than b\n"
     ]
    }
   ],
   "source": [
    "if a > b:\n",
    "    print(\"a is greater than b\")"
   ]
  },
  {
   "cell_type": "code",
   "execution_count": 3,
   "id": "cc66a2e9",
   "metadata": {},
   "outputs": [],
   "source": [
    "a,b,c,d,e = 5,4,3,2,1"
   ]
  },
  {
   "cell_type": "code",
   "execution_count": 5,
   "id": "09e117e7",
   "metadata": {},
   "outputs": [
    {
     "name": "stdout",
     "output_type": "stream",
     "text": [
      "e is the least\n"
     ]
    }
   ],
   "source": [
    "\"\"\"in this program below, they will check by conditions, one by one, and if conditions = true, the loops is end.\"\"\"\n",
    "\n",
    "if a < b:\n",
    "    print(\"a is less than b\")\n",
    "elif b < c:\n",
    "    print(\"b is less than c\")\n",
    "elif c < d :\n",
    "    print(\"c is less than d\")\n",
    "elif d < e:\n",
    "    print(\"d is less than e\")\n",
    "else:\n",
    "    print(\"e is the least\")"
   ]
  },
  {
   "cell_type": "code",
   "execution_count": null,
   "id": "78006758",
   "metadata": {},
   "outputs": [],
   "source": []
  }
 ],
 "metadata": {
  "kernelspec": {
   "display_name": "Python 3 (ipykernel)",
   "language": "python",
   "name": "python3"
  },
  "language_info": {
   "codemirror_mode": {
    "name": "ipython",
    "version": 3
   },
   "file_extension": ".py",
   "mimetype": "text/x-python",
   "name": "python",
   "nbconvert_exporter": "python",
   "pygments_lexer": "ipython3",
   "version": "3.9.12"
  }
 },
 "nbformat": 4,
 "nbformat_minor": 5
}
