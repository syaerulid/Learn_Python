{
 "cells": [
  {
   "cell_type": "markdown",
   "id": "0f1acd12",
   "metadata": {},
   "source": [
    "# What is Function?"
   ]
  },
  {
   "cell_type": "markdown",
   "id": "76433819",
   "metadata": {},
   "source": [
    "- Function is a block of code\n",
    "- def my_first_function():\n",
    "- Calling function to execute the block of code"
   ]
  },
  {
   "cell_type": "code",
   "execution_count": 1,
   "id": "01e42649",
   "metadata": {},
   "outputs": [],
   "source": [
    "def my_first_function():\n",
    "    print(\"Inside my first function\")"
   ]
  },
  {
   "cell_type": "code",
   "execution_count": 2,
   "id": "15431200",
   "metadata": {},
   "outputs": [
    {
     "name": "stdout",
     "output_type": "stream",
     "text": [
      "Inside my first function\n"
     ]
    }
   ],
   "source": [
    "# calling the function\n",
    "\n",
    "my_first_function()"
   ]
  },
  {
   "cell_type": "code",
   "execution_count": 3,
   "id": "cedee0ce",
   "metadata": {},
   "outputs": [
    {
     "name": "stdout",
     "output_type": "stream",
     "text": [
      "Inside my first function\n"
     ]
    }
   ],
   "source": [
    "# Function can be called multiple times\n",
    "\n",
    "my_first_function()"
   ]
  },
  {
   "cell_type": "code",
   "execution_count": 4,
   "id": "a2de6b1b",
   "metadata": {},
   "outputs": [
    {
     "name": "stdout",
     "output_type": "stream",
     "text": [
      "Inside my first function\n"
     ]
    }
   ],
   "source": [
    "my_first_function()"
   ]
  },
  {
   "cell_type": "code",
   "execution_count": 5,
   "id": "4d9380bb",
   "metadata": {},
   "outputs": [
    {
     "name": "stdout",
     "output_type": "stream",
     "text": [
      "Inside my first function\n",
      "Inside my first function\n"
     ]
    }
   ],
   "source": [
    "my_first_function()\n",
    "my_first_function()"
   ]
  },
  {
   "cell_type": "code",
   "execution_count": null,
   "id": "b7dbc573",
   "metadata": {},
   "outputs": [],
   "source": []
  }
 ],
 "metadata": {
  "kernelspec": {
   "display_name": "Python 3 (ipykernel)",
   "language": "python",
   "name": "python3"
  },
  "language_info": {
   "codemirror_mode": {
    "name": "ipython",
    "version": 3
   },
   "file_extension": ".py",
   "mimetype": "text/x-python",
   "name": "python",
   "nbconvert_exporter": "python",
   "pygments_lexer": "ipython3",
   "version": "3.9.12"
  }
 },
 "nbformat": 4,
 "nbformat_minor": 5
}
