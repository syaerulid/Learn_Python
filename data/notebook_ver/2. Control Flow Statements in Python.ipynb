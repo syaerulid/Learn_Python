{
 "cells": [
  {
   "cell_type": "markdown",
   "id": "61cb3c08",
   "metadata": {},
   "source": [
    "- Selection / Decision Control statements\n",
    "    - if\n",
    "    - if .. else\n",
    "    - if .. elif .. else\n",
    "- Repetition / Loop Statements\n",
    "    - while loop\n",
    "    - for loop\n",
    "- Transfer / Jump Statements\n",
    "    - break\n",
    "    - continue\n",
    "    - return\n",
    "    - try & except"
   ]
  },
  {
   "cell_type": "code",
   "execution_count": null,
   "id": "d4b419c0",
   "metadata": {},
   "outputs": [],
   "source": []
  }
 ],
 "metadata": {
  "kernelspec": {
   "display_name": "Python 3 (ipykernel)",
   "language": "python",
   "name": "python3"
  },
  "language_info": {
   "codemirror_mode": {
    "name": "ipython",
    "version": 3
   },
   "file_extension": ".py",
   "mimetype": "text/x-python",
   "name": "python",
   "nbconvert_exporter": "python",
   "pygments_lexer": "ipython3",
   "version": "3.9.12"
  }
 },
 "nbformat": 4,
 "nbformat_minor": 5
}
