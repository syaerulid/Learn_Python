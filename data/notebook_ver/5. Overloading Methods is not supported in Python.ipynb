{
 "cells": [
  {
   "cell_type": "code",
   "execution_count": 1,
   "id": "9509db38",
   "metadata": {},
   "outputs": [],
   "source": [
    "class A:\n",
    "    \n",
    "    def sample(self):\n",
    "        print(\"Inside sample method\")\n",
    "        \n",
    "    def sample(self,a):\n",
    "        print(\"Inside sample method \",a)\n",
    "        \n"
   ]
  },
  {
   "cell_type": "code",
   "execution_count": 7,
   "id": "af4119d6",
   "metadata": {},
   "outputs": [
    {
     "ename": "TypeError",
     "evalue": "sample() missing 1 required positional argument: 'a'",
     "output_type": "error",
     "traceback": [
      "\u001b[1;31m---------------------------------------------------------------------------\u001b[0m",
      "\u001b[1;31mTypeError\u001b[0m                                 Traceback (most recent call last)",
      "Input \u001b[1;32mIn [7]\u001b[0m, in \u001b[0;36m<cell line: 2>\u001b[1;34m()\u001b[0m\n\u001b[0;32m      1\u001b[0m obj \u001b[38;5;241m=\u001b[39m A()\n\u001b[1;32m----> 2\u001b[0m \u001b[43mobj\u001b[49m\u001b[38;5;241;43m.\u001b[39;49m\u001b[43msample\u001b[49m\u001b[43m(\u001b[49m\u001b[43m)\u001b[49m\n",
      "\u001b[1;31mTypeError\u001b[0m: sample() missing 1 required positional argument: 'a'"
     ]
    }
   ],
   "source": [
    "obj = A()\n",
    "obj.sample()"
   ]
  },
  {
   "cell_type": "code",
   "execution_count": 8,
   "id": "3f6d7126",
   "metadata": {},
   "outputs": [
    {
     "name": "stdout",
     "output_type": "stream",
     "text": [
      "Inside sample method  8\n"
     ]
    }
   ],
   "source": [
    "obj = A()\n",
    "obj.sample(8)"
   ]
  },
  {
   "cell_type": "code",
   "execution_count": 11,
   "id": "b1f8f948",
   "metadata": {},
   "outputs": [],
   "source": [
    "# method overloading in python\n",
    "class A:\n",
    "    \n",
    "    def sample(self, a = None, b = None):\n",
    "        if a != None and b != None:\n",
    "            print(a*b)\n",
    "        elif a != None:\n",
    "            print(a)\n",
    "        else:\n",
    "            print(\"Nothing\")"
   ]
  },
  {
   "cell_type": "code",
   "execution_count": 12,
   "id": "8ea4c5f8",
   "metadata": {},
   "outputs": [
    {
     "name": "stdout",
     "output_type": "stream",
     "text": [
      "20\n"
     ]
    }
   ],
   "source": [
    "obj = A()\n",
    "obj.sample(5,4)"
   ]
  },
  {
   "cell_type": "code",
   "execution_count": 14,
   "id": "8d51b45f",
   "metadata": {},
   "outputs": [
    {
     "name": "stdout",
     "output_type": "stream",
     "text": [
      "Nothing\n"
     ]
    }
   ],
   "source": [
    "obj.sample()"
   ]
  },
  {
   "cell_type": "code",
   "execution_count": null,
   "id": "dc62a1ae",
   "metadata": {},
   "outputs": [],
   "source": []
  }
 ],
 "metadata": {
  "kernelspec": {
   "display_name": "Python 3 (ipykernel)",
   "language": "python",
   "name": "python3"
  },
  "language_info": {
   "codemirror_mode": {
    "name": "ipython",
    "version": 3
   },
   "file_extension": ".py",
   "mimetype": "text/x-python",
   "name": "python",
   "nbconvert_exporter": "python",
   "pygments_lexer": "ipython3",
   "version": "3.9.12"
  }
 },
 "nbformat": 4,
 "nbformat_minor": 5
}
