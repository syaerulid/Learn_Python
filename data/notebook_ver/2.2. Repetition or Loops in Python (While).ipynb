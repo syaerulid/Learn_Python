{
 "cells": [
  {
   "cell_type": "markdown",
   "id": "430a5fe0",
   "metadata": {},
   "source": [
    "- For Loops\n",
    "- While Loops"
   ]
  },
  {
   "cell_type": "code",
   "execution_count": 7,
   "id": "7b9b19bd",
   "metadata": {},
   "outputs": [],
   "source": [
    "i = 1"
   ]
  },
  {
   "cell_type": "code",
   "execution_count": null,
   "id": "41ac3e65",
   "metadata": {},
   "outputs": [],
   "source": [
    "while i <= 10:\n",
    "    print(i) # wiull print infinite loops of i or 1 1 1 1 1 1"
   ]
  },
  {
   "cell_type": "code",
   "execution_count": 8,
   "id": "1e36338c",
   "metadata": {},
   "outputs": [
    {
     "name": "stdout",
     "output_type": "stream",
     "text": [
      "1\n",
      "2\n",
      "3\n",
      "4\n",
      "5\n",
      "6\n",
      "7\n",
      "8\n",
      "9\n",
      "10\n"
     ]
    }
   ],
   "source": [
    "while i <= 10:\n",
    "    print(i) # will print 1 \n",
    "    i+=1 # 2"
   ]
  },
  {
   "cell_type": "code",
   "execution_count": 9,
   "id": "4d99ca2b",
   "metadata": {},
   "outputs": [
    {
     "name": "stdout",
     "output_type": "stream",
     "text": [
      "End of the program\n"
     ]
    }
   ],
   "source": [
    "print(\"End of the program\")"
   ]
  },
  {
   "cell_type": "code",
   "execution_count": 10,
   "id": "b3a31125",
   "metadata": {},
   "outputs": [
    {
     "name": "stdout",
     "output_type": "stream",
     "text": [
      "Came out of while loop when the value of i have become: 11\n"
     ]
    }
   ],
   "source": [
    "# +Else\n",
    "\n",
    "while i <= 10:\n",
    "    print(i) # will print 1 \n",
    "    i+=1 # 2\n",
    "    \n",
    "else :\n",
    "    print(\"Came out of while loop when the value of i have become:\", i)"
   ]
  },
  {
   "cell_type": "code",
   "execution_count": null,
   "id": "7b2e4875",
   "metadata": {},
   "outputs": [],
   "source": []
  }
 ],
 "metadata": {
  "kernelspec": {
   "display_name": "Python 3 (ipykernel)",
   "language": "python",
   "name": "python3"
  },
  "language_info": {
   "codemirror_mode": {
    "name": "ipython",
    "version": 3
   },
   "file_extension": ".py",
   "mimetype": "text/x-python",
   "name": "python",
   "nbconvert_exporter": "python",
   "pygments_lexer": "ipython3",
   "version": "3.9.12"
  }
 },
 "nbformat": 4,
 "nbformat_minor": 5
}
