{
 "cells": [
  {
   "cell_type": "markdown",
   "id": "270f3a9d",
   "metadata": {},
   "source": [
    "# List\n",
    "   - Lists are ordered.\n",
    "   - Lists can contain any arbitrary objects.\n",
    "   - List elements can be accessed by index.\n",
    "   - Lists can be nested to arbitrary depth.\n",
    "   - Lists are mutable.\n",
    "   - Lists are dynamic."
   ]
  },
  {
   "cell_type": "code",
   "execution_count": 1,
   "id": "7fa5dee9",
   "metadata": {},
   "outputs": [],
   "source": [
    "a = [9,1,5,7]"
   ]
  },
  {
   "cell_type": "code",
   "execution_count": 2,
   "id": "6943ab09",
   "metadata": {},
   "outputs": [
    {
     "name": "stdout",
     "output_type": "stream",
     "text": [
      "[9, 1, 5, 7]\n"
     ]
    }
   ],
   "source": [
    "print(a)"
   ]
  },
  {
   "cell_type": "markdown",
   "id": "4df2c009",
   "metadata": {},
   "source": [
    "## Indexing in List Python start from 0"
   ]
  },
  {
   "cell_type": "code",
   "execution_count": 5,
   "id": "cc970b55",
   "metadata": {},
   "outputs": [
    {
     "name": "stdout",
     "output_type": "stream",
     "text": [
      "9\n"
     ]
    }
   ],
   "source": [
    "print(a[0])"
   ]
  },
  {
   "cell_type": "code",
   "execution_count": 7,
   "id": "0291c0df",
   "metadata": {},
   "outputs": [
    {
     "name": "stdout",
     "output_type": "stream",
     "text": [
      "7\n"
     ]
    }
   ],
   "source": [
    "print(a[3])"
   ]
  },
  {
   "cell_type": "code",
   "execution_count": 8,
   "id": "6f0891d0",
   "metadata": {},
   "outputs": [
    {
     "ename": "IndexError",
     "evalue": "list index out of range",
     "output_type": "error",
     "traceback": [
      "\u001b[1;31m---------------------------------------------------------------------------\u001b[0m",
      "\u001b[1;31mIndexError\u001b[0m                                Traceback (most recent call last)",
      "Input \u001b[1;32mIn [8]\u001b[0m, in \u001b[0;36m<cell line: 1>\u001b[1;34m()\u001b[0m\n\u001b[1;32m----> 1\u001b[0m \u001b[38;5;28mprint\u001b[39m(\u001b[43ma\u001b[49m\u001b[43m[\u001b[49m\u001b[38;5;241;43m4\u001b[39;49m\u001b[43m]\u001b[49m)\n",
      "\u001b[1;31mIndexError\u001b[0m: list index out of range"
     ]
    }
   ],
   "source": [
    "print(a[4]) # out of range bcause index is only 0,1,2,3"
   ]
  },
  {
   "cell_type": "markdown",
   "id": "3dced573",
   "metadata": {},
   "source": [
    "## Finding the Size of The list using len()"
   ]
  },
  {
   "cell_type": "code",
   "execution_count": 10,
   "id": "7d473812",
   "metadata": {},
   "outputs": [],
   "source": [
    "a = [9,1,5,7]"
   ]
  },
  {
   "cell_type": "code",
   "execution_count": 11,
   "id": "b0c968d2",
   "metadata": {},
   "outputs": [
    {
     "name": "stdout",
     "output_type": "stream",
     "text": [
      "0\n",
      "1\n",
      "2\n",
      "3\n"
     ]
    }
   ],
   "source": [
    "for i in range(len(a)):\n",
    "    print(i)"
   ]
  },
  {
   "cell_type": "code",
   "execution_count": 12,
   "id": "8be07a7b",
   "metadata": {},
   "outputs": [
    {
     "name": "stdout",
     "output_type": "stream",
     "text": [
      "9\n",
      "1\n",
      "5\n",
      "7\n"
     ]
    }
   ],
   "source": [
    "for i in range(len(a)):\n",
    "    print(a[i])"
   ]
  },
  {
   "cell_type": "markdown",
   "id": "f6d8bf18",
   "metadata": {},
   "source": [
    "## For Each Loops"
   ]
  },
  {
   "cell_type": "code",
   "execution_count": 13,
   "id": "5a13f673",
   "metadata": {},
   "outputs": [],
   "source": [
    "a = [9,1,5,7,6,0]"
   ]
  },
  {
   "cell_type": "code",
   "execution_count": 14,
   "id": "5040bf6a",
   "metadata": {},
   "outputs": [
    {
     "name": "stdout",
     "output_type": "stream",
     "text": [
      "9\n",
      "1\n",
      "5\n",
      "7\n",
      "6\n",
      "0\n"
     ]
    }
   ],
   "source": [
    "for num in a:\n",
    "    print(num)"
   ]
  },
  {
   "cell_type": "markdown",
   "id": "6cc696a0",
   "metadata": {},
   "source": [
    "## Updated the elements in the list"
   ]
  },
  {
   "cell_type": "code",
   "execution_count": 15,
   "id": "866a10c5",
   "metadata": {},
   "outputs": [
    {
     "name": "stdout",
     "output_type": "stream",
     "text": [
      "[9, 1, 5, 7]\n"
     ]
    }
   ],
   "source": [
    "a = [9,1,5,7]\n",
    "\n",
    "print(a)"
   ]
  },
  {
   "cell_type": "code",
   "execution_count": 16,
   "id": "e503dd49",
   "metadata": {},
   "outputs": [],
   "source": [
    "a[2] = 6"
   ]
  },
  {
   "cell_type": "code",
   "execution_count": 17,
   "id": "d8e39f3d",
   "metadata": {},
   "outputs": [
    {
     "name": "stdout",
     "output_type": "stream",
     "text": [
      "[9, 1, 6, 7]\n"
     ]
    }
   ],
   "source": [
    "print(a)"
   ]
  },
  {
   "cell_type": "markdown",
   "id": "6c0649ee",
   "metadata": {},
   "source": [
    "## Appending Element in the list"
   ]
  },
  {
   "cell_type": "code",
   "execution_count": 18,
   "id": "52d463ed",
   "metadata": {},
   "outputs": [],
   "source": [
    "a = [9,1,5,7]"
   ]
  },
  {
   "cell_type": "code",
   "execution_count": 19,
   "id": "ed0fde6a",
   "metadata": {},
   "outputs": [
    {
     "name": "stdout",
     "output_type": "stream",
     "text": [
      "[9, 1, 5, 7]\n"
     ]
    }
   ],
   "source": [
    "print(a)"
   ]
  },
  {
   "cell_type": "code",
   "execution_count": 20,
   "id": "10df6fa7",
   "metadata": {},
   "outputs": [],
   "source": [
    "a.append(6)"
   ]
  },
  {
   "cell_type": "code",
   "execution_count": 21,
   "id": "a2e1dbeb",
   "metadata": {},
   "outputs": [
    {
     "name": "stdout",
     "output_type": "stream",
     "text": [
      "[9, 1, 5, 7, 6]\n"
     ]
    }
   ],
   "source": [
    "print(a)"
   ]
  },
  {
   "cell_type": "markdown",
   "id": "bfe87aba",
   "metadata": {},
   "source": [
    "## Inserting the Elements at a particular index using insert(index, \"value\")"
   ]
  },
  {
   "cell_type": "code",
   "execution_count": 22,
   "id": "bbd59475",
   "metadata": {},
   "outputs": [],
   "source": [
    "a = [6,4,1,9]"
   ]
  },
  {
   "cell_type": "code",
   "execution_count": 23,
   "id": "6777d031",
   "metadata": {},
   "outputs": [
    {
     "name": "stdout",
     "output_type": "stream",
     "text": [
      "[6, 4, 1, 9]\n"
     ]
    }
   ],
   "source": [
    "print(a)"
   ]
  },
  {
   "cell_type": "code",
   "execution_count": 24,
   "id": "ca243ad4",
   "metadata": {},
   "outputs": [],
   "source": [
    "a.insert(2,8)"
   ]
  },
  {
   "cell_type": "code",
   "execution_count": 25,
   "id": "d8fb0296",
   "metadata": {},
   "outputs": [
    {
     "name": "stdout",
     "output_type": "stream",
     "text": [
      "[6, 4, 8, 1, 9]\n"
     ]
    }
   ],
   "source": [
    "print(a)"
   ]
  },
  {
   "cell_type": "markdown",
   "id": "c97ab6f6",
   "metadata": {},
   "source": [
    "## Remove the elements from the list using remove(element)"
   ]
  },
  {
   "cell_type": "code",
   "execution_count": 26,
   "id": "cde38ee9",
   "metadata": {},
   "outputs": [],
   "source": [
    "a = [9,1,5,6]"
   ]
  },
  {
   "cell_type": "code",
   "execution_count": 27,
   "id": "7d1f97a9",
   "metadata": {},
   "outputs": [
    {
     "name": "stdout",
     "output_type": "stream",
     "text": [
      "[9, 1, 5, 6]\n"
     ]
    }
   ],
   "source": [
    "print(a)"
   ]
  },
  {
   "cell_type": "code",
   "execution_count": 28,
   "id": "ed2517ed",
   "metadata": {},
   "outputs": [],
   "source": [
    "a.remove(1)"
   ]
  },
  {
   "cell_type": "code",
   "execution_count": 29,
   "id": "1734d439",
   "metadata": {},
   "outputs": [
    {
     "name": "stdout",
     "output_type": "stream",
     "text": [
      "[9, 5, 6]\n"
     ]
    }
   ],
   "source": [
    "print(a)"
   ]
  },
  {
   "cell_type": "markdown",
   "id": "0c80b74a",
   "metadata": {},
   "source": [
    "## Remove Latest Index with pop()"
   ]
  },
  {
   "cell_type": "code",
   "execution_count": 30,
   "id": "8489ef41",
   "metadata": {},
   "outputs": [],
   "source": [
    "a = [7,8,1,4]"
   ]
  },
  {
   "cell_type": "code",
   "execution_count": 31,
   "id": "2d5e6a76",
   "metadata": {},
   "outputs": [
    {
     "name": "stdout",
     "output_type": "stream",
     "text": [
      "[7, 8, 1, 4]\n"
     ]
    }
   ],
   "source": [
    "print(a)"
   ]
  },
  {
   "cell_type": "code",
   "execution_count": 32,
   "id": "ec0c07ff",
   "metadata": {},
   "outputs": [
    {
     "data": {
      "text/plain": [
       "4"
      ]
     },
     "execution_count": 32,
     "metadata": {},
     "output_type": "execute_result"
    }
   ],
   "source": [
    "a.pop()"
   ]
  },
  {
   "cell_type": "code",
   "execution_count": 33,
   "id": "8303a5dd",
   "metadata": {},
   "outputs": [
    {
     "name": "stdout",
     "output_type": "stream",
     "text": [
      "[7, 8, 1]\n"
     ]
    }
   ],
   "source": [
    "print(a)"
   ]
  },
  {
   "cell_type": "markdown",
   "id": "f26c49e0",
   "metadata": {},
   "source": [
    "## Remove Specify Index using pop()"
   ]
  },
  {
   "cell_type": "code",
   "execution_count": 60,
   "id": "e87ca647",
   "metadata": {},
   "outputs": [],
   "source": [
    "a = [3,7,9,1]"
   ]
  },
  {
   "cell_type": "code",
   "execution_count": 61,
   "id": "7c8abb3d",
   "metadata": {},
   "outputs": [
    {
     "name": "stdout",
     "output_type": "stream",
     "text": [
      "[3, 7, 9, 1]\n"
     ]
    }
   ],
   "source": [
    "print(a)"
   ]
  },
  {
   "cell_type": "code",
   "execution_count": 62,
   "id": "80565c67",
   "metadata": {},
   "outputs": [
    {
     "data": {
      "text/plain": [
       "9"
      ]
     },
     "execution_count": 62,
     "metadata": {},
     "output_type": "execute_result"
    }
   ],
   "source": [
    "a.pop(2)"
   ]
  },
  {
   "cell_type": "code",
   "execution_count": 63,
   "id": "7ee83f78",
   "metadata": {},
   "outputs": [
    {
     "name": "stdout",
     "output_type": "stream",
     "text": [
      "[3, 7, 1]\n"
     ]
    }
   ],
   "source": [
    "print(a)"
   ]
  },
  {
   "cell_type": "markdown",
   "id": "a2d24c84",
   "metadata": {},
   "source": [
    "## Remove all elements from the List using clear()"
   ]
  },
  {
   "cell_type": "code",
   "execution_count": 38,
   "id": "e165b854",
   "metadata": {},
   "outputs": [],
   "source": [
    "a = [3,7,9,1]"
   ]
  },
  {
   "cell_type": "code",
   "execution_count": 39,
   "id": "5577c340",
   "metadata": {},
   "outputs": [
    {
     "name": "stdout",
     "output_type": "stream",
     "text": [
      "[3, 7, 9, 1]\n"
     ]
    }
   ],
   "source": [
    "print(a)"
   ]
  },
  {
   "cell_type": "code",
   "execution_count": 40,
   "id": "e1ffa390",
   "metadata": {},
   "outputs": [],
   "source": [
    "a.clear()"
   ]
  },
  {
   "cell_type": "code",
   "execution_count": 41,
   "id": "46d367a5",
   "metadata": {},
   "outputs": [
    {
     "name": "stdout",
     "output_type": "stream",
     "text": [
      "[]\n"
     ]
    }
   ],
   "source": [
    "print(a)"
   ]
  },
  {
   "cell_type": "markdown",
   "id": "1e94f5ab",
   "metadata": {},
   "source": [
    "## Reverse the List"
   ]
  },
  {
   "cell_type": "code",
   "execution_count": 64,
   "id": "f3aa309f",
   "metadata": {},
   "outputs": [],
   "source": [
    "a = [3,7,9,1]"
   ]
  },
  {
   "cell_type": "code",
   "execution_count": 65,
   "id": "a9977968",
   "metadata": {},
   "outputs": [
    {
     "name": "stdout",
     "output_type": "stream",
     "text": [
      "[3, 7, 9, 1]\n"
     ]
    }
   ],
   "source": [
    "print(a)"
   ]
  },
  {
   "cell_type": "code",
   "execution_count": 66,
   "id": "919c81d5",
   "metadata": {},
   "outputs": [],
   "source": [
    "a.reverse()"
   ]
  },
  {
   "cell_type": "code",
   "execution_count": 67,
   "id": "ee98be4a",
   "metadata": {},
   "outputs": [
    {
     "name": "stdout",
     "output_type": "stream",
     "text": [
      "[1, 9, 7, 3]\n"
     ]
    }
   ],
   "source": [
    "print(a)"
   ]
  },
  {
   "cell_type": "markdown",
   "id": "445a46a7",
   "metadata": {},
   "source": [
    "## Sorting the list by Ascending"
   ]
  },
  {
   "cell_type": "code",
   "execution_count": 68,
   "id": "dccfc6ea",
   "metadata": {},
   "outputs": [],
   "source": [
    "a = [3,7,9,1]"
   ]
  },
  {
   "cell_type": "code",
   "execution_count": 69,
   "id": "72923092",
   "metadata": {},
   "outputs": [
    {
     "name": "stdout",
     "output_type": "stream",
     "text": [
      "[3, 7, 9, 1]\n"
     ]
    }
   ],
   "source": [
    "print(a)"
   ]
  },
  {
   "cell_type": "code",
   "execution_count": 70,
   "id": "de34063f",
   "metadata": {},
   "outputs": [],
   "source": [
    "a.sort()"
   ]
  },
  {
   "cell_type": "code",
   "execution_count": 71,
   "id": "338c7a05",
   "metadata": {},
   "outputs": [
    {
     "name": "stdout",
     "output_type": "stream",
     "text": [
      "[1, 3, 7, 9]\n"
     ]
    }
   ],
   "source": [
    "print(a)"
   ]
  },
  {
   "cell_type": "code",
   "execution_count": 72,
   "id": "3ef16255",
   "metadata": {},
   "outputs": [],
   "source": [
    "colors = ['orange','green','yellow','blue','white']"
   ]
  },
  {
   "cell_type": "code",
   "execution_count": 73,
   "id": "c6b876be",
   "metadata": {},
   "outputs": [
    {
     "name": "stdout",
     "output_type": "stream",
     "text": [
      "['orange', 'green', 'yellow', 'blue', 'white']\n"
     ]
    }
   ],
   "source": [
    "print(colors)"
   ]
  },
  {
   "cell_type": "code",
   "execution_count": 74,
   "id": "7947f408",
   "metadata": {},
   "outputs": [],
   "source": [
    "colors.sort()"
   ]
  },
  {
   "cell_type": "code",
   "execution_count": 75,
   "id": "78468a66",
   "metadata": {},
   "outputs": [
    {
     "name": "stdout",
     "output_type": "stream",
     "text": [
      "['blue', 'green', 'orange', 'white', 'yellow']\n"
     ]
    }
   ],
   "source": [
    "print(colors)"
   ]
  },
  {
   "cell_type": "markdown",
   "id": "946029fc",
   "metadata": {},
   "source": [
    "## Using Index() with List"
   ]
  },
  {
   "cell_type": "code",
   "execution_count": 79,
   "id": "bdbfa301",
   "metadata": {},
   "outputs": [],
   "source": [
    "a = [3,7,9,1]"
   ]
  },
  {
   "cell_type": "code",
   "execution_count": 80,
   "id": "fa4c97f1",
   "metadata": {},
   "outputs": [
    {
     "name": "stdout",
     "output_type": "stream",
     "text": [
      "[3, 7, 9, 1]\n"
     ]
    }
   ],
   "source": [
    "print(a)"
   ]
  },
  {
   "cell_type": "code",
   "execution_count": 84,
   "id": "8c29b5d4",
   "metadata": {},
   "outputs": [
    {
     "name": "stdout",
     "output_type": "stream",
     "text": [
      "2\n"
     ]
    }
   ],
   "source": [
    "print(a.index(9))"
   ]
  },
  {
   "cell_type": "markdown",
   "id": "4ace2547",
   "metadata": {},
   "source": [
    "## List insert another List [Nested List]"
   ]
  },
  {
   "cell_type": "code",
   "execution_count": 85,
   "id": "5a06a01b",
   "metadata": {},
   "outputs": [],
   "source": [
    "a = [9,[6,0,6,8],5,7]"
   ]
  },
  {
   "cell_type": "code",
   "execution_count": 86,
   "id": "9fa04c53",
   "metadata": {},
   "outputs": [
    {
     "name": "stdout",
     "output_type": "stream",
     "text": [
      "[6, 0, 6, 8]\n"
     ]
    }
   ],
   "source": [
    "print(a[1])"
   ]
  },
  {
   "cell_type": "code",
   "execution_count": 89,
   "id": "bd5fbb44",
   "metadata": {},
   "outputs": [
    {
     "name": "stdout",
     "output_type": "stream",
     "text": [
      "8\n"
     ]
    }
   ],
   "source": [
    "print(a[1][3])"
   ]
  },
  {
   "cell_type": "markdown",
   "id": "472888e9",
   "metadata": {},
   "source": [
    "## Insert Different Type of Values to List"
   ]
  },
  {
   "cell_type": "code",
   "execution_count": 90,
   "id": "1816534f",
   "metadata": {},
   "outputs": [],
   "source": [
    "a = ['Honda','Amaze',14.5,'Petrol',True,900000]"
   ]
  },
  {
   "cell_type": "code",
   "execution_count": 91,
   "id": "43e7c368",
   "metadata": {},
   "outputs": [
    {
     "name": "stdout",
     "output_type": "stream",
     "text": [
      "Amaze\n"
     ]
    }
   ],
   "source": [
    "print(a[1])"
   ]
  },
  {
   "cell_type": "code",
   "execution_count": 92,
   "id": "5bf7fb63",
   "metadata": {},
   "outputs": [
    {
     "name": "stdout",
     "output_type": "stream",
     "text": [
      "['Honda', 'Amaze', 14.5, 'Petrol', True, 900000]\n"
     ]
    }
   ],
   "source": [
    "print(a)"
   ]
  },
  {
   "cell_type": "markdown",
   "id": "a73656fa",
   "metadata": {},
   "source": [
    "## Forward and Backward Index"
   ]
  },
  {
   "cell_type": "code",
   "execution_count": 93,
   "id": "7f387b6b",
   "metadata": {},
   "outputs": [],
   "source": [
    "a = [3,1,5,8]"
   ]
  },
  {
   "cell_type": "code",
   "execution_count": 94,
   "id": "29174849",
   "metadata": {},
   "outputs": [
    {
     "name": "stdout",
     "output_type": "stream",
     "text": [
      "5\n"
     ]
    }
   ],
   "source": [
    "print(a[2])"
   ]
  },
  {
   "cell_type": "code",
   "execution_count": 96,
   "id": "5b2250a3",
   "metadata": {},
   "outputs": [
    {
     "name": "stdout",
     "output_type": "stream",
     "text": [
      "5\n"
     ]
    }
   ],
   "source": [
    "print(a[-2]) # -2 + size of the list, -2 + 4 = 2"
   ]
  },
  {
   "cell_type": "code",
   "execution_count": 99,
   "id": "1b21b46f",
   "metadata": {},
   "outputs": [
    {
     "name": "stdout",
     "output_type": "stream",
     "text": [
      "3\n"
     ]
    }
   ],
   "source": [
    "print(a[-4]) # -4 + 4 = 0"
   ]
  },
  {
   "cell_type": "markdown",
   "id": "91e1f215",
   "metadata": {},
   "source": [
    "## Slicing The Lists"
   ]
  },
  {
   "cell_type": "code",
   "execution_count": 100,
   "id": "65b87b1f",
   "metadata": {},
   "outputs": [],
   "source": [
    "a = [3,1,5,8]"
   ]
  },
  {
   "cell_type": "code",
   "execution_count": 102,
   "id": "71a55dd9",
   "metadata": {},
   "outputs": [
    {
     "name": "stdout",
     "output_type": "stream",
     "text": [
      "[1, 5]\n"
     ]
    }
   ],
   "source": [
    "print(a[1:3]) # start from Index want to element position 3\n",
    "# start is always index\n",
    "# index : position"
   ]
  },
  {
   "cell_type": "code",
   "execution_count": 103,
   "id": "c112c6e4",
   "metadata": {},
   "outputs": [
    {
     "name": "stdout",
     "output_type": "stream",
     "text": [
      "[3, 1, 5]\n"
     ]
    }
   ],
   "source": [
    "print(a[:3])"
   ]
  },
  {
   "cell_type": "markdown",
   "id": "0feb3d5c",
   "metadata": {},
   "source": [
    "## Finding the number of times the element repeated in list using count()"
   ]
  },
  {
   "cell_type": "code",
   "execution_count": 105,
   "id": "9b7499af",
   "metadata": {},
   "outputs": [],
   "source": [
    "a = [9,1,3,5,7,6,0,6,8,9,9,2]"
   ]
  },
  {
   "cell_type": "code",
   "execution_count": 108,
   "id": "b2f508c3",
   "metadata": {},
   "outputs": [
    {
     "name": "stdout",
     "output_type": "stream",
     "text": [
      "3\n"
     ]
    }
   ],
   "source": [
    "# how many time 9 repeated?\n",
    "print(a.count(9))"
   ]
  },
  {
   "cell_type": "markdown",
   "id": "5d33190c",
   "metadata": {},
   "source": [
    "## Finding maximum and minimum element from the list using max()"
   ]
  },
  {
   "cell_type": "code",
   "execution_count": 109,
   "id": "8d89ba1b",
   "metadata": {},
   "outputs": [
    {
     "name": "stdout",
     "output_type": "stream",
     "text": [
      "9\n"
     ]
    }
   ],
   "source": [
    "a = [9,1,3,5,7,6,0,6,8,9,9,2]\n",
    "\n",
    "print(max(a))"
   ]
  },
  {
   "cell_type": "code",
   "execution_count": 110,
   "id": "572346d7",
   "metadata": {},
   "outputs": [
    {
     "name": "stdout",
     "output_type": "stream",
     "text": [
      "0\n"
     ]
    }
   ],
   "source": [
    "print(min(a))"
   ]
  },
  {
   "cell_type": "markdown",
   "id": "7db35f3f",
   "metadata": {},
   "source": [
    "## Finding the sum of elements in the list"
   ]
  },
  {
   "cell_type": "code",
   "execution_count": 111,
   "id": "28f839aa",
   "metadata": {},
   "outputs": [
    {
     "name": "stdout",
     "output_type": "stream",
     "text": [
      "65\n"
     ]
    }
   ],
   "source": [
    "a = [9,1,3,5,7,6,0,6,8,9,9,2]\n",
    "\n",
    "print(sum(a))"
   ]
  },
  {
   "cell_type": "markdown",
   "id": "5c7d8952",
   "metadata": {},
   "source": [
    "## Finding data type using type()"
   ]
  },
  {
   "cell_type": "code",
   "execution_count": 112,
   "id": "26bed57b",
   "metadata": {},
   "outputs": [
    {
     "name": "stdout",
     "output_type": "stream",
     "text": [
      "<class 'list'>\n"
     ]
    }
   ],
   "source": [
    "a = [9,1,3,5,7,6,0,6,8,9,9,2]\n",
    "\n",
    "print(type(a))"
   ]
  },
  {
   "cell_type": "markdown",
   "id": "8730e6fb",
   "metadata": {},
   "source": [
    "## Deleting the list"
   ]
  },
  {
   "cell_type": "code",
   "execution_count": 114,
   "id": "d311e20e",
   "metadata": {},
   "outputs": [
    {
     "name": "stdout",
     "output_type": "stream",
     "text": [
      "[9, 1, 5, 7]\n"
     ]
    }
   ],
   "source": [
    "a = [9,1,5,7]\n",
    "print(a)"
   ]
  },
  {
   "cell_type": "code",
   "execution_count": 115,
   "id": "5aabda4b",
   "metadata": {},
   "outputs": [],
   "source": [
    "del a"
   ]
  },
  {
   "cell_type": "code",
   "execution_count": 116,
   "id": "1ab8d24d",
   "metadata": {},
   "outputs": [
    {
     "ename": "NameError",
     "evalue": "name 'a' is not defined",
     "output_type": "error",
     "traceback": [
      "\u001b[1;31m---------------------------------------------------------------------------\u001b[0m",
      "\u001b[1;31mNameError\u001b[0m                                 Traceback (most recent call last)",
      "Input \u001b[1;32mIn [116]\u001b[0m, in \u001b[0;36m<cell line: 1>\u001b[1;34m()\u001b[0m\n\u001b[1;32m----> 1\u001b[0m \u001b[38;5;28mprint\u001b[39m(\u001b[43ma\u001b[49m)\n",
      "\u001b[1;31mNameError\u001b[0m: name 'a' is not defined"
     ]
    }
   ],
   "source": [
    "print(a) # error"
   ]
  },
  {
   "cell_type": "markdown",
   "id": "ee265039",
   "metadata": {},
   "source": [
    "## using In + Not In with List"
   ]
  },
  {
   "cell_type": "code",
   "execution_count": 117,
   "id": "a3278f95",
   "metadata": {},
   "outputs": [
    {
     "name": "stdout",
     "output_type": "stream",
     "text": [
      "True\n"
     ]
    }
   ],
   "source": [
    "a = [9,1,5,7]\n",
    "\n",
    "print(5 in a)"
   ]
  },
  {
   "cell_type": "code",
   "execution_count": 118,
   "id": "4098af5b",
   "metadata": {},
   "outputs": [
    {
     "name": "stdout",
     "output_type": "stream",
     "text": [
      "False\n"
     ]
    }
   ],
   "source": [
    "print(15 in a)"
   ]
  },
  {
   "cell_type": "markdown",
   "id": "c23ecf29",
   "metadata": {},
   "source": [
    "## Concatening Two List Using Operator"
   ]
  },
  {
   "cell_type": "code",
   "execution_count": 119,
   "id": "e4094c42",
   "metadata": {},
   "outputs": [],
   "source": [
    "a = [9,1,5,7]\n",
    "b = [6,0,6,8]\n",
    "\n",
    "c = a+b"
   ]
  },
  {
   "cell_type": "code",
   "execution_count": 120,
   "id": "51b0cb0d",
   "metadata": {},
   "outputs": [
    {
     "name": "stdout",
     "output_type": "stream",
     "text": [
      "[9, 1, 5, 7, 6, 0, 6, 8]\n"
     ]
    }
   ],
   "source": [
    "print(c)"
   ]
  },
  {
   "cell_type": "markdown",
   "id": "26ec58c6",
   "metadata": {},
   "source": [
    "## Extend The Lists"
   ]
  },
  {
   "cell_type": "code",
   "execution_count": 124,
   "id": "e5721d2f",
   "metadata": {},
   "outputs": [
    {
     "name": "stdout",
     "output_type": "stream",
     "text": [
      "[9, 1, 5, 7, 6, 0, 6, 8]\n",
      "[6, 0, 6, 8]\n"
     ]
    }
   ],
   "source": [
    "a = [9,1,5,7]\n",
    "b = [6,0,6,8]\n",
    "\n",
    "a.extend(b)\n",
    "\n",
    "print(a)\n",
    "print(b)"
   ]
  },
  {
   "cell_type": "code",
   "execution_count": null,
   "id": "9647c0b3",
   "metadata": {},
   "outputs": [],
   "source": []
  }
 ],
 "metadata": {
  "kernelspec": {
   "display_name": "Python 3 (ipykernel)",
   "language": "python",
   "name": "python3"
  },
  "language_info": {
   "codemirror_mode": {
    "name": "ipython",
    "version": 3
   },
   "file_extension": ".py",
   "mimetype": "text/x-python",
   "name": "python",
   "nbconvert_exporter": "python",
   "pygments_lexer": "ipython3",
   "version": "3.9.12"
  }
 },
 "nbformat": 4,
 "nbformat_minor": 5
}
