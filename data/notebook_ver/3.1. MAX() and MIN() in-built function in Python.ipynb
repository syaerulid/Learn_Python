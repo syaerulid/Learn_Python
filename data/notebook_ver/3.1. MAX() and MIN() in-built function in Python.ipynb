{
 "cells": [
  {
   "cell_type": "code",
   "execution_count": 3,
   "id": "735be1b1",
   "metadata": {},
   "outputs": [],
   "source": [
    "ma = max(8,1,5,7,11,3,8)"
   ]
  },
  {
   "cell_type": "code",
   "execution_count": 4,
   "id": "3df7bddd",
   "metadata": {},
   "outputs": [
    {
     "name": "stdout",
     "output_type": "stream",
     "text": [
      "11\n"
     ]
    }
   ],
   "source": [
    "print(ma)"
   ]
  },
  {
   "cell_type": "code",
   "execution_count": 5,
   "id": "74dac4c9",
   "metadata": {},
   "outputs": [
    {
     "data": {
      "text/plain": [
       "11"
      ]
     },
     "execution_count": 5,
     "metadata": {},
     "output_type": "execute_result"
    }
   ],
   "source": [
    "ma"
   ]
  },
  {
   "cell_type": "code",
   "execution_count": 7,
   "id": "928a00c4",
   "metadata": {},
   "outputs": [],
   "source": [
    "mi = min(\"orange\",\"green\",\"yellow\",\"blue\") # blue will came first, alphabetical"
   ]
  },
  {
   "cell_type": "code",
   "execution_count": 8,
   "id": "877a8c37",
   "metadata": {},
   "outputs": [
    {
     "name": "stdout",
     "output_type": "stream",
     "text": [
      "blue\n"
     ]
    }
   ],
   "source": [
    "print(mi)"
   ]
  },
  {
   "cell_type": "code",
   "execution_count": null,
   "id": "3213deb9",
   "metadata": {},
   "outputs": [],
   "source": []
  }
 ],
 "metadata": {
  "kernelspec": {
   "display_name": "Python 3 (ipykernel)",
   "language": "python",
   "name": "python3"
  },
  "language_info": {
   "codemirror_mode": {
    "name": "ipython",
    "version": 3
   },
   "file_extension": ".py",
   "mimetype": "text/x-python",
   "name": "python",
   "nbconvert_exporter": "python",
   "pygments_lexer": "ipython3",
   "version": "3.9.12"
  }
 },
 "nbformat": 4,
 "nbformat_minor": 5
}
