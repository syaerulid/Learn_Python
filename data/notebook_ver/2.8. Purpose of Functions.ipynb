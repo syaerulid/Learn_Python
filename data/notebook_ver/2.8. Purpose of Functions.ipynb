{
 "cells": [
  {
   "cell_type": "markdown",
   "id": "1da5699d",
   "metadata": {},
   "source": [
    "Purpose :\n",
    "   - Repetition of the code can be resolved using functions"
   ]
  },
  {
   "cell_type": "markdown",
   "id": "574ad026",
   "metadata": {},
   "source": [
    "# Repetition"
   ]
  },
  {
   "cell_type": "code",
   "execution_count": 1,
   "id": "5fff0e79",
   "metadata": {},
   "outputs": [
    {
     "name": "stdout",
     "output_type": "stream",
     "text": [
      "9\n"
     ]
    }
   ],
   "source": [
    "a = 5\n",
    "b = 4\n",
    "sum = a+b\n",
    "print(sum)"
   ]
  },
  {
   "cell_type": "code",
   "execution_count": 2,
   "id": "15b2f571",
   "metadata": {},
   "outputs": [
    {
     "name": "stdout",
     "output_type": "stream",
     "text": [
      "8\n"
     ]
    }
   ],
   "source": [
    "c = 3\n",
    "d = 5\n",
    "sum = c+d\n",
    "print(sum)"
   ]
  },
  {
   "cell_type": "code",
   "execution_count": 3,
   "id": "37734f99",
   "metadata": {},
   "outputs": [
    {
     "name": "stdout",
     "output_type": "stream",
     "text": [
      "6\n"
     ]
    }
   ],
   "source": [
    "e = 2\n",
    "f = 4\n",
    "sum = e+f\n",
    "print(sum)"
   ]
  },
  {
   "cell_type": "markdown",
   "id": "1f4aa54b",
   "metadata": {},
   "source": [
    "# Use Function so its more eficient"
   ]
  },
  {
   "cell_type": "code",
   "execution_count": 4,
   "id": "caa15029",
   "metadata": {},
   "outputs": [],
   "source": [
    "def sum(a,b):\n",
    "    s = a+b\n",
    "    print(s)"
   ]
  },
  {
   "cell_type": "code",
   "execution_count": 5,
   "id": "f435884d",
   "metadata": {},
   "outputs": [
    {
     "name": "stdout",
     "output_type": "stream",
     "text": [
      "6\n"
     ]
    }
   ],
   "source": [
    "sum(2,4)"
   ]
  },
  {
   "cell_type": "code",
   "execution_count": null,
   "id": "bbc7a73b",
   "metadata": {},
   "outputs": [],
   "source": []
  }
 ],
 "metadata": {
  "kernelspec": {
   "display_name": "Python 3 (ipykernel)",
   "language": "python",
   "name": "python3"
  },
  "language_info": {
   "codemirror_mode": {
    "name": "ipython",
    "version": 3
   },
   "file_extension": ".py",
   "mimetype": "text/x-python",
   "name": "python",
   "nbconvert_exporter": "python",
   "pygments_lexer": "ipython3",
   "version": "3.9.12"
  }
 },
 "nbformat": 4,
 "nbformat_minor": 5
}
