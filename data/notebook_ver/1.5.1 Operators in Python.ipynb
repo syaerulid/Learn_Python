{
 "cells": [
  {
   "cell_type": "markdown",
   "id": "7849330e",
   "metadata": {},
   "source": [
    "- Operators are Symbols\n",
    "- Types of Operators in Python\n",
    "    - Arithmetic Operators\n",
    "        - Addition +\n",
    "        - Substraction -\n",
    "        - Multiplication *\n",
    "        - Division /\n",
    "        - Modulus %\n",
    "        - Exponenetial **\n",
    "        - Floor Division //\n",
    "    - Assignment Operators\n",
    "        - Assignment =\n",
    "        - +=\n",
    "        - -=\n",
    "        - *=\n",
    "        - /=\n",
    "        - %=\n",
    "        - //=\n",
    "        - **=\n",
    "    - Relational Operators\n",
    "         - Equal ==\n",
    "         - Not Equal !=\n",
    "         - Greater Than >\n",
    "         - Less Than <\n",
    "         - Greater Than or Equal To >=\n",
    "         - Less Than or Equal To <=\n",
    "         \n",
    "     - Logical Operators\n",
    "         - OR\n",
    "         - AND\n",
    "         - NOT"
   ]
  },
  {
   "cell_type": "markdown",
   "id": "8252bedc",
   "metadata": {},
   "source": [
    "# Arithmetic Operators"
   ]
  },
  {
   "cell_type": "code",
   "execution_count": 7,
   "id": "f0f93769",
   "metadata": {},
   "outputs": [
    {
     "name": "stdout",
     "output_type": "stream",
     "text": [
      "8\n"
     ]
    }
   ],
   "source": [
    "a = 6\n",
    "b = 2\n",
    "\n",
    "print(a+b)"
   ]
  },
  {
   "cell_type": "code",
   "execution_count": 8,
   "id": "73aea5f8",
   "metadata": {},
   "outputs": [
    {
     "name": "stdout",
     "output_type": "stream",
     "text": [
      "12\n"
     ]
    }
   ],
   "source": [
    "print(a*b)"
   ]
  },
  {
   "cell_type": "code",
   "execution_count": 9,
   "id": "ab558076",
   "metadata": {},
   "outputs": [
    {
     "name": "stdout",
     "output_type": "stream",
     "text": [
      "3.0\n"
     ]
    }
   ],
   "source": [
    "print(a/b)"
   ]
  },
  {
   "cell_type": "code",
   "execution_count": 10,
   "id": "836217f8",
   "metadata": {},
   "outputs": [
    {
     "name": "stdout",
     "output_type": "stream",
     "text": [
      "4\n"
     ]
    }
   ],
   "source": [
    "print(a-b)"
   ]
  },
  {
   "cell_type": "code",
   "execution_count": 11,
   "id": "5217d7ee",
   "metadata": {},
   "outputs": [
    {
     "name": "stdout",
     "output_type": "stream",
     "text": [
      "36\n"
     ]
    }
   ],
   "source": [
    "print(a**b)"
   ]
  },
  {
   "cell_type": "code",
   "execution_count": 12,
   "id": "361eed3a",
   "metadata": {},
   "outputs": [
    {
     "name": "stdout",
     "output_type": "stream",
     "text": [
      "0\n"
     ]
    }
   ],
   "source": [
    "print(a%b) # habis dibagi"
   ]
  },
  {
   "cell_type": "code",
   "execution_count": 13,
   "id": "346164b6",
   "metadata": {},
   "outputs": [
    {
     "name": "stdout",
     "output_type": "stream",
     "text": [
      "3\n"
     ]
    }
   ],
   "source": [
    "print(a//b)"
   ]
  },
  {
   "cell_type": "markdown",
   "id": "b8cbe662",
   "metadata": {},
   "source": [
    "# Assignment Operators"
   ]
  },
  {
   "cell_type": "code",
   "execution_count": 37,
   "id": "a4f8e690",
   "metadata": {},
   "outputs": [],
   "source": [
    "a = 2\n",
    "b = 5"
   ]
  },
  {
   "cell_type": "code",
   "execution_count": 21,
   "id": "1e8c9ec9",
   "metadata": {},
   "outputs": [
    {
     "name": "stdout",
     "output_type": "stream",
     "text": [
      "7\n"
     ]
    }
   ],
   "source": [
    "a+=b # is like i said a = a+b\n",
    "print(a)"
   ]
  },
  {
   "cell_type": "code",
   "execution_count": 23,
   "id": "ba4b9ec9",
   "metadata": {},
   "outputs": [
    {
     "name": "stdout",
     "output_type": "stream",
     "text": [
      "-3\n"
     ]
    }
   ],
   "source": [
    "a-=b # is like i said a = a-b\n",
    "print(a)"
   ]
  },
  {
   "cell_type": "code",
   "execution_count": 28,
   "id": "f769ff9c",
   "metadata": {},
   "outputs": [
    {
     "name": "stdout",
     "output_type": "stream",
     "text": [
      "10\n"
     ]
    }
   ],
   "source": [
    "a*=b # is like i said a = a*b\n",
    "print(a)"
   ]
  },
  {
   "cell_type": "code",
   "execution_count": 34,
   "id": "4fb59e07",
   "metadata": {},
   "outputs": [
    {
     "name": "stdout",
     "output_type": "stream",
     "text": [
      "2\n"
     ]
    }
   ],
   "source": [
    "a%=b # is like i said a = a%b\n",
    "print(a)"
   ]
  },
  {
   "cell_type": "code",
   "execution_count": 38,
   "id": "6385a7f6",
   "metadata": {},
   "outputs": [
    {
     "name": "stdout",
     "output_type": "stream",
     "text": [
      "0\n"
     ]
    }
   ],
   "source": [
    "a//=b # is like i said a = a//b\n",
    "print(a)"
   ]
  },
  {
   "cell_type": "markdown",
   "id": "340cfa61",
   "metadata": {},
   "source": [
    "# Relational Operators"
   ]
  },
  {
   "cell_type": "code",
   "execution_count": 39,
   "id": "903645ae",
   "metadata": {},
   "outputs": [],
   "source": [
    "a = 5\n",
    "b = 4\n",
    "c = 3\n",
    "d = 3\n",
    "e = 9\n"
   ]
  },
  {
   "cell_type": "code",
   "execution_count": 40,
   "id": "e0a1e122",
   "metadata": {},
   "outputs": [
    {
     "name": "stdout",
     "output_type": "stream",
     "text": [
      "False\n"
     ]
    }
   ],
   "source": [
    "print(a==b)"
   ]
  },
  {
   "cell_type": "code",
   "execution_count": 41,
   "id": "5c7880fa",
   "metadata": {},
   "outputs": [
    {
     "name": "stdout",
     "output_type": "stream",
     "text": [
      "True\n"
     ]
    }
   ],
   "source": [
    "print(a!=b)"
   ]
  },
  {
   "cell_type": "code",
   "execution_count": 42,
   "id": "3a5d3cfe",
   "metadata": {},
   "outputs": [
    {
     "name": "stdout",
     "output_type": "stream",
     "text": [
      "False\n"
     ]
    }
   ],
   "source": [
    "print(c>b)"
   ]
  },
  {
   "cell_type": "code",
   "execution_count": 43,
   "id": "f8b5b498",
   "metadata": {},
   "outputs": [
    {
     "name": "stdout",
     "output_type": "stream",
     "text": [
      "True\n"
     ]
    }
   ],
   "source": [
    "print(a>b)"
   ]
  },
  {
   "cell_type": "code",
   "execution_count": 44,
   "id": "15540853",
   "metadata": {},
   "outputs": [
    {
     "name": "stdout",
     "output_type": "stream",
     "text": [
      "True\n"
     ]
    }
   ],
   "source": [
    "print(e>=b)"
   ]
  },
  {
   "cell_type": "code",
   "execution_count": 45,
   "id": "cf9c8104",
   "metadata": {},
   "outputs": [
    {
     "name": "stdout",
     "output_type": "stream",
     "text": [
      "False\n"
     ]
    }
   ],
   "source": [
    "print(b<=d)"
   ]
  },
  {
   "cell_type": "markdown",
   "id": "bd43cd57",
   "metadata": {},
   "source": [
    "# Logical Operators"
   ]
  },
  {
   "cell_type": "code",
   "execution_count": 47,
   "id": "2b31b506",
   "metadata": {},
   "outputs": [
    {
     "data": {
      "text/plain": [
       "'\\n\\nTrue + True = True\\nFalse + True = False\\nTrue + False = False\\nFalse + False = False\\n\\n## OR\\nFalse + False = False\\nTrue + False = True\\nFalse + True = True\\nTrue + True = True\\n'"
      ]
     },
     "execution_count": 47,
     "metadata": {},
     "output_type": "execute_result"
    }
   ],
   "source": [
    "## AND\n",
    "\"\"\"\n",
    "\n",
    "True + True = True\n",
    "False + True = False\n",
    "True + False = False\n",
    "False + False = False\n",
    "\n",
    "## OR\n",
    "False + False = False\n",
    "True + False = True\n",
    "False + True = True\n",
    "True + True = True\n",
    "\"\"\""
   ]
  },
  {
   "cell_type": "code",
   "execution_count": 49,
   "id": "05265ffe",
   "metadata": {},
   "outputs": [
    {
     "name": "stdout",
     "output_type": "stream",
     "text": [
      "False\n"
     ]
    }
   ],
   "source": [
    "a = 5\n",
    "b = 4\n",
    "\n",
    "print(not a>b) # this provide true but with not will return false"
   ]
  },
  {
   "cell_type": "code",
   "execution_count": null,
   "id": "d00f72cf",
   "metadata": {},
   "outputs": [],
   "source": []
  }
 ],
 "metadata": {
  "kernelspec": {
   "display_name": "Python 3 (ipykernel)",
   "language": "python",
   "name": "python3"
  },
  "language_info": {
   "codemirror_mode": {
    "name": "ipython",
    "version": 3
   },
   "file_extension": ".py",
   "mimetype": "text/x-python",
   "name": "python",
   "nbconvert_exporter": "python",
   "pygments_lexer": "ipython3",
   "version": "3.9.12"
  }
 },
 "nbformat": 4,
 "nbformat_minor": 5
}
