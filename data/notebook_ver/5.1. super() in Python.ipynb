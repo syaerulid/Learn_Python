{
 "cells": [
  {
   "cell_type": "markdown",
   "id": "30a629ff",
   "metadata": {},
   "source": [
    "super()\n",
    "   - Accessing or Calling the parent class properties (variables and methods) from child class, which are having the same name       as child class properties\n",
    "   - If the child class doesn't have any constructor and the parent class has a constructor, it will be automatically invoked        on creating an object for child class\n",
    "   - But if the child class has its own constructor, then the parent class constructor won't be invoked and we have to call it      explicitly from child class constructor using super()\n",
    "    "
   ]
  },
  {
   "cell_type": "code",
   "execution_count": 1,
   "id": "4726ae00",
   "metadata": {},
   "outputs": [],
   "source": [
    "class A:\n",
    "    a = 5\n",
    "    \n",
    "    def sample(self):\n",
    "        print(\"Inside sample method of Class A\")\n",
    "        \n",
    "class B(A):\n",
    "    a = 10\n",
    "    \n",
    "    def sample(self):\n",
    "        print(\"Inside sample method of Class B\")\n",
    "        \n",
    "    def print_properties(self):\n",
    "        print(self.a)\n",
    "        self.sample()\n",
    "        \n",
    "obj = B()"
   ]
  },
  {
   "cell_type": "code",
   "execution_count": 2,
   "id": "9ad8f763",
   "metadata": {},
   "outputs": [
    {
     "name": "stdout",
     "output_type": "stream",
     "text": [
      "10\n",
      "Inside sample method of Class B\n"
     ]
    }
   ],
   "source": [
    "obj.print_properties()"
   ]
  },
  {
   "cell_type": "code",
   "execution_count": 5,
   "id": "69944067",
   "metadata": {},
   "outputs": [],
   "source": [
    "class A:\n",
    "    a = 5\n",
    "    \n",
    "    def sample(self):\n",
    "        print(\"Inside sample method of Class A\")\n",
    "        \n",
    "class B(A):\n",
    "    a = 10\n",
    "    \n",
    "    def sample(self):\n",
    "        print(\"Inside sample method of Class B\")\n",
    "        \n",
    "    def print_properties(self):\n",
    "        print(super().a)\n",
    "        super().sample()\n",
    "        \n",
    "obj = B()"
   ]
  },
  {
   "cell_type": "code",
   "execution_count": 6,
   "id": "d8fac1e2",
   "metadata": {},
   "outputs": [
    {
     "name": "stdout",
     "output_type": "stream",
     "text": [
      "5\n",
      "Inside sample method of Class A\n"
     ]
    }
   ],
   "source": [
    "obj.print_properties()"
   ]
  },
  {
   "cell_type": "code",
   "execution_count": 7,
   "id": "be8e90e5",
   "metadata": {},
   "outputs": [
    {
     "name": "stdout",
     "output_type": "stream",
     "text": [
      "Inisde __init__ method of class A\n"
     ]
    }
   ],
   "source": [
    "class A:\n",
    "    def __init__(self):\n",
    "        print(\"Inisde __init__ method of class A\")\n",
    "        \n",
    "class B(A):\n",
    "    pass\n",
    "\n",
    "obj = B()"
   ]
  },
  {
   "cell_type": "code",
   "execution_count": 9,
   "id": "10ad05a4",
   "metadata": {},
   "outputs": [
    {
     "name": "stdout",
     "output_type": "stream",
     "text": [
      "Inside __init__ method of class A\n",
      "Inside __init__ method of class B\n"
     ]
    }
   ],
   "source": [
    "class A:\n",
    "    def __init__(self):\n",
    "        print(\"Inside __init__ method of class A\")\n",
    "        \n",
    "class B(A):\n",
    "    def __init__(self):\n",
    "        super().__init__()\n",
    "        print(\"Inside __init__ method of class B\")\n",
    "\n",
    "obj = B()"
   ]
  },
  {
   "cell_type": "code",
   "execution_count": null,
   "id": "cebdb9e9",
   "metadata": {},
   "outputs": [],
   "source": []
  }
 ],
 "metadata": {
  "kernelspec": {
   "display_name": "Python 3 (ipykernel)",
   "language": "python",
   "name": "python3"
  },
  "language_info": {
   "codemirror_mode": {
    "name": "ipython",
    "version": 3
   },
   "file_extension": ".py",
   "mimetype": "text/x-python",
   "name": "python",
   "nbconvert_exporter": "python",
   "pygments_lexer": "ipython3",
   "version": "3.9.12"
  }
 },
 "nbformat": 4,
 "nbformat_minor": 5
}
