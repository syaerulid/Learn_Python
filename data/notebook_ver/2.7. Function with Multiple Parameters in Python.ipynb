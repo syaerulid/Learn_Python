{
 "cells": [
  {
   "cell_type": "markdown",
   "id": "7ecf14df",
   "metadata": {},
   "source": [
    "# Multiple Parameters"
   ]
  },
  {
   "cell_type": "code",
   "execution_count": 1,
   "id": "b32194af",
   "metadata": {},
   "outputs": [],
   "source": [
    "def sum(a,b,c,d):\n",
    "    print(a+b+c+d)"
   ]
  },
  {
   "cell_type": "code",
   "execution_count": 4,
   "id": "746cc885",
   "metadata": {},
   "outputs": [
    {
     "name": "stdout",
     "output_type": "stream",
     "text": [
      "17\n"
     ]
    }
   ],
   "source": [
    "sum(1,4,5,7)"
   ]
  },
  {
   "cell_type": "markdown",
   "id": "7136fab1",
   "metadata": {},
   "source": [
    "# Function can return the data"
   ]
  },
  {
   "cell_type": "code",
   "execution_count": 5,
   "id": "a831e376",
   "metadata": {},
   "outputs": [],
   "source": [
    "def sum(a,b):\n",
    "    return a+b"
   ]
  },
  {
   "cell_type": "code",
   "execution_count": 9,
   "id": "04532a37",
   "metadata": {},
   "outputs": [
    {
     "data": {
      "text/plain": [
       "9"
      ]
     },
     "execution_count": 9,
     "metadata": {},
     "output_type": "execute_result"
    }
   ],
   "source": [
    "sum(5,4)"
   ]
  },
  {
   "cell_type": "code",
   "execution_count": 7,
   "id": "e3dcea46",
   "metadata": {},
   "outputs": [
    {
     "data": {
      "text/plain": [
       "15"
      ]
     },
     "execution_count": 7,
     "metadata": {},
     "output_type": "execute_result"
    }
   ],
   "source": [
    "sum(7,8)"
   ]
  },
  {
   "cell_type": "code",
   "execution_count": 10,
   "id": "2a7202ea",
   "metadata": {},
   "outputs": [],
   "source": [
    "c = sum(5,4)"
   ]
  },
  {
   "cell_type": "code",
   "execution_count": 11,
   "id": "cf375f82",
   "metadata": {},
   "outputs": [
    {
     "name": "stdout",
     "output_type": "stream",
     "text": [
      "9\n"
     ]
    }
   ],
   "source": [
    "print(c)"
   ]
  },
  {
   "cell_type": "code",
   "execution_count": 12,
   "id": "b1def25a",
   "metadata": {},
   "outputs": [
    {
     "data": {
      "text/plain": [
       "9"
      ]
     },
     "execution_count": 12,
     "metadata": {},
     "output_type": "execute_result"
    }
   ],
   "source": [
    "c"
   ]
  },
  {
   "cell_type": "code",
   "execution_count": null,
   "id": "ff4f5f79",
   "metadata": {},
   "outputs": [],
   "source": []
  }
 ],
 "metadata": {
  "kernelspec": {
   "display_name": "Python 3 (ipykernel)",
   "language": "python",
   "name": "python3"
  },
  "language_info": {
   "codemirror_mode": {
    "name": "ipython",
    "version": 3
   },
   "file_extension": ".py",
   "mimetype": "text/x-python",
   "name": "python",
   "nbconvert_exporter": "python",
   "pygments_lexer": "ipython3",
   "version": "3.9.12"
  }
 },
 "nbformat": 4,
 "nbformat_minor": 5
}
