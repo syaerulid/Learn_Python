{
 "cells": [
  {
   "cell_type": "code",
   "execution_count": 1,
   "id": "3c916dd1",
   "metadata": {},
   "outputs": [],
   "source": [
    "first_name = \"Syaerul\""
   ]
  },
  {
   "cell_type": "code",
   "execution_count": 2,
   "id": "9b3c5fa8",
   "metadata": {},
   "outputs": [],
   "source": [
    "last_name = 'Rochman'"
   ]
  },
  {
   "cell_type": "code",
   "execution_count": 3,
   "id": "9232a6b6",
   "metadata": {},
   "outputs": [],
   "source": [
    "location = str(\"Indonesia\")"
   ]
  },
  {
   "cell_type": "code",
   "execution_count": 4,
   "id": "07761aae",
   "metadata": {},
   "outputs": [
    {
     "name": "stdout",
     "output_type": "stream",
     "text": [
      "Syaerul\n",
      "Rochman\n",
      "Indonesia\n"
     ]
    }
   ],
   "source": [
    "print(first_name)\n",
    "print(last_name)\n",
    "print(location)"
   ]
  },
  {
   "cell_type": "code",
   "execution_count": 5,
   "id": "4773e02f",
   "metadata": {},
   "outputs": [
    {
     "data": {
      "text/plain": [
       "str"
      ]
     },
     "execution_count": 5,
     "metadata": {},
     "output_type": "execute_result"
    }
   ],
   "source": [
    "type(first_name)"
   ]
  },
  {
   "cell_type": "markdown",
   "id": "c9037772",
   "metadata": {},
   "source": [
    "## Strings work Like Collections List in Python"
   ]
  },
  {
   "cell_type": "code",
   "execution_count": 6,
   "id": "e2b40d54",
   "metadata": {},
   "outputs": [],
   "source": [
    "first_name = \"Syaerul\""
   ]
  },
  {
   "cell_type": "code",
   "execution_count": 7,
   "id": "30677dfd",
   "metadata": {},
   "outputs": [
    {
     "name": "stdout",
     "output_type": "stream",
     "text": [
      "S\n"
     ]
    }
   ],
   "source": [
    "print(first_name[0])"
   ]
  },
  {
   "cell_type": "markdown",
   "id": "875da3fe",
   "metadata": {},
   "source": [
    "## Loops in Strings"
   ]
  },
  {
   "cell_type": "code",
   "execution_count": 9,
   "id": "d1cf60b9",
   "metadata": {},
   "outputs": [
    {
     "name": "stdout",
     "output_type": "stream",
     "text": [
      "S\n",
      "y\n",
      "a\n",
      "e\n",
      "r\n",
      "u\n",
      "l\n"
     ]
    }
   ],
   "source": [
    "for i in first_name:\n",
    "    print(i)"
   ]
  },
  {
   "cell_type": "markdown",
   "id": "5eab729b",
   "metadata": {},
   "source": [
    "## len Strings()"
   ]
  },
  {
   "cell_type": "code",
   "execution_count": 12,
   "id": "7fdc3282",
   "metadata": {},
   "outputs": [
    {
     "name": "stdout",
     "output_type": "stream",
     "text": [
      "7\n"
     ]
    }
   ],
   "source": [
    "print(len(first_name))"
   ]
  },
  {
   "cell_type": "code",
   "execution_count": 15,
   "id": "a511427e",
   "metadata": {},
   "outputs": [
    {
     "name": "stdout",
     "output_type": "stream",
     "text": [
      "S\n",
      "y\n",
      "a\n",
      "e\n",
      "r\n",
      "u\n",
      "l\n"
     ]
    }
   ],
   "source": [
    "for i in range(len(first_name)):\n",
    "    print(first_name[i])"
   ]
  },
  {
   "cell_type": "markdown",
   "id": "c227fb8d",
   "metadata": {},
   "source": [
    "## In and Not In with Strings"
   ]
  },
  {
   "cell_type": "code",
   "execution_count": 16,
   "id": "739c1528",
   "metadata": {},
   "outputs": [
    {
     "name": "stdout",
     "output_type": "stream",
     "text": [
      "True\n"
     ]
    }
   ],
   "source": [
    "print(\"rul\" in first_name)"
   ]
  },
  {
   "cell_type": "code",
   "execution_count": 17,
   "id": "6015ba2b",
   "metadata": {},
   "outputs": [
    {
     "name": "stdout",
     "output_type": "stream",
     "text": [
      "False\n"
     ]
    }
   ],
   "source": [
    "print(\"za\" in first_name)"
   ]
  },
  {
   "cell_type": "markdown",
   "id": "08996eba",
   "metadata": {},
   "source": [
    "## Slicing with Strings"
   ]
  },
  {
   "cell_type": "code",
   "execution_count": 18,
   "id": "17522c9e",
   "metadata": {},
   "outputs": [
    {
     "name": "stdout",
     "output_type": "stream",
     "text": [
      "y\n"
     ]
    }
   ],
   "source": [
    "print(first_name[1:2]) # Index : Position"
   ]
  },
  {
   "cell_type": "code",
   "execution_count": 19,
   "id": "ece7f9ce",
   "metadata": {},
   "outputs": [
    {
     "name": "stdout",
     "output_type": "stream",
     "text": [
      "Sya\n"
     ]
    }
   ],
   "source": [
    "print(first_name[:3])"
   ]
  },
  {
   "cell_type": "markdown",
   "id": "d7fc35e5",
   "metadata": {},
   "source": [
    "# Modifiying Strings"
   ]
  },
  {
   "cell_type": "markdown",
   "id": "211d31f1",
   "metadata": {},
   "source": [
    "## Upper and Lower"
   ]
  },
  {
   "cell_type": "code",
   "execution_count": 21,
   "id": "3bd5f96c",
   "metadata": {},
   "outputs": [],
   "source": [
    "first_name = \"Syaerul\""
   ]
  },
  {
   "cell_type": "code",
   "execution_count": 22,
   "id": "8647480f",
   "metadata": {},
   "outputs": [
    {
     "name": "stdout",
     "output_type": "stream",
     "text": [
      "SYAERUL\n"
     ]
    }
   ],
   "source": [
    "print(first_name.upper())"
   ]
  },
  {
   "cell_type": "code",
   "execution_count": 23,
   "id": "cfb49745",
   "metadata": {},
   "outputs": [
    {
     "name": "stdout",
     "output_type": "stream",
     "text": [
      "syaerul\n"
     ]
    }
   ],
   "source": [
    "print(first_name.lower())"
   ]
  },
  {
   "cell_type": "markdown",
   "id": "b70a853c",
   "metadata": {},
   "source": [
    "## Strip"
   ]
  },
  {
   "cell_type": "markdown",
   "id": "188be18e",
   "metadata": {},
   "source": [
    "- Remove leading and trailing spaces"
   ]
  },
  {
   "cell_type": "code",
   "execution_count": 24,
   "id": "1d60530d",
   "metadata": {},
   "outputs": [],
   "source": [
    "name = \"    Syaerul Rochman    \""
   ]
  },
  {
   "cell_type": "code",
   "execution_count": 25,
   "id": "ebe4e56c",
   "metadata": {},
   "outputs": [
    {
     "name": "stdout",
     "output_type": "stream",
     "text": [
      "Syaerul Rochman\n"
     ]
    }
   ],
   "source": [
    "print(name.strip())"
   ]
  },
  {
   "cell_type": "markdown",
   "id": "0c937c34",
   "metadata": {},
   "source": [
    "## Replace"
   ]
  },
  {
   "cell_type": "code",
   "execution_count": 26,
   "id": "fc882934",
   "metadata": {},
   "outputs": [],
   "source": [
    "name = \"Syaerul Rochman\""
   ]
  },
  {
   "cell_type": "code",
   "execution_count": 27,
   "id": "973cc8ed",
   "metadata": {},
   "outputs": [
    {
     "name": "stdout",
     "output_type": "stream",
     "text": [
      "Syaerul Richman\n"
     ]
    }
   ],
   "source": [
    "print(name.replace(\"o\",\"i\"))"
   ]
  },
  {
   "cell_type": "markdown",
   "id": "92bfb4a9",
   "metadata": {},
   "source": [
    "## Split()"
   ]
  },
  {
   "cell_type": "code",
   "execution_count": 29,
   "id": "a086d6f4",
   "metadata": {},
   "outputs": [],
   "source": [
    "name = \"My name is Syaerul Rochman\""
   ]
  },
  {
   "cell_type": "code",
   "execution_count": 32,
   "id": "d5cdadec",
   "metadata": {},
   "outputs": [],
   "source": [
    "words = name.split(\" \")"
   ]
  },
  {
   "cell_type": "code",
   "execution_count": 33,
   "id": "b2bf1657",
   "metadata": {},
   "outputs": [
    {
     "name": "stdout",
     "output_type": "stream",
     "text": [
      "My\n",
      "name\n",
      "is\n",
      "Syaerul\n",
      "Rochman\n"
     ]
    }
   ],
   "source": [
    "for word in words:\n",
    "    print(word)"
   ]
  },
  {
   "cell_type": "code",
   "execution_count": 34,
   "id": "6a678c1e",
   "metadata": {},
   "outputs": [
    {
     "name": "stdout",
     "output_type": "stream",
     "text": [
      "Syaerul\n"
     ]
    }
   ],
   "source": [
    "print(words[3])"
   ]
  },
  {
   "cell_type": "markdown",
   "id": "31c4ace0",
   "metadata": {},
   "source": [
    "## Strings are Immutable"
   ]
  },
  {
   "cell_type": "code",
   "execution_count": 35,
   "id": "7fb744aa",
   "metadata": {},
   "outputs": [],
   "source": [
    "name = \"Syaerul\""
   ]
  },
  {
   "cell_type": "code",
   "execution_count": 37,
   "id": "32d0512a",
   "metadata": {},
   "outputs": [
    {
     "name": "stdout",
     "output_type": "stream",
     "text": [
      "2330112725424\n"
     ]
    }
   ],
   "source": [
    "print(id(name))"
   ]
  },
  {
   "cell_type": "code",
   "execution_count": 38,
   "id": "7928c4fb",
   "metadata": {},
   "outputs": [],
   "source": [
    "name = \"Erul\""
   ]
  },
  {
   "cell_type": "code",
   "execution_count": 39,
   "id": "8c7013f4",
   "metadata": {},
   "outputs": [
    {
     "name": "stdout",
     "output_type": "stream",
     "text": [
      "2330141073264\n"
     ]
    }
   ],
   "source": [
    "print(id(name))"
   ]
  },
  {
   "cell_type": "markdown",
   "id": "0cdbd19d",
   "metadata": {},
   "source": [
    "## Capitalize"
   ]
  },
  {
   "cell_type": "code",
   "execution_count": 40,
   "id": "44a93174",
   "metadata": {},
   "outputs": [],
   "source": [
    "name = \"my name is cholifah turizah\""
   ]
  },
  {
   "cell_type": "code",
   "execution_count": 41,
   "id": "6eb8b2cb",
   "metadata": {},
   "outputs": [
    {
     "name": "stdout",
     "output_type": "stream",
     "text": [
      "My name is cholifah turizah\n"
     ]
    }
   ],
   "source": [
    "print(name.capitalize()) # capitalize the first letter"
   ]
  },
  {
   "cell_type": "code",
   "execution_count": 42,
   "id": "160b82e3",
   "metadata": {},
   "outputs": [
    {
     "name": "stdout",
     "output_type": "stream",
     "text": [
      "My Name Is Cholifah Turizah\n"
     ]
    }
   ],
   "source": [
    "print(name.title()) # capitalize first letter for each every word"
   ]
  },
  {
   "cell_type": "markdown",
   "id": "74cef94c",
   "metadata": {},
   "source": [
    "## Count"
   ]
  },
  {
   "cell_type": "code",
   "execution_count": 44,
   "id": "99fb79c1",
   "metadata": {},
   "outputs": [
    {
     "data": {
      "text/plain": [
       "1"
      ]
     },
     "execution_count": 44,
     "metadata": {},
     "output_type": "execute_result"
    }
   ],
   "source": [
    "name.count(\"my\")"
   ]
  },
  {
   "cell_type": "markdown",
   "id": "2744c9be",
   "metadata": {},
   "source": [
    "## Find Word"
   ]
  },
  {
   "cell_type": "code",
   "execution_count": 46,
   "id": "ba1c7709",
   "metadata": {},
   "outputs": [
    {
     "name": "stdout",
     "output_type": "stream",
     "text": [
      "11\n"
     ]
    }
   ],
   "source": [
    "print(name.find(\"cho\")) ## space is counted"
   ]
  },
  {
   "cell_type": "markdown",
   "id": "0c0326ce",
   "metadata": {},
   "source": [
    "## Compare Strings"
   ]
  },
  {
   "cell_type": "code",
   "execution_count": 47,
   "id": "3d4b18c9",
   "metadata": {},
   "outputs": [],
   "source": [
    "name_one = \"Syaerul\"\n",
    "name_two = \"Syaerul\"\n",
    "name_three = \"Cho\""
   ]
  },
  {
   "cell_type": "code",
   "execution_count": 48,
   "id": "d2d0cee3",
   "metadata": {},
   "outputs": [
    {
     "name": "stdout",
     "output_type": "stream",
     "text": [
      "False\n"
     ]
    }
   ],
   "source": [
    "print(name_one == name_three)"
   ]
  },
  {
   "cell_type": "code",
   "execution_count": 50,
   "id": "cc04b74f",
   "metadata": {},
   "outputs": [
    {
     "name": "stdout",
     "output_type": "stream",
     "text": [
      "False\n"
     ]
    }
   ],
   "source": [
    "print(name_one != name_two)"
   ]
  },
  {
   "cell_type": "code",
   "execution_count": 51,
   "id": "d9fc0414",
   "metadata": {},
   "outputs": [
    {
     "name": "stdout",
     "output_type": "stream",
     "text": [
      "True\n"
     ]
    }
   ],
   "source": [
    "print(name_one.__eq__(name_two))"
   ]
  },
  {
   "cell_type": "code",
   "execution_count": 52,
   "id": "c4d27ba7",
   "metadata": {},
   "outputs": [
    {
     "name": "stdout",
     "output_type": "stream",
     "text": [
      "False\n"
     ]
    }
   ],
   "source": [
    "print(name_one.casefold() == name_two)"
   ]
  },
  {
   "cell_type": "code",
   "execution_count": null,
   "id": "85062b0e",
   "metadata": {},
   "outputs": [],
   "source": []
  }
 ],
 "metadata": {
  "kernelspec": {
   "display_name": "Python 3 (ipykernel)",
   "language": "python",
   "name": "python3"
  },
  "language_info": {
   "codemirror_mode": {
    "name": "ipython",
    "version": 3
   },
   "file_extension": ".py",
   "mimetype": "text/x-python",
   "name": "python",
   "nbconvert_exporter": "python",
   "pygments_lexer": "ipython3",
   "version": "3.9.12"
  }
 },
 "nbformat": 4,
 "nbformat_minor": 5
}
