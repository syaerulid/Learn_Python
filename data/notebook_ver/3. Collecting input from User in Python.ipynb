{
 "cells": [
  {
   "cell_type": "markdown",
   "id": "cecc6a08",
   "metadata": {},
   "source": [
    "- Collecting input from User and Type Casting if required\n",
    "- input() in-built function\n",
    "- Practical Demonstration"
   ]
  },
  {
   "cell_type": "code",
   "execution_count": 1,
   "id": "9594e85c",
   "metadata": {},
   "outputs": [
    {
     "name": "stdout",
     "output_type": "stream",
     "text": [
      "Enter your name here:\n",
      "\n"
     ]
    }
   ],
   "source": [
    "print(\"Enter your name here:\")\n",
    "\n",
    "name = input() # default is string\n",
    "\n"
   ]
  },
  {
   "cell_type": "code",
   "execution_count": 2,
   "id": "bff1d33b",
   "metadata": {},
   "outputs": [
    {
     "name": "stdout",
     "output_type": "stream",
     "text": [
      "Welcome Syaerul\n"
     ]
    }
   ],
   "source": [
    "print(\"Welcome \"+name)"
   ]
  },
  {
   "cell_type": "markdown",
   "id": "d4af9913",
   "metadata": {},
   "source": [
    "# Multiple Input"
   ]
  },
  {
   "cell_type": "code",
   "execution_count": null,
   "id": "4e24060e",
   "metadata": {},
   "outputs": [],
   "source": [
    "num1 = input() #\"5\" in string format\n",
    "print(\"Enter second number:\")\n",
    "\n",
    "num2 = input() # \"4\"\n",
    "print(\"Multiplication of two given number is \"+(num1*num2)) # not possible to multiple the string format"
   ]
  },
  {
   "cell_type": "code",
   "execution_count": 2,
   "id": "d3ca35df",
   "metadata": {},
   "outputs": [
    {
     "name": "stdout",
     "output_type": "stream",
     "text": [
      "5\n",
      "Enter second number:\n",
      "4\n",
      "Multiplication of two given number is 20\n"
     ]
    }
   ],
   "source": [
    "num1 = input() #\"5\" in string format\n",
    "print(\"Enter second number:\")\n",
    "\n",
    "num2 = input() # \"4\"\n",
    "print(\"Multiplication of two given number is \"+str(int(num1)*int(num2))) # not possible to multiple the string format"
   ]
  },
  {
   "cell_type": "code",
   "execution_count": null,
   "id": "14047576",
   "metadata": {},
   "outputs": [],
   "source": []
  }
 ],
 "metadata": {
  "kernelspec": {
   "display_name": "Python 3 (ipykernel)",
   "language": "python",
   "name": "python3"
  },
  "language_info": {
   "codemirror_mode": {
    "name": "ipython",
    "version": 3
   },
   "file_extension": ".py",
   "mimetype": "text/x-python",
   "name": "python",
   "nbconvert_exporter": "python",
   "pygments_lexer": "ipython3",
   "version": "3.9.12"
  }
 },
 "nbformat": 4,
 "nbformat_minor": 5
}
