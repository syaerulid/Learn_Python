{
 "cells": [
  {
   "cell_type": "markdown",
   "id": "164f378c",
   "metadata": {},
   "source": [
    "- Function can intake data\n",
    "- Example: Function intaking the name"
   ]
  },
  {
   "cell_type": "code",
   "execution_count": 1,
   "id": "a0617f52",
   "metadata": {},
   "outputs": [],
   "source": [
    "def print_name(name): #name is a parameter\n",
    "    print(\"Your name is: \"+name)"
   ]
  },
  {
   "cell_type": "code",
   "execution_count": 5,
   "id": "3390308d",
   "metadata": {},
   "outputs": [
    {
     "name": "stdout",
     "output_type": "stream",
     "text": [
      "Your name is: Syaerul Rochman\n"
     ]
    }
   ],
   "source": [
    "print_name(\"Syaerul Rochman\") #function calling argument"
   ]
  },
  {
   "cell_type": "code",
   "execution_count": 3,
   "id": "4af7d13e",
   "metadata": {},
   "outputs": [
    {
     "name": "stdout",
     "output_type": "stream",
     "text": [
      "Your name is: Cholifah Turizah\n"
     ]
    }
   ],
   "source": [
    "print_name(\"Cholifah Turizah\")"
   ]
  },
  {
   "cell_type": "markdown",
   "id": "d6c5d7ab",
   "metadata": {},
   "source": [
    "# Default Argument in Python"
   ]
  },
  {
   "cell_type": "code",
   "execution_count": 8,
   "id": "041b3a01",
   "metadata": {},
   "outputs": [
    {
     "ename": "TypeError",
     "evalue": "print_name() missing 1 required positional argument: 'name'",
     "output_type": "error",
     "traceback": [
      "\u001b[1;31m---------------------------------------------------------------------------\u001b[0m",
      "\u001b[1;31mTypeError\u001b[0m                                 Traceback (most recent call last)",
      "Input \u001b[1;32mIn [8]\u001b[0m, in \u001b[0;36m<cell line: 1>\u001b[1;34m()\u001b[0m\n\u001b[1;32m----> 1\u001b[0m \u001b[43mprint_name\u001b[49m\u001b[43m(\u001b[49m\u001b[43m)\u001b[49m\n",
      "\u001b[1;31mTypeError\u001b[0m: print_name() missing 1 required positional argument: 'name'"
     ]
    }
   ],
   "source": [
    "print_name() # error, we need argument inside ()"
   ]
  },
  {
   "cell_type": "code",
   "execution_count": 9,
   "id": "ddfb6572",
   "metadata": {},
   "outputs": [],
   "source": [
    "def print_name(name=\"Erul\"): # = Erul is default argument\n",
    "    print(\"Your name is: \"+name)"
   ]
  },
  {
   "cell_type": "code",
   "execution_count": 10,
   "id": "c5e9402e",
   "metadata": {},
   "outputs": [
    {
     "name": "stdout",
     "output_type": "stream",
     "text": [
      "Your name is: Erul\n"
     ]
    }
   ],
   "source": [
    "print_name() # even we don't have any argument in here, they will not error"
   ]
  },
  {
   "cell_type": "code",
   "execution_count": 12,
   "id": "34b11dd5",
   "metadata": {},
   "outputs": [
    {
     "name": "stdout",
     "output_type": "stream",
     "text": [
      "Your name is: Yoga\n"
     ]
    }
   ],
   "source": [
    "print_name(\"Yoga\")"
   ]
  },
  {
   "cell_type": "code",
   "execution_count": null,
   "id": "da8fb4cf",
   "metadata": {},
   "outputs": [],
   "source": []
  }
 ],
 "metadata": {
  "kernelspec": {
   "display_name": "Python 3 (ipykernel)",
   "language": "python",
   "name": "python3"
  },
  "language_info": {
   "codemirror_mode": {
    "name": "ipython",
    "version": 3
   },
   "file_extension": ".py",
   "mimetype": "text/x-python",
   "name": "python",
   "nbconvert_exporter": "python",
   "pygments_lexer": "ipython3",
   "version": "3.9.12"
  }
 },
 "nbformat": 4,
 "nbformat_minor": 5
}
