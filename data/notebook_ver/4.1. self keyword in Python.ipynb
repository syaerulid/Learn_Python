{
 "cells": [
  {
   "cell_type": "markdown",
   "id": "5bec6552",
   "metadata": {},
   "source": [
    "# Self keyword in Python\n",
    "- Represents something that belongs to the class\n",
    "- Can be used to access the variables and methods inside the same class\n",
    "- Inside the Class we have to use slef to access the properties and outside the class we have to use object reference to access the class properties\n",
    "- self parameter can be renamed\n",
    "- Assigning function parameters to class Variables"
   ]
  },
  {
   "cell_type": "code",
   "execution_count": 1,
   "id": "bb12d2d7",
   "metadata": {},
   "outputs": [],
   "source": [
    "class Car:\n",
    "    \n",
    "    wheels = 4\n",
    "    \n",
    "    def start_car(self):  # have to self keyword\n",
    "        print(\"Car started\")\n",
    "        \n",
    "    def example_one(self):\n",
    "        print(self.wheels) # within the class using self\n",
    "        self.start_car()\n",
    "        \n",
    "# Using obejct reference we can access the properties of the Class outside the class        \n",
    "car1 = Car() # object reference"
   ]
  },
  {
   "cell_type": "code",
   "execution_count": 3,
   "id": "7b8e5988",
   "metadata": {},
   "outputs": [
    {
     "name": "stdout",
     "output_type": "stream",
     "text": [
      "4\n"
     ]
    }
   ],
   "source": [
    "print(car1.wheels)"
   ]
  },
  {
   "cell_type": "code",
   "execution_count": 4,
   "id": "1681ad72",
   "metadata": {},
   "outputs": [
    {
     "name": "stdout",
     "output_type": "stream",
     "text": [
      "Car started\n"
     ]
    }
   ],
   "source": [
    "car1.start_car()"
   ]
  },
  {
   "cell_type": "code",
   "execution_count": null,
   "id": "8bd54cb8",
   "metadata": {},
   "outputs": [],
   "source": []
  }
 ],
 "metadata": {
  "kernelspec": {
   "display_name": "Python 3 (ipykernel)",
   "language": "python",
   "name": "python3"
  },
  "language_info": {
   "codemirror_mode": {
    "name": "ipython",
    "version": 3
   },
   "file_extension": ".py",
   "mimetype": "text/x-python",
   "name": "python",
   "nbconvert_exporter": "python",
   "pygments_lexer": "ipython3",
   "version": "3.9.12"
  }
 },
 "nbformat": 4,
 "nbformat_minor": 5
}
