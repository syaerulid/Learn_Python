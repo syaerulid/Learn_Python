{
 "cells": [
  {
   "cell_type": "code",
   "execution_count": null,
   "id": "d988d8ac",
   "metadata": {},
   "outputs": [],
   "source": [
    "- Inheritance\n",
    "    - A Child Class acquiring the properties of Parent Class\n",
    "    - Practical Demonstration of Inheritance:\n",
    "        class B(A):\n",
    "            "
   ]
  },
  {
   "cell_type": "code",
   "execution_count": 1,
   "id": "4b46140f",
   "metadata": {},
   "outputs": [
    {
     "name": "stdout",
     "output_type": "stream",
     "text": [
      "\n"
     ]
    }
   ],
   "source": [
    "class A:\n",
    "    a = 9\n",
    "    \n",
    "    def method_a(self):\n",
    "        print(\"Inside method_a\")\n",
    "        \n",
    "class B(A):\n",
    "    \n",
    "    b = 10\n",
    "    \n",
    "    def method_b(self):\n",
    "        print(\"Inside method_b\")\n",
    "        \n",
    "obj = B()\n"
   ]
  },
  {
   "cell_type": "code",
   "execution_count": 2,
   "id": "ade04bc7",
   "metadata": {},
   "outputs": [
    {
     "name": "stdout",
     "output_type": "stream",
     "text": [
      "9\n",
      "10\n"
     ]
    }
   ],
   "source": [
    "print(obj.a)\n",
    "print(obj.b)"
   ]
  },
  {
   "cell_type": "code",
   "execution_count": 3,
   "id": "247a9e5a",
   "metadata": {},
   "outputs": [
    {
     "name": "stdout",
     "output_type": "stream",
     "text": [
      "Inside method_a\n"
     ]
    }
   ],
   "source": [
    "obj.method_a()"
   ]
  },
  {
   "cell_type": "code",
   "execution_count": 4,
   "id": "9bf08e90",
   "metadata": {},
   "outputs": [
    {
     "name": "stdout",
     "output_type": "stream",
     "text": [
      "Inside method_b\n"
     ]
    }
   ],
   "source": [
    "obj.method_b()"
   ]
  },
  {
   "cell_type": "code",
   "execution_count": null,
   "id": "a6c91249",
   "metadata": {},
   "outputs": [],
   "source": []
  }
 ],
 "metadata": {
  "kernelspec": {
   "display_name": "Python 3 (ipykernel)",
   "language": "python",
   "name": "python3"
  },
  "language_info": {
   "codemirror_mode": {
    "name": "ipython",
    "version": 3
   },
   "file_extension": ".py",
   "mimetype": "text/x-python",
   "name": "python",
   "nbconvert_exporter": "python",
   "pygments_lexer": "ipython3",
   "version": "3.9.12"
  }
 },
 "nbformat": 4,
 "nbformat_minor": 5
}
