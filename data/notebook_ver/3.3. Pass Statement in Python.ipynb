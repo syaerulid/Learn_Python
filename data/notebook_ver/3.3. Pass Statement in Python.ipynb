{
 "cells": [
  {
   "cell_type": "markdown",
   "id": "4145f728",
   "metadata": {},
   "source": [
    "## Pass Statement in Python\n",
    "   - If the function or loop or condition block in Python program is not implemented yet and will be implemented later,\n",
    "   we simply add pass under it for future implementation\n",
    "   - When we execute the functions having pass under a function or loop, nothing happens"
   ]
  },
  {
   "cell_type": "code",
   "execution_count": 1,
   "id": "f70fe833",
   "metadata": {},
   "outputs": [],
   "source": [
    "# Examples:\n",
    "def sum():\n",
    "    pass\n",
    "    \n",
    "def sub():\n",
    "    pass\n",
    "    \n",
    "def mul():\n",
    "    pass\n",
    "\n",
    "def div():\n",
    "    pass"
   ]
  },
  {
   "cell_type": "code",
   "execution_count": 2,
   "id": "222cfd49",
   "metadata": {},
   "outputs": [],
   "source": [
    "sum()"
   ]
  },
  {
   "cell_type": "code",
   "execution_count": 3,
   "id": "75e6aa5f",
   "metadata": {},
   "outputs": [],
   "source": [
    "for i in range(1,11):\n",
    "    pass"
   ]
  },
  {
   "cell_type": "code",
   "execution_count": 4,
   "id": "2a004ae8",
   "metadata": {},
   "outputs": [],
   "source": [
    "a = 5\n",
    "b = 4\n",
    "\n",
    "if a > b:\n",
    "    pass"
   ]
  },
  {
   "cell_type": "code",
   "execution_count": null,
   "id": "1a6271c6",
   "metadata": {},
   "outputs": [],
   "source": []
  }
 ],
 "metadata": {
  "kernelspec": {
   "display_name": "Python 3 (ipykernel)",
   "language": "python",
   "name": "python3"
  },
  "language_info": {
   "codemirror_mode": {
    "name": "ipython",
    "version": 3
   },
   "file_extension": ".py",
   "mimetype": "text/x-python",
   "name": "python",
   "nbconvert_exporter": "python",
   "pygments_lexer": "ipython3",
   "version": "3.9.12"
  }
 },
 "nbformat": 4,
 "nbformat_minor": 5
}
