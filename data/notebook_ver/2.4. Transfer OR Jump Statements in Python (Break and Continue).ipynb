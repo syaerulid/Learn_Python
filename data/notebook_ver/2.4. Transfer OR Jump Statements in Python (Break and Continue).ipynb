{
 "cells": [
  {
   "cell_type": "markdown",
   "id": "1e380852",
   "metadata": {},
   "source": [
    "# Break and Continue Statements in Python"
   ]
  },
  {
   "cell_type": "markdown",
   "id": "ab7d3edf",
   "metadata": {},
   "source": [
    "- Break Statement in Python\n",
    "- Continue Statement in Python\n",
    "- Return Statement in Python\n",
    "- Try and Except Statement in Python"
   ]
  },
  {
   "cell_type": "markdown",
   "id": "55888521",
   "metadata": {},
   "source": [
    "# For Statement"
   ]
  },
  {
   "cell_type": "code",
   "execution_count": 1,
   "id": "c55f5877",
   "metadata": {},
   "outputs": [
    {
     "name": "stdout",
     "output_type": "stream",
     "text": [
      "1\n",
      "2\n",
      "3\n",
      "4\n",
      "5\n",
      "6\n",
      "7\n",
      "8\n",
      "9\n",
      "10\n"
     ]
    }
   ],
   "source": [
    "for i in range(1,11):\n",
    "    print(i)"
   ]
  },
  {
   "cell_type": "markdown",
   "id": "996c572e",
   "metadata": {},
   "source": [
    "## For + Break Statement"
   ]
  },
  {
   "cell_type": "code",
   "execution_count": 2,
   "id": "dd7b18a1",
   "metadata": {},
   "outputs": [
    {
     "name": "stdout",
     "output_type": "stream",
     "text": [
      "1\n",
      "2\n",
      "3\n",
      "4\n"
     ]
    }
   ],
   "source": [
    "for i in range(1,11):\n",
    "    if i==5:\n",
    "        break\n",
    "    print(i) # loops will stop if i == 5"
   ]
  },
  {
   "cell_type": "markdown",
   "id": "8d6826a8",
   "metadata": {},
   "source": [
    "## For + Continue Statement"
   ]
  },
  {
   "cell_type": "code",
   "execution_count": 3,
   "id": "52180176",
   "metadata": {},
   "outputs": [
    {
     "name": "stdout",
     "output_type": "stream",
     "text": [
      "1\n",
      "2\n",
      "3\n",
      "4\n",
      "6\n",
      "7\n",
      "8\n",
      "9\n",
      "10\n"
     ]
    }
   ],
   "source": [
    "for i in range(1,11):\n",
    "    if i == 5:\n",
    "        continue\n",
    "    print(i) # only 5 is not printed, because continue = skipped"
   ]
  },
  {
   "cell_type": "markdown",
   "id": "0a6f450a",
   "metadata": {},
   "source": [
    "# While Statement"
   ]
  },
  {
   "cell_type": "code",
   "execution_count": 4,
   "id": "76803e3b",
   "metadata": {},
   "outputs": [],
   "source": [
    "i = 1"
   ]
  },
  {
   "cell_type": "code",
   "execution_count": 5,
   "id": "0a70a824",
   "metadata": {},
   "outputs": [
    {
     "name": "stdout",
     "output_type": "stream",
     "text": [
      "2\n",
      "3\n",
      "4\n",
      "5\n",
      "6\n",
      "7\n",
      "8\n",
      "9\n",
      "10\n",
      "11\n"
     ]
    }
   ],
   "source": [
    "while i <=10:\n",
    "    i+=1\n",
    "    print(i)"
   ]
  },
  {
   "cell_type": "markdown",
   "id": "379001f9",
   "metadata": {},
   "source": [
    "## While + Break"
   ]
  },
  {
   "cell_type": "code",
   "execution_count": 6,
   "id": "ca70a48c",
   "metadata": {},
   "outputs": [
    {
     "name": "stdout",
     "output_type": "stream",
     "text": [
      "1\n",
      "2\n",
      "3\n",
      "4\n"
     ]
    }
   ],
   "source": [
    "i = 1\n",
    "\n",
    "while i <=10:\n",
    "    if i==5:\n",
    "        break\n",
    "    print(i)\n",
    "    i+=1"
   ]
  },
  {
   "cell_type": "markdown",
   "id": "f22c756f",
   "metadata": {},
   "source": [
    "## While + Continue"
   ]
  },
  {
   "cell_type": "code",
   "execution_count": 7,
   "id": "341b538e",
   "metadata": {},
   "outputs": [
    {
     "name": "stdout",
     "output_type": "stream",
     "text": [
      "1\n",
      "2\n",
      "3\n",
      "4\n",
      "6\n",
      "7\n",
      "8\n",
      "9\n",
      "10\n"
     ]
    }
   ],
   "source": [
    "i = 1\n",
    "\n",
    "while i <=10:\n",
    "    if i==5:\n",
    "        i+=1\n",
    "        continue\n",
    "    print(i)\n",
    "    i+=1"
   ]
  },
  {
   "cell_type": "code",
   "execution_count": null,
   "id": "d0e3b25b",
   "metadata": {},
   "outputs": [],
   "source": []
  },
  {
   "cell_type": "code",
   "execution_count": null,
   "id": "8244b4cc",
   "metadata": {},
   "outputs": [],
   "source": []
  }
 ],
 "metadata": {
  "kernelspec": {
   "display_name": "Python 3 (ipykernel)",
   "language": "python",
   "name": "python3"
  },
  "language_info": {
   "codemirror_mode": {
    "name": "ipython",
    "version": 3
   },
   "file_extension": ".py",
   "mimetype": "text/x-python",
   "name": "python",
   "nbconvert_exporter": "python",
   "pygments_lexer": "ipython3",
   "version": "3.9.12"
  }
 },
 "nbformat": 4,
 "nbformat_minor": 5
}
