{
 "cells": [
  {
   "cell_type": "markdown",
   "id": "c229a33e",
   "metadata": {},
   "source": [
    "## Float to Int"
   ]
  },
  {
   "cell_type": "code",
   "execution_count": 1,
   "id": "45334824",
   "metadata": {},
   "outputs": [],
   "source": [
    "a = 1.25"
   ]
  },
  {
   "cell_type": "code",
   "execution_count": 2,
   "id": "60da173c",
   "metadata": {},
   "outputs": [
    {
     "name": "stdout",
     "output_type": "stream",
     "text": [
      "<class 'float'>\n",
      "1.25\n"
     ]
    }
   ],
   "source": [
    "print(type(a))\n",
    "print(a)"
   ]
  },
  {
   "cell_type": "code",
   "execution_count": 3,
   "id": "be19138a",
   "metadata": {},
   "outputs": [],
   "source": [
    "a = int(1.25)"
   ]
  },
  {
   "cell_type": "code",
   "execution_count": 4,
   "id": "bcc59e3d",
   "metadata": {},
   "outputs": [
    {
     "name": "stdout",
     "output_type": "stream",
     "text": [
      "<class 'int'>\n",
      "1\n"
     ]
    }
   ],
   "source": [
    "print(type(a))\n",
    "print(a)"
   ]
  },
  {
   "cell_type": "markdown",
   "id": "04d25bef",
   "metadata": {},
   "source": [
    "## String to float"
   ]
  },
  {
   "cell_type": "code",
   "execution_count": 5,
   "id": "2cd4e78b",
   "metadata": {},
   "outputs": [],
   "source": [
    "a = (\"9\")"
   ]
  },
  {
   "cell_type": "code",
   "execution_count": 6,
   "id": "c247f6e1",
   "metadata": {},
   "outputs": [
    {
     "name": "stdout",
     "output_type": "stream",
     "text": [
      "<class 'str'>\n",
      "9\n"
     ]
    }
   ],
   "source": [
    "print(type(a))\n",
    "print(a)"
   ]
  },
  {
   "cell_type": "code",
   "execution_count": 7,
   "id": "7e462241",
   "metadata": {},
   "outputs": [
    {
     "ename": "TypeError",
     "evalue": "can only concatenate str (not \"int\") to str",
     "output_type": "error",
     "traceback": [
      "\u001b[1;31m---------------------------------------------------------------------------\u001b[0m",
      "\u001b[1;31mTypeError\u001b[0m                                 Traceback (most recent call last)",
      "Input \u001b[1;32mIn [7]\u001b[0m, in \u001b[0;36m<cell line: 1>\u001b[1;34m()\u001b[0m\n\u001b[1;32m----> 1\u001b[0m \u001b[38;5;28mprint\u001b[39m(\u001b[43ma\u001b[49m\u001b[38;5;241;43m+\u001b[39;49m\u001b[38;5;241;43m1\u001b[39;49m)\n",
      "\u001b[1;31mTypeError\u001b[0m: can only concatenate str (not \"int\") to str"
     ]
    }
   ],
   "source": [
    "print(a+1) # not possible because still string"
   ]
  },
  {
   "cell_type": "code",
   "execution_count": 8,
   "id": "eab3311a",
   "metadata": {},
   "outputs": [],
   "source": [
    "a = int(\"9\")"
   ]
  },
  {
   "cell_type": "code",
   "execution_count": 9,
   "id": "8600a5f9",
   "metadata": {},
   "outputs": [
    {
     "name": "stdout",
     "output_type": "stream",
     "text": [
      "<class 'int'>\n",
      "10\n"
     ]
    }
   ],
   "source": [
    "print(type(a))\n",
    "print(a+1)"
   ]
  },
  {
   "cell_type": "markdown",
   "id": "cb320b50",
   "metadata": {},
   "source": [
    "## Float to string"
   ]
  },
  {
   "cell_type": "code",
   "execution_count": 10,
   "id": "f9d4a8ee",
   "metadata": {},
   "outputs": [],
   "source": [
    "a = 9.5"
   ]
  },
  {
   "cell_type": "code",
   "execution_count": 11,
   "id": "93801594",
   "metadata": {},
   "outputs": [
    {
     "name": "stdout",
     "output_type": "stream",
     "text": [
      "<class 'float'>\n",
      "9.5\n"
     ]
    }
   ],
   "source": [
    "print(type(a))\n",
    "print(a)"
   ]
  },
  {
   "cell_type": "code",
   "execution_count": 14,
   "id": "3160c957",
   "metadata": {},
   "outputs": [],
   "source": [
    "a = str(9)"
   ]
  },
  {
   "cell_type": "code",
   "execution_count": 15,
   "id": "367fa5c1",
   "metadata": {},
   "outputs": [
    {
     "name": "stdout",
     "output_type": "stream",
     "text": [
      "<class 'str'>\n",
      "9 is a number string\n"
     ]
    }
   ],
   "source": [
    "print(type(a))\n",
    "print(a +\" is a number string\")"
   ]
  },
  {
   "cell_type": "code",
   "execution_count": null,
   "id": "de6af236",
   "metadata": {},
   "outputs": [],
   "source": []
  },
  {
   "cell_type": "code",
   "execution_count": null,
   "id": "1083edf3",
   "metadata": {},
   "outputs": [],
   "source": []
  }
 ],
 "metadata": {
  "kernelspec": {
   "display_name": "Python 3 (ipykernel)",
   "language": "python",
   "name": "python3"
  },
  "language_info": {
   "codemirror_mode": {
    "name": "ipython",
    "version": 3
   },
   "file_extension": ".py",
   "mimetype": "text/x-python",
   "name": "python",
   "nbconvert_exporter": "python",
   "pygments_lexer": "ipython3",
   "version": "3.9.12"
  }
 },
 "nbformat": 4,
 "nbformat_minor": 5
}
