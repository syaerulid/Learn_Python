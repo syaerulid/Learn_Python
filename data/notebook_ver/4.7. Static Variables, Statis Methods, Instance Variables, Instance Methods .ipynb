{
 "cells": [
  {
   "cell_type": "markdown",
   "id": "292e9bc4",
   "metadata": {},
   "source": [
    "- Accessing Static Variables using Class Name\n",
    "- Instance Variables in Python\n",
    "- Methods in Python\n",
    "    - Functions inside the class in the Python can be called as methods\n",
    "    - Instance Methods\n",
    "        - Needs to be accessed using the object\n",
    "        - has self keyword specified\n",
    "- Static Method can only access the static  \n",
    "    - @staticmethod\n",
    "    - should not be specified with self keyword\n",
    "    - If we provide self keyword in the static methods, that will be treated as first parameter, for which we have to pass the argument while calling it\n",
    "    - Can be accessed using the Class name\n",
    "    \n",
    "- Instance Variables and Instance Methods belong to Object Memory\n",
    "- Static Variables and Static Methods belong to Class Memory\n",
    "- Static Methods can only access Static Stuff"
   ]
  },
  {
   "cell_type": "code",
   "execution_count": null,
   "id": "a799c33f",
   "metadata": {},
   "outputs": [],
   "source": []
  },
  {
   "cell_type": "markdown",
   "id": "15ed5ad8",
   "metadata": {},
   "source": [
    "Static Variables is Common things that belong to the class:\n",
    "   - Wheels = 4\n",
    "    "
   ]
  },
  {
   "cell_type": "markdown",
   "id": "f40bd485",
   "metadata": {},
   "source": [
    "Instance Variable is Non-Common (spesific to a objects):\n",
    "   - color,\n",
    "   - price,\n",
    "   - milage,\n",
    "   - model"
   ]
  },
  {
   "cell_type": "code",
   "execution_count": 9,
   "id": "9640019b",
   "metadata": {},
   "outputs": [],
   "source": [
    "class Car:\n",
    "    \n",
    "    wheels = 4\n",
    "    \n",
    "    def __init__(self,brand,model,price,milage):\n",
    "        self.brand = brand\n",
    "        self.model = model\n",
    "        self.price = price\n",
    "        self.milage = milage\n",
    "    \n",
    "    def start_car(self):\n",
    "        print(self.brand+\" car having model as \"+self.model+\" has started\")\n",
    "    \n",
    "    @staticmethod\n",
    "    def demo_method():\n",
    "        print(\"demo static method\")\n",
    "        \n",
    "    @staticmethod\n",
    "    def print_car_wheels():\n",
    "        print(Car.wheels)\n",
    "        Car.demo_method()\n",
    "        \n",
    "        \n",
    "svdi = Car(\"Maruti\",\"Swift VDI\",800000,24)\n",
    "\n",
    "hamz = Car(\"Honda\",\"Amaze\",900000,14.5)"
   ]
  },
  {
   "cell_type": "code",
   "execution_count": 10,
   "id": "87e8daf6",
   "metadata": {},
   "outputs": [
    {
     "name": "stdout",
     "output_type": "stream",
     "text": [
      "Maruti\n"
     ]
    }
   ],
   "source": [
    "print(svdi.brand)"
   ]
  },
  {
   "cell_type": "code",
   "execution_count": 11,
   "id": "4e60b0ca",
   "metadata": {},
   "outputs": [
    {
     "name": "stdout",
     "output_type": "stream",
     "text": [
      "24\n"
     ]
    }
   ],
   "source": [
    "print(svdi.milage)"
   ]
  },
  {
   "cell_type": "code",
   "execution_count": 12,
   "id": "9886372a",
   "metadata": {},
   "outputs": [
    {
     "name": "stdout",
     "output_type": "stream",
     "text": [
      "4\n"
     ]
    }
   ],
   "source": [
    "print(Car.wheels)"
   ]
  },
  {
   "cell_type": "code",
   "execution_count": 13,
   "id": "64239c7b",
   "metadata": {},
   "outputs": [
    {
     "name": "stdout",
     "output_type": "stream",
     "text": [
      "Maruti car having model as Swift VDI has started\n",
      "4\n",
      "demo static method\n"
     ]
    }
   ],
   "source": [
    "svdi.start_car()\n",
    "Car.print_car_wheels()"
   ]
  },
  {
   "cell_type": "code",
   "execution_count": 16,
   "id": "ee5ab8f4",
   "metadata": {},
   "outputs": [
    {
     "ename": "NameError",
     "evalue": "name 'demo_method' is not defined",
     "output_type": "error",
     "traceback": [
      "\u001b[1;31m---------------------------------------------------------------------------\u001b[0m",
      "\u001b[1;31mNameError\u001b[0m                                 Traceback (most recent call last)",
      "Input \u001b[1;32mIn [16]\u001b[0m, in \u001b[0;36m<cell line: 1>\u001b[1;34m()\u001b[0m\n\u001b[1;32m----> 1\u001b[0m \u001b[43mdemo_method\u001b[49m()\n",
      "\u001b[1;31mNameError\u001b[0m: name 'demo_method' is not defined"
     ]
    }
   ],
   "source": [
    "demo_method()"
   ]
  },
  {
   "cell_type": "code",
   "execution_count": 17,
   "id": "ec18ad27",
   "metadata": {},
   "outputs": [
    {
     "name": "stdout",
     "output_type": "stream",
     "text": [
      "demo static method\n"
     ]
    }
   ],
   "source": [
    "Car.demo_method()"
   ]
  },
  {
   "cell_type": "code",
   "execution_count": null,
   "id": "de17e99f",
   "metadata": {},
   "outputs": [],
   "source": []
  }
 ],
 "metadata": {
  "kernelspec": {
   "display_name": "Python 3 (ipykernel)",
   "language": "python",
   "name": "python3"
  },
  "language_info": {
   "codemirror_mode": {
    "name": "ipython",
    "version": 3
   },
   "file_extension": ".py",
   "mimetype": "text/x-python",
   "name": "python",
   "nbconvert_exporter": "python",
   "pygments_lexer": "ipython3",
   "version": "3.9.12"
  }
 },
 "nbformat": 4,
 "nbformat_minor": 5
}
