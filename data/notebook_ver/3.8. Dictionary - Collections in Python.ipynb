{
 "cells": [
  {
   "cell_type": "markdown",
   "id": "e82e4cb1",
   "metadata": {},
   "source": [
    "# Dictionary"
   ]
  },
  {
   "cell_type": "markdown",
   "id": "7e13210f",
   "metadata": {},
   "source": [
    "- Store multiple values in Key Value pairs"
   ]
  },
  {
   "cell_type": "code",
   "execution_count": 4,
   "id": "f6fe2dbd",
   "metadata": {},
   "outputs": [],
   "source": [
    "car = {\"Brand\":\"Honda\",\n",
    "       \"Model\":\"Amaze\",\n",
    "       \"Price\":90000,\n",
    "       \"Milage\":32}"
   ]
  },
  {
   "cell_type": "code",
   "execution_count": 5,
   "id": "9c3d3fc2",
   "metadata": {},
   "outputs": [
    {
     "name": "stdout",
     "output_type": "stream",
     "text": [
      "{'Brand': 'Honda', 'Model': 'Amaze', 'Price': 90000, 'Milage': 32}\n"
     ]
    }
   ],
   "source": [
    "print(car)"
   ]
  },
  {
   "cell_type": "code",
   "execution_count": 6,
   "id": "812c1d53",
   "metadata": {},
   "outputs": [
    {
     "name": "stdout",
     "output_type": "stream",
     "text": [
      "<class 'dict'>\n"
     ]
    }
   ],
   "source": [
    "print(type(car))"
   ]
  },
  {
   "cell_type": "markdown",
   "id": "7c83405c",
   "metadata": {},
   "source": [
    "## Get the Values of Key"
   ]
  },
  {
   "cell_type": "code",
   "execution_count": 7,
   "id": "e44c333c",
   "metadata": {},
   "outputs": [
    {
     "name": "stdout",
     "output_type": "stream",
     "text": [
      "90000\n"
     ]
    }
   ],
   "source": [
    "print(car.get(\"Price\"))"
   ]
  },
  {
   "cell_type": "code",
   "execution_count": 8,
   "id": "82211328",
   "metadata": {},
   "outputs": [
    {
     "name": "stdout",
     "output_type": "stream",
     "text": [
      "Amaze\n"
     ]
    }
   ],
   "source": [
    "print(car['Model'])"
   ]
  },
  {
   "cell_type": "markdown",
   "id": "b2382ba5",
   "metadata": {},
   "source": [
    "## Printing All the Keys"
   ]
  },
  {
   "cell_type": "code",
   "execution_count": 9,
   "id": "b6baf1ab",
   "metadata": {},
   "outputs": [
    {
     "name": "stdout",
     "output_type": "stream",
     "text": [
      "dict_keys(['Brand', 'Model', 'Price', 'Milage'])\n"
     ]
    }
   ],
   "source": [
    "print(car.keys())"
   ]
  },
  {
   "cell_type": "markdown",
   "id": "f985e064",
   "metadata": {},
   "source": [
    "## Printing All Values"
   ]
  },
  {
   "cell_type": "code",
   "execution_count": 10,
   "id": "6af30009",
   "metadata": {},
   "outputs": [
    {
     "name": "stdout",
     "output_type": "stream",
     "text": [
      "dict_values(['Honda', 'Amaze', 90000, 32])\n"
     ]
    }
   ],
   "source": [
    "print(car.values())"
   ]
  },
  {
   "cell_type": "markdown",
   "id": "3c275f6f",
   "metadata": {},
   "source": [
    "## Updating Values"
   ]
  },
  {
   "cell_type": "code",
   "execution_count": 11,
   "id": "7ce2ac45",
   "metadata": {},
   "outputs": [],
   "source": [
    "car['Price'] = 100000"
   ]
  },
  {
   "cell_type": "code",
   "execution_count": 12,
   "id": "9c731f16",
   "metadata": {},
   "outputs": [
    {
     "name": "stdout",
     "output_type": "stream",
     "text": [
      "{'Brand': 'Honda', 'Model': 'Amaze', 'Price': 100000, 'Milage': 32}\n"
     ]
    }
   ],
   "source": [
    "print(car)"
   ]
  },
  {
   "cell_type": "markdown",
   "id": "564aa9cc",
   "metadata": {},
   "source": [
    "## Adding new Values"
   ]
  },
  {
   "cell_type": "code",
   "execution_count": 14,
   "id": "8c481bf1",
   "metadata": {},
   "outputs": [],
   "source": [
    "car['Color'] = 'Black'"
   ]
  },
  {
   "cell_type": "code",
   "execution_count": 15,
   "id": "573f63b0",
   "metadata": {},
   "outputs": [
    {
     "name": "stdout",
     "output_type": "stream",
     "text": [
      "{'Brand': 'Honda', 'Model': 'Amaze', 'Price': 100000, 'Milage': 32, 'Color': 'Black'}\n"
     ]
    }
   ],
   "source": [
    "print(car)"
   ]
  },
  {
   "cell_type": "markdown",
   "id": "022bce4b",
   "metadata": {},
   "source": [
    "## For Loops with Dictionary"
   ]
  },
  {
   "cell_type": "code",
   "execution_count": 16,
   "id": "69bfee83",
   "metadata": {},
   "outputs": [
    {
     "name": "stdout",
     "output_type": "stream",
     "text": [
      "Brand\n",
      "Model\n",
      "Price\n",
      "Milage\n",
      "Color\n"
     ]
    }
   ],
   "source": [
    "for i in car:\n",
    "    print(i)"
   ]
  },
  {
   "cell_type": "code",
   "execution_count": 17,
   "id": "e3bdc740",
   "metadata": {},
   "outputs": [
    {
     "name": "stdout",
     "output_type": "stream",
     "text": [
      "Brand\n",
      "Model\n",
      "Price\n",
      "Milage\n",
      "Color\n"
     ]
    }
   ],
   "source": [
    "for i in car.keys():\n",
    "    print(i)"
   ]
  },
  {
   "cell_type": "code",
   "execution_count": 18,
   "id": "83c49c72",
   "metadata": {},
   "outputs": [
    {
     "name": "stdout",
     "output_type": "stream",
     "text": [
      "Honda\n",
      "Amaze\n",
      "100000\n",
      "32\n",
      "Black\n"
     ]
    }
   ],
   "source": [
    "for i in car.values():\n",
    "    print(i)"
   ]
  },
  {
   "cell_type": "markdown",
   "id": "c1a14434",
   "metadata": {},
   "source": [
    "## Keys and Values Loops"
   ]
  },
  {
   "cell_type": "code",
   "execution_count": 21,
   "id": "e6d1a4fc",
   "metadata": {},
   "outputs": [
    {
     "name": "stdout",
     "output_type": "stream",
     "text": [
      "Brand Honda\n",
      "Model Amaze\n",
      "Price 100000\n",
      "Milage 32\n",
      "Color Black\n"
     ]
    }
   ],
   "source": [
    "for i in car.keys():\n",
    "    print(i, car.get(i))"
   ]
  },
  {
   "cell_type": "code",
   "execution_count": 23,
   "id": "8bf36778",
   "metadata": {},
   "outputs": [
    {
     "name": "stdout",
     "output_type": "stream",
     "text": [
      "Brand Honda\n",
      "Model Amaze\n",
      "Price 100000\n",
      "Milage 32\n",
      "Color Black\n"
     ]
    }
   ],
   "source": [
    "for i in car.keys():\n",
    "    print(i, car[i])"
   ]
  },
  {
   "cell_type": "code",
   "execution_count": 24,
   "id": "8178b8e5",
   "metadata": {},
   "outputs": [
    {
     "name": "stdout",
     "output_type": "stream",
     "text": [
      "Brand Honda\n",
      "Model Amaze\n",
      "Price 100000\n",
      "Milage 32\n",
      "Color Black\n"
     ]
    }
   ],
   "source": [
    "for k,v in car.items():\n",
    "    print(k,v)"
   ]
  },
  {
   "cell_type": "markdown",
   "id": "10cfdb34",
   "metadata": {},
   "source": [
    "## Removing Item with Dict"
   ]
  },
  {
   "cell_type": "code",
   "execution_count": 25,
   "id": "d554f72c",
   "metadata": {},
   "outputs": [],
   "source": [
    "car = {\"Brand\":\"Honda\",\n",
    "       \"Model\":\"Amaze\",\n",
    "       \"Price\":90000,\n",
    "       \"Milage\":32}"
   ]
  },
  {
   "cell_type": "code",
   "execution_count": 26,
   "id": "642df61c",
   "metadata": {},
   "outputs": [
    {
     "data": {
      "text/plain": [
       "'Amaze'"
      ]
     },
     "execution_count": 26,
     "metadata": {},
     "output_type": "execute_result"
    }
   ],
   "source": [
    "car.pop(\"Model\")"
   ]
  },
  {
   "cell_type": "code",
   "execution_count": 27,
   "id": "505a7ee8",
   "metadata": {},
   "outputs": [
    {
     "name": "stdout",
     "output_type": "stream",
     "text": [
      "{'Brand': 'Honda', 'Price': 90000, 'Milage': 32}\n"
     ]
    }
   ],
   "source": [
    "print(car)"
   ]
  },
  {
   "cell_type": "code",
   "execution_count": 28,
   "id": "9ceb8f2d",
   "metadata": {},
   "outputs": [],
   "source": [
    "del car['Price']"
   ]
  },
  {
   "cell_type": "code",
   "execution_count": 29,
   "id": "f7ab9a19",
   "metadata": {},
   "outputs": [
    {
     "name": "stdout",
     "output_type": "stream",
     "text": [
      "{'Brand': 'Honda', 'Milage': 32}\n"
     ]
    }
   ],
   "source": [
    "print(car)"
   ]
  },
  {
   "cell_type": "markdown",
   "id": "cb10b282",
   "metadata": {},
   "source": [
    "## Removing Last Item with Dict"
   ]
  },
  {
   "cell_type": "code",
   "execution_count": 30,
   "id": "3119c0b2",
   "metadata": {},
   "outputs": [],
   "source": [
    "car = {\"Brand\":\"Honda\",\n",
    "       \"Model\":\"Amaze\",\n",
    "       \"Price\":90000,\n",
    "       \"Milage\":32}"
   ]
  },
  {
   "cell_type": "code",
   "execution_count": 31,
   "id": "a3687685",
   "metadata": {},
   "outputs": [
    {
     "data": {
      "text/plain": [
       "('Milage', 32)"
      ]
     },
     "execution_count": 31,
     "metadata": {},
     "output_type": "execute_result"
    }
   ],
   "source": [
    "car.popitem()"
   ]
  },
  {
   "cell_type": "code",
   "execution_count": 32,
   "id": "374c845d",
   "metadata": {},
   "outputs": [
    {
     "name": "stdout",
     "output_type": "stream",
     "text": [
      "{'Brand': 'Honda', 'Model': 'Amaze', 'Price': 90000}\n"
     ]
    }
   ],
   "source": [
    "print(car)"
   ]
  },
  {
   "cell_type": "markdown",
   "id": "2e0c186b",
   "metadata": {},
   "source": [
    "## Remove All Key, Values from Dict"
   ]
  },
  {
   "cell_type": "code",
   "execution_count": 33,
   "id": "67b04072",
   "metadata": {},
   "outputs": [],
   "source": [
    "car.clear()"
   ]
  },
  {
   "cell_type": "code",
   "execution_count": 34,
   "id": "65751aff",
   "metadata": {},
   "outputs": [
    {
     "name": "stdout",
     "output_type": "stream",
     "text": [
      "{}\n"
     ]
    }
   ],
   "source": [
    "print(car)"
   ]
  },
  {
   "cell_type": "markdown",
   "id": "8817efc8",
   "metadata": {},
   "source": [
    "## Finding the Size of Dictionary"
   ]
  },
  {
   "cell_type": "code",
   "execution_count": 35,
   "id": "1e2d0ce4",
   "metadata": {},
   "outputs": [],
   "source": [
    "car = {\"Brand\":\"Honda\",\n",
    "       \"Model\":\"Amaze\",\n",
    "       \"Price\":90000,\n",
    "       \"Milage\":32}"
   ]
  },
  {
   "cell_type": "code",
   "execution_count": 37,
   "id": "5d57010a",
   "metadata": {},
   "outputs": [
    {
     "data": {
      "text/plain": [
       "4"
      ]
     },
     "execution_count": 37,
     "metadata": {},
     "output_type": "execute_result"
    }
   ],
   "source": [
    "len(car)"
   ]
  },
  {
   "cell_type": "code",
   "execution_count": 38,
   "id": "90362e4f",
   "metadata": {},
   "outputs": [],
   "source": [
    "# delete dictionary\n",
    "del car"
   ]
  },
  {
   "cell_type": "code",
   "execution_count": 39,
   "id": "dbd7ed9c",
   "metadata": {},
   "outputs": [
    {
     "ename": "NameError",
     "evalue": "name 'car' is not defined",
     "output_type": "error",
     "traceback": [
      "\u001b[1;31m---------------------------------------------------------------------------\u001b[0m",
      "\u001b[1;31mNameError\u001b[0m                                 Traceback (most recent call last)",
      "Input \u001b[1;32mIn [39]\u001b[0m, in \u001b[0;36m<cell line: 1>\u001b[1;34m()\u001b[0m\n\u001b[1;32m----> 1\u001b[0m \u001b[38;5;28mprint\u001b[39m(\u001b[43mcar\u001b[49m)\n",
      "\u001b[1;31mNameError\u001b[0m: name 'car' is not defined"
     ]
    }
   ],
   "source": [
    "print(car)"
   ]
  },
  {
   "cell_type": "markdown",
   "id": "f9a63b48",
   "metadata": {},
   "source": [
    "## Compare Dictionary"
   ]
  },
  {
   "cell_type": "code",
   "execution_count": 40,
   "id": "7289094b",
   "metadata": {},
   "outputs": [],
   "source": [
    "car1 = {\"Brand\":\"Honda\",\n",
    "       \"Model\":\"Amaze\",\n",
    "       \"Price\":90000,\n",
    "       \"Milage\":32}"
   ]
  },
  {
   "cell_type": "code",
   "execution_count": 41,
   "id": "717d7a67",
   "metadata": {},
   "outputs": [],
   "source": [
    "car2 = {\"Brand\":\"Honda\",\n",
    "       \"Model\":\"Amaze\",\n",
    "       \"Price\":90000,\n",
    "       \"Milage\":32}"
   ]
  },
  {
   "cell_type": "code",
   "execution_count": 42,
   "id": "fcfc6529",
   "metadata": {},
   "outputs": [
    {
     "name": "stdout",
     "output_type": "stream",
     "text": [
      "True\n"
     ]
    }
   ],
   "source": [
    "print(car1==car2)"
   ]
  },
  {
   "cell_type": "code",
   "execution_count": 43,
   "id": "fb7a4e62",
   "metadata": {},
   "outputs": [],
   "source": [
    "car2 = {\"Brand\":\"Honda\",\n",
    "       \"Model\":\"Amaze\",\n",
    "       \"Milage\":32}"
   ]
  },
  {
   "cell_type": "code",
   "execution_count": 44,
   "id": "875a0126",
   "metadata": {},
   "outputs": [
    {
     "name": "stdout",
     "output_type": "stream",
     "text": [
      "False\n"
     ]
    }
   ],
   "source": [
    "print(car1==car2)"
   ]
  },
  {
   "cell_type": "code",
   "execution_count": null,
   "id": "e48b83a2",
   "metadata": {},
   "outputs": [],
   "source": []
  }
 ],
 "metadata": {
  "kernelspec": {
   "display_name": "Python 3 (ipykernel)",
   "language": "python",
   "name": "python3"
  },
  "language_info": {
   "codemirror_mode": {
    "name": "ipython",
    "version": 3
   },
   "file_extension": ".py",
   "mimetype": "text/x-python",
   "name": "python",
   "nbconvert_exporter": "python",
   "pygments_lexer": "ipython3",
   "version": "3.9.12"
  }
 },
 "nbformat": 4,
 "nbformat_minor": 5
}
