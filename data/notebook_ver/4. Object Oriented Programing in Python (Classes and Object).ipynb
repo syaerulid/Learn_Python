{
 "cells": [
  {
   "cell_type": "markdown",
   "id": "5441ca8a",
   "metadata": {},
   "source": [
    "# Object\n",
    "- A Real world entity\n",
    "- We can represent real world Entities as Object in Python\n",
    "- Classes in Python, can be used for Creating these Objects\n",
    "- Creating Variables and Functons inside the class\n",
    "- Functions inside the class in Python can be called as methods\n",
    "- self keyword will be explained later\n"
   ]
  },
  {
   "cell_type": "markdown",
   "id": "385a4361",
   "metadata": {},
   "source": [
    "# Class\n",
    "- Template / Blueprint / Factory to create Object"
   ]
  },
  {
   "cell_type": "code",
   "execution_count": 1,
   "id": "23d9ca73",
   "metadata": {},
   "outputs": [],
   "source": [
    "def sample_fun():\n",
    "    print(\"This is a sample function\")\n",
    "    # normal function"
   ]
  },
  {
   "cell_type": "code",
   "execution_count": 8,
   "id": "6e127a6c",
   "metadata": {},
   "outputs": [],
   "source": [
    "class Car:\n",
    "    \n",
    "    wheels = 4\n",
    "    # the below is a method in python (function inside the class)\n",
    "    def start_car(self):\n",
    "        print(\"Car started\")\n",
    "        \n",
    "# below is object creation statement\n",
    "Car()\n",
    "\n",
    "# object reference / not a variable\n",
    "erul = Car() # first object reference\n",
    "omeng = Car() # second object reference"
   ]
  },
  {
   "cell_type": "code",
   "execution_count": 3,
   "id": "e26ed539",
   "metadata": {},
   "outputs": [
    {
     "ename": "NameError",
     "evalue": "name 'wheels' is not defined",
     "output_type": "error",
     "traceback": [
      "\u001b[1;31m---------------------------------------------------------------------------\u001b[0m",
      "\u001b[1;31mNameError\u001b[0m                                 Traceback (most recent call last)",
      "Input \u001b[1;32mIn [3]\u001b[0m, in \u001b[0;36m<cell line: 1>\u001b[1;34m()\u001b[0m\n\u001b[1;32m----> 1\u001b[0m \u001b[38;5;28mprint\u001b[39m(\u001b[43mwheels\u001b[49m)\n",
      "\u001b[1;31mNameError\u001b[0m: name 'wheels' is not defined"
     ]
    }
   ],
   "source": [
    "print(wheels) # error"
   ]
  },
  {
   "cell_type": "code",
   "execution_count": 10,
   "id": "3b9a42d4",
   "metadata": {},
   "outputs": [
    {
     "name": "stdout",
     "output_type": "stream",
     "text": [
      "4\n"
     ]
    }
   ],
   "source": [
    "print(erul.wheels)"
   ]
  },
  {
   "cell_type": "code",
   "execution_count": 5,
   "id": "98a63846",
   "metadata": {},
   "outputs": [
    {
     "ename": "NameError",
     "evalue": "name 'start_car' is not defined",
     "output_type": "error",
     "traceback": [
      "\u001b[1;31m---------------------------------------------------------------------------\u001b[0m",
      "\u001b[1;31mNameError\u001b[0m                                 Traceback (most recent call last)",
      "Input \u001b[1;32mIn [5]\u001b[0m, in \u001b[0;36m<cell line: 1>\u001b[1;34m()\u001b[0m\n\u001b[1;32m----> 1\u001b[0m \u001b[43mstart_car\u001b[49m()\n",
      "\u001b[1;31mNameError\u001b[0m: name 'start_car' is not defined"
     ]
    }
   ],
   "source": [
    "start_car() # error because start_car is one of the property of class Car"
   ]
  },
  {
   "cell_type": "code",
   "execution_count": 9,
   "id": "cec76baa",
   "metadata": {},
   "outputs": [
    {
     "name": "stdout",
     "output_type": "stream",
     "text": [
      "Car started\n"
     ]
    }
   ],
   "source": [
    "omeng.start_car() # this one is displayed, so calling class need use object reference"
   ]
  },
  {
   "cell_type": "code",
   "execution_count": null,
   "id": "cd8fa6da",
   "metadata": {},
   "outputs": [],
   "source": []
  }
 ],
 "metadata": {
  "kernelspec": {
   "display_name": "Python 3 (ipykernel)",
   "language": "python",
   "name": "python3"
  },
  "language_info": {
   "codemirror_mode": {
    "name": "ipython",
    "version": 3
   },
   "file_extension": ".py",
   "mimetype": "text/x-python",
   "name": "python",
   "nbconvert_exporter": "python",
   "pygments_lexer": "ipython3",
   "version": "3.9.12"
  }
 },
 "nbformat": 4,
 "nbformat_minor": 5
}
