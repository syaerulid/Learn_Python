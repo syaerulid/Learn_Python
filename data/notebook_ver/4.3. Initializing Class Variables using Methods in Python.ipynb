{
 "cells": [
  {
   "cell_type": "markdown",
   "id": "083c0c0e",
   "metadata": {},
   "source": [
    "- Create a Class and different Objects\n",
    "- using a method inside Car class to initialize the class variable\n"
   ]
  },
  {
   "cell_type": "code",
   "execution_count": 4,
   "id": "14fa1637",
   "metadata": {},
   "outputs": [
    {
     "name": "stdout",
     "output_type": "stream",
     "text": [
      "Maruti car having model as Swift VDI has started\n",
      "Maruti car having model as Swift VDI has stopped\n",
      "Brand of the car: Maruti\n",
      "Model of the car is:Swift VDI\n",
      "Price of the car is: 800000\n",
      "Milage of the car is:24\n"
     ]
    }
   ],
   "source": [
    "class Car:\n",
    "    \n",
    "    def initialization_method(self,brand,model,price,milage):\n",
    "        self.brand = brand\n",
    "        self.model = model\n",
    "        self.price = price\n",
    "        self.milage = milage\n",
    "        \n",
    "    def start_car(self):\n",
    "        print(self.brand+\" car having model as \"+self.model+\" has started\")\n",
    "        \n",
    "    def stop_car(self):\n",
    "        print(self.brand+\" car having model as \"+self.model+\" has stopped\")\n",
    "        \n",
    "    def print_car_details(self):\n",
    "        print(\"Brand of the car: \"+self.brand)\n",
    "        print(\"Model of the car is:\"+self.model)\n",
    "        print(\"Price of the car is: \"+str(self.price))\n",
    "        print(\"Milage of the car is:\"+str(self.milage))\n",
    "        \n",
    "svid = Car()\n",
    "svid.initialization_method(\"Maruti\",\"Swift VDI\",800000,24)\n",
    "\n",
    "hamz = Car()\n",
    "hamz.initialization_method(\"Toyota\",\"Agya\",20000,10)\n",
    "\n",
    "svid.start_car()\n",
    "svid.stop_car()\n",
    "svid.print_car_details()"
   ]
  },
  {
   "cell_type": "code",
   "execution_count": 5,
   "id": "2ee3879f",
   "metadata": {},
   "outputs": [
    {
     "name": "stdout",
     "output_type": "stream",
     "text": [
      "Toyota car having model as Agya has started\n",
      "Toyota car having model as Agya has stopped\n",
      "Brand of the car: Toyota\n",
      "Model of the car is:Agya\n",
      "Price of the car is: 20000\n",
      "Milage of the car is:10\n"
     ]
    }
   ],
   "source": [
    "hamz.start_car()\n",
    "hamz.stop_car()\n",
    "hamz.print_car_details()"
   ]
  },
  {
   "cell_type": "code",
   "execution_count": null,
   "id": "6049a1dc",
   "metadata": {},
   "outputs": [],
   "source": []
  }
 ],
 "metadata": {
  "kernelspec": {
   "display_name": "Python 3 (ipykernel)",
   "language": "python",
   "name": "python3"
  },
  "language_info": {
   "codemirror_mode": {
    "name": "ipython",
    "version": 3
   },
   "file_extension": ".py",
   "mimetype": "text/x-python",
   "name": "python",
   "nbconvert_exporter": "python",
   "pygments_lexer": "ipython3",
   "version": "3.9.12"
  }
 },
 "nbformat": 4,
 "nbformat_minor": 5
}
