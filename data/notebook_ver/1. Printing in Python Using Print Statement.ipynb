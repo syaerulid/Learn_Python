{
 "cells": [
  {
   "cell_type": "markdown",
   "id": "0b87357f",
   "metadata": {},
   "source": [
    "## Print Text"
   ]
  },
  {
   "cell_type": "code",
   "execution_count": 1,
   "id": "832e84dc",
   "metadata": {},
   "outputs": [
    {
     "name": "stdout",
     "output_type": "stream",
     "text": [
      "Syaerul Rochman\n"
     ]
    }
   ],
   "source": [
    "print(\"Syaerul Rochman\")"
   ]
  },
  {
   "cell_type": "code",
   "execution_count": 4,
   "id": "00503f48",
   "metadata": {},
   "outputs": [
    {
     "name": "stdout",
     "output_type": "stream",
     "text": [
      "My Name is Syaerul Rochman\n",
      "I'am currently Learning About\n",
      "Python Right Now\n"
     ]
    }
   ],
   "source": [
    "print(\"My Name is Syaerul Rochman\")\n",
    "print(\"I'am currently Learning About\")\n",
    "print(\"Python Right Now\")"
   ]
  },
  {
   "cell_type": "markdown",
   "id": "f5dc181a",
   "metadata": {},
   "source": [
    "## Print Number"
   ]
  },
  {
   "cell_type": "code",
   "execution_count": 3,
   "id": "6ce854ba",
   "metadata": {},
   "outputs": [
    {
     "name": "stdout",
     "output_type": "stream",
     "text": [
      "9\n"
     ]
    }
   ],
   "source": [
    "print(9)"
   ]
  },
  {
   "cell_type": "markdown",
   "id": "37f402d6",
   "metadata": {},
   "source": [
    "## Printing in 1 One Line"
   ]
  },
  {
   "cell_type": "code",
   "execution_count": 8,
   "id": "9c889c0f",
   "metadata": {},
   "outputs": [
    {
     "name": "stdout",
     "output_type": "stream",
     "text": [
      "1 2 3 "
     ]
    }
   ],
   "source": [
    "print(1, end =\" \") ## use =\"\"\n",
    "print(2, end =\" \")\n",
    "print(3, end =\" \")"
   ]
  },
  {
   "cell_type": "code",
   "execution_count": null,
   "id": "e26a5c41",
   "metadata": {},
   "outputs": [],
   "source": []
  }
 ],
 "metadata": {
  "kernelspec": {
   "display_name": "Python 3 (ipykernel)",
   "language": "python",
   "name": "python3"
  },
  "language_info": {
   "codemirror_mode": {
    "name": "ipython",
    "version": 3
   },
   "file_extension": ".py",
   "mimetype": "text/x-python",
   "name": "python",
   "nbconvert_exporter": "python",
   "pygments_lexer": "ipython3",
   "version": "3.9.12"
  }
 },
 "nbformat": 4,
 "nbformat_minor": 5
}
