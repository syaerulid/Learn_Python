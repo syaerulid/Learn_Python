{
 "cells": [
  {
   "cell_type": "markdown",
   "id": "efe4167f",
   "metadata": {},
   "source": [
    "- Using + sign for String Concatenation\n",
    "      - + can only Concatenate String text with another String text\n",
    "      - + cannot be used to contatenate String text with a number\n",
    "    \n",
    "- Using, sign in print statements when concateting string text with numbers"
   ]
  },
  {
   "cell_type": "code",
   "execution_count": 1,
   "id": "51320276",
   "metadata": {},
   "outputs": [
    {
     "name": "stdout",
     "output_type": "stream",
     "text": [
      "Syaerul Rochman\n"
     ]
    }
   ],
   "source": [
    "print(\"Syaerul\" + \" \" + \"Rochman\") # Concatenation Operator"
   ]
  },
  {
   "cell_type": "code",
   "execution_count": 2,
   "id": "3aaa308d",
   "metadata": {},
   "outputs": [
    {
     "name": "stdout",
     "output_type": "stream",
     "text": [
      "9\n"
     ]
    }
   ],
   "source": [
    "print(5+4) # Addition Operator"
   ]
  },
  {
   "cell_type": "code",
   "execution_count": 3,
   "id": "300bd3bb",
   "metadata": {},
   "outputs": [
    {
     "ename": "TypeError",
     "evalue": "can only concatenate str (not \"int\") to str",
     "output_type": "error",
     "traceback": [
      "\u001b[1;31m---------------------------------------------------------------------------\u001b[0m",
      "\u001b[1;31mTypeError\u001b[0m                                 Traceback (most recent call last)",
      "Input \u001b[1;32mIn [3]\u001b[0m, in \u001b[0;36m<cell line: 1>\u001b[1;34m()\u001b[0m\n\u001b[1;32m----> 1\u001b[0m \u001b[38;5;28mprint\u001b[39m(\u001b[38;5;124;43m\"\u001b[39;49m\u001b[38;5;124;43mSyaerul\u001b[39;49m\u001b[38;5;124;43m\"\u001b[39;49m\u001b[43m \u001b[49m\u001b[38;5;241;43m+\u001b[39;49m\u001b[43m \u001b[49m\u001b[38;5;241;43m9\u001b[39;49m)\n",
      "\u001b[1;31mTypeError\u001b[0m: can only concatenate str (not \"int\") to str"
     ]
    }
   ],
   "source": [
    "print(\"Syaerul\" + 9) # Error"
   ]
  },
  {
   "cell_type": "code",
   "execution_count": 4,
   "id": "3b7be01c",
   "metadata": {},
   "outputs": [
    {
     "name": "stdout",
     "output_type": "stream",
     "text": [
      "Syaerul9\n"
     ]
    }
   ],
   "source": [
    "print(\"Syaerul\" + str(9)) # not error"
   ]
  },
  {
   "cell_type": "code",
   "execution_count": 5,
   "id": "12f5f54d",
   "metadata": {},
   "outputs": [
    {
     "name": "stdout",
     "output_type": "stream",
     "text": [
      "Syaerul 9\n"
     ]
    }
   ],
   "source": [
    "print('Syaerul', 9) # not error but get spaces"
   ]
  },
  {
   "cell_type": "code",
   "execution_count": null,
   "id": "5d63eef0",
   "metadata": {},
   "outputs": [],
   "source": []
  }
 ],
 "metadata": {
  "kernelspec": {
   "display_name": "Python 3 (ipykernel)",
   "language": "python",
   "name": "python3"
  },
  "language_info": {
   "codemirror_mode": {
    "name": "ipython",
    "version": 3
   },
   "file_extension": ".py",
   "mimetype": "text/x-python",
   "name": "python",
   "nbconvert_exporter": "python",
   "pygments_lexer": "ipython3",
   "version": "3.9.12"
  }
 },
 "nbformat": 4,
 "nbformat_minor": 5
}
