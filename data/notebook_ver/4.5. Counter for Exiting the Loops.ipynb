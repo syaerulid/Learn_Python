{
 "cells": [
  {
   "cell_type": "code",
   "execution_count": 1,
   "id": "19dd9e55",
   "metadata": {},
   "outputs": [
    {
     "name": "stdout",
     "output_type": "stream",
     "text": [
      "Enter a number or type -1 to stop: -1\n",
      "The largest number is: -999999999\n"
     ]
    }
   ],
   "source": [
    "## some programs to exits for / while loops\n",
    "#Store the current largest number here.\n",
    "largest_number = -999999999\n",
    "\n",
    "# Input the first value.\n",
    "number = int(input(\"Enter a number or type -1 to stop: \"))\n",
    "\n",
    "# If the number is not equal to -1, continue.\n",
    "while number != -1:\n",
    "    # Is number larger than largest_number?\n",
    "    if number > largest_number:\n",
    "        # Yes, update largest_number.\n",
    "        largest_number = number\n",
    "    # Input the next number.\n",
    "    number = int(input(\"Enter a number or type -1 to stop: \"))\n",
    "\n",
    "# Print the largest number.\n",
    "print(\"The largest number is:\", largest_number)\n"
   ]
  },
  {
   "cell_type": "code",
   "execution_count": 3,
   "id": "d8494665",
   "metadata": {},
   "outputs": [
    {
     "name": "stdout",
     "output_type": "stream",
     "text": [
      "Enter a number or type 0 to stop: 9\n",
      "Enter a number or type 0 to stop: 8\n",
      "Enter a number or type 0 to stop: 4\n",
      "Enter a number or type 0 to stop: 2\n",
      "Enter a number or type 0 to stop: 0\n",
      "Odd numbers count: 1\n",
      "Even numbers count: 3\n"
     ]
    }
   ],
   "source": [
    "# A program that reads a sequence of numbers\n",
    "# and counts how many numbers are even and how many are odd.\n",
    "# The program terminates when zero is entered.\n",
    "\n",
    "odd_numbers = 0\n",
    "even_numbers = 0\n",
    "\n",
    "# Read the first number.\n",
    "number = int(input(\"Enter a number or type 0 to stop: \"))\n",
    "\n",
    "# 0 terminates execution.\n",
    "while number != 0:\n",
    "    # Check if the number is odd.\n",
    "    if number % 2 == 1:\n",
    "        # Increase the odd_numbers counter.\n",
    "        odd_numbers += 1\n",
    "    else:\n",
    "        # Increase the even_numbers counter.\n",
    "        even_numbers += 1\n",
    "    # Read the next number.\n",
    "    number = int(input(\"Enter a number or type 0 to stop: \"))\n",
    "\n",
    "# Print results.\n",
    "print(\"Odd numbers count:\", odd_numbers)\n",
    "print(\"Even numbers count:\", even_numbers)"
   ]
  },
  {
   "cell_type": "code",
   "execution_count": 4,
   "id": "46408c0b",
   "metadata": {},
   "outputs": [
    {
     "name": "stdout",
     "output_type": "stream",
     "text": [
      "Inside the loop. 10\n",
      "Inside the loop. 9\n",
      "Inside the loop. 8\n",
      "Inside the loop. 7\n",
      "Inside the loop. 6\n",
      "Inside the loop. 5\n",
      "Inside the loop. 4\n",
      "Inside the loop. 3\n",
      "Inside the loop. 2\n",
      "Inside the loop. 1\n",
      "Outside the loop. 0\n"
     ]
    }
   ],
   "source": [
    "\"\"\"Using a counter variable to exit a loop\n",
    "Look at the snippet below:\"\"\"\n",
    "\n",
    "counter = 10\n",
    "while counter != 0:\n",
    "    print(\"Inside the loop.\", counter)\n",
    "    counter -= 1\n",
    "print(\"Outside the loop.\", counter)"
   ]
  },
  {
   "cell_type": "code",
   "execution_count": 5,
   "id": "e8eed8f7",
   "metadata": {},
   "outputs": [
    {
     "name": "stdout",
     "output_type": "stream",
     "text": [
      "Guess the magic number :777\n",
      "Well done, muggle! You are free now.\n"
     ]
    },
    {
     "data": {
      "text/plain": [
       "\"\\n+================================+\\n| Welcome to my game, muggle!    |\\n| Enter an integer number        |\\n| and guess what number I've     |\\n| picked for you.                |\\n| So, what is the secret number? |\\n+================================+\\n\""
      ]
     },
     "execution_count": 5,
     "metadata": {},
     "output_type": "execute_result"
    }
   ],
   "source": [
    "secret_number = 777\n",
    "magic = int(input(\"Guess the magic number :\"))\n",
    "while magic != secret_number:\n",
    "    print(\"Ha ha! You're stuck in my loop!\", magic)\n",
    "    magic -= 1\n",
    "print(\"Well done, muggle! You are free now.\")\n",
    "\n",
    "(\n",
    "\"\"\"\n",
    "+================================+\n",
    "| Welcome to my game, muggle!    |\n",
    "| Enter an integer number        |\n",
    "| and guess what number I've     |\n",
    "| picked for you.                |\n",
    "| So, what is the secret number? |\n",
    "+================================+\n",
    "\"\"\")\n"
   ]
  },
  {
   "cell_type": "code",
   "execution_count": 6,
   "id": "532f5560",
   "metadata": {},
   "outputs": [
    {
     "name": "stdout",
     "output_type": "stream",
     "text": [
      "1 Mississipi\n",
      "2 Mississipi\n",
      "3 Mississipi\n",
      "4 Mississipi\n",
      "5 Mississipi\n",
      "Ready or not, here I come\n"
     ]
    }
   ],
   "source": [
    "import time\n",
    "\n",
    "for i in range(1,6):\n",
    "    print(str(i) + \" Mississipi\")\n",
    "    i+=1\n",
    "    counter = 5\n",
    "print(\"Ready or not, here I come\")\n",
    "\n",
    "# use counter to exit the loop"
   ]
  },
  {
   "cell_type": "code",
   "execution_count": null,
   "id": "ee19d114",
   "metadata": {},
   "outputs": [],
   "source": []
  }
 ],
 "metadata": {
  "kernelspec": {
   "display_name": "Python 3 (ipykernel)",
   "language": "python",
   "name": "python3"
  },
  "language_info": {
   "codemirror_mode": {
    "name": "ipython",
    "version": 3
   },
   "file_extension": ".py",
   "mimetype": "text/x-python",
   "name": "python",
   "nbconvert_exporter": "python",
   "pygments_lexer": "ipython3",
   "version": "3.9.12"
  }
 },
 "nbformat": 4,
 "nbformat_minor": 5
}
