{
 "cells": [
  {
   "cell_type": "markdown",
   "id": "1b08a1e4",
   "metadata": {},
   "source": [
    "# Tuple"
   ]
  },
  {
   "cell_type": "markdown",
   "id": "9c3d0d21",
   "metadata": {},
   "source": [
    "- One of the four Colleciton data types in Python\n",
    "    - Create Tuple using()\n",
    "    - Print Tuple\n",
    "        - a = (5,1,3,4,8)\n",
    "        - print(a))\n",
    "        - print(type(a)\n",
    "    - Access Value in Type\n",
    "        - Forward Index\n",
    "        - Backward Index\n",
    "- Tuples are Immutable \n",
    "     - Cannot be modified / updated\n",
    "     - We cannot update values like List\n",
    "     - a[0] = 9 will not possible and get error\n",
    "     - we cannot use append(), insert(), remove() and pop() commands\n",
    "     - sort() and reverse() are not possible"
   ]
  },
  {
   "cell_type": "markdown",
   "id": "3a1e4098",
   "metadata": {},
   "source": [
    "## Example Immutable"
   ]
  },
  {
   "cell_type": "code",
   "execution_count": 2,
   "id": "3d5df6d6",
   "metadata": {},
   "outputs": [
    {
     "name": "stdout",
     "output_type": "stream",
     "text": [
      "(9, 1, 5, 7)\n"
     ]
    }
   ],
   "source": [
    "a = (9,1,5,7)\n",
    "print(a)"
   ]
  },
  {
   "cell_type": "code",
   "execution_count": 4,
   "id": "bc4846c8",
   "metadata": {},
   "outputs": [
    {
     "ename": "TypeError",
     "evalue": "'tuple' object does not support item assignment",
     "output_type": "error",
     "traceback": [
      "\u001b[1;31m---------------------------------------------------------------------------\u001b[0m",
      "\u001b[1;31mTypeError\u001b[0m                                 Traceback (most recent call last)",
      "Input \u001b[1;32mIn [4]\u001b[0m, in \u001b[0;36m<cell line: 1>\u001b[1;34m()\u001b[0m\n\u001b[1;32m----> 1\u001b[0m a[\u001b[38;5;241m2\u001b[39m] \u001b[38;5;241m=\u001b[39m \u001b[38;5;241m6\u001b[39m\n",
      "\u001b[1;31mTypeError\u001b[0m: 'tuple' object does not support item assignment"
     ]
    }
   ],
   "source": [
    "a[2] = 6 # this is the example"
   ]
  },
  {
   "cell_type": "code",
   "execution_count": 5,
   "id": "f518c661",
   "metadata": {},
   "outputs": [
    {
     "name": "stdout",
     "output_type": "stream",
     "text": [
      "9\n",
      "1\n",
      "5\n",
      "7\n"
     ]
    }
   ],
   "source": [
    "a = (9,1,5,7)\n",
    "\n",
    "print(a[0])\n",
    "print(a[1])\n",
    "print(a[2])\n",
    "print(a[3])"
   ]
  },
  {
   "cell_type": "markdown",
   "id": "d52e6107",
   "metadata": {},
   "source": [
    "## Forward and Backwards index"
   ]
  },
  {
   "cell_type": "code",
   "execution_count": 6,
   "id": "b9a72ea8",
   "metadata": {},
   "outputs": [
    {
     "name": "stdout",
     "output_type": "stream",
     "text": [
      "5\n",
      "1\n"
     ]
    }
   ],
   "source": [
    "a = (9,1,5,7)\n",
    "\n",
    "print(a[2]) #Forward Index\n",
    "print(a[-3]) #Backward Index"
   ]
  },
  {
   "cell_type": "markdown",
   "id": "3da75c09",
   "metadata": {},
   "source": [
    "## Using For Loop with Tuple:\n",
    "- for num in a:\n",
    "    - print(num)\n",
    "- for i in range(5):\n",
    "    - print(a[i])\n",
    "- length = len(a)\n",
    "- for i in range(length):\n",
    "    - print(a[i])"
   ]
  },
  {
   "cell_type": "code",
   "execution_count": 9,
   "id": "eeff345f",
   "metadata": {},
   "outputs": [],
   "source": [
    "a = (9,1,5,7)"
   ]
  },
  {
   "cell_type": "code",
   "execution_count": 11,
   "id": "8dfddf15",
   "metadata": {},
   "outputs": [
    {
     "name": "stdout",
     "output_type": "stream",
     "text": [
      "9\n",
      "1\n",
      "5\n",
      "7\n"
     ]
    }
   ],
   "source": [
    "for num in a:\n",
    "    print(num)"
   ]
  },
  {
   "cell_type": "code",
   "execution_count": 13,
   "id": "061df3dc",
   "metadata": {},
   "outputs": [
    {
     "name": "stdout",
     "output_type": "stream",
     "text": [
      "9\n",
      "1\n",
      "5\n",
      "7\n"
     ]
    }
   ],
   "source": [
    "for i in range(4):\n",
    "    print(a[i])"
   ]
  },
  {
   "cell_type": "code",
   "execution_count": 15,
   "id": "bac21931",
   "metadata": {},
   "outputs": [
    {
     "data": {
      "text/plain": [
       "4"
      ]
     },
     "execution_count": 15,
     "metadata": {},
     "output_type": "execute_result"
    }
   ],
   "source": [
    "length = len(a)\n",
    "length"
   ]
  },
  {
   "cell_type": "code",
   "execution_count": 16,
   "id": "b3ce25fd",
   "metadata": {},
   "outputs": [
    {
     "name": "stdout",
     "output_type": "stream",
     "text": [
      "9\n",
      "1\n",
      "5\n",
      "7\n"
     ]
    }
   ],
   "source": [
    "for i in range(length):\n",
    "    print(a[i])"
   ]
  },
  {
   "cell_type": "markdown",
   "id": "b61eb30c",
   "metadata": {},
   "source": [
    "## Slicing Tuple (Same with Lists)"
   ]
  },
  {
   "cell_type": "code",
   "execution_count": 17,
   "id": "3ecbcdb5",
   "metadata": {},
   "outputs": [],
   "source": [
    "a = (9,1,5,7)"
   ]
  },
  {
   "cell_type": "code",
   "execution_count": 18,
   "id": "22a48c74",
   "metadata": {},
   "outputs": [
    {
     "name": "stdout",
     "output_type": "stream",
     "text": [
      "(1, 5)\n"
     ]
    }
   ],
   "source": [
    "print(a[1:3]) # index : position"
   ]
  },
  {
   "cell_type": "code",
   "execution_count": 20,
   "id": "30e04e36",
   "metadata": {},
   "outputs": [
    {
     "name": "stdout",
     "output_type": "stream",
     "text": [
      "(9,)\n"
     ]
    }
   ],
   "source": [
    "print(a[:1])"
   ]
  },
  {
   "cell_type": "markdown",
   "id": "97c23018",
   "metadata": {},
   "source": [
    "## In and Not In with Tuple()"
   ]
  },
  {
   "cell_type": "code",
   "execution_count": 22,
   "id": "e35a3c7a",
   "metadata": {},
   "outputs": [],
   "source": [
    "a = (9,1,5,7)"
   ]
  },
  {
   "cell_type": "code",
   "execution_count": 23,
   "id": "c244d2ac",
   "metadata": {},
   "outputs": [
    {
     "name": "stdout",
     "output_type": "stream",
     "text": [
      "True\n"
     ]
    }
   ],
   "source": [
    "print(5 in a)"
   ]
  },
  {
   "cell_type": "code",
   "execution_count": 24,
   "id": "76a20666",
   "metadata": {},
   "outputs": [
    {
     "name": "stdout",
     "output_type": "stream",
     "text": [
      "False\n"
     ]
    }
   ],
   "source": [
    "print(10 in a)"
   ]
  },
  {
   "cell_type": "code",
   "execution_count": 25,
   "id": "524e5cfd",
   "metadata": {},
   "outputs": [
    {
     "name": "stdout",
     "output_type": "stream",
     "text": [
      "True\n"
     ]
    }
   ],
   "source": [
    "print(11 not in a)"
   ]
  },
  {
   "cell_type": "markdown",
   "id": "d62278c6",
   "metadata": {},
   "source": [
    "## Count in Tuple"
   ]
  },
  {
   "cell_type": "code",
   "execution_count": 26,
   "id": "365499db",
   "metadata": {},
   "outputs": [],
   "source": [
    "a = (9,1,5,7,6,9,1,2,3,1,9)"
   ]
  },
  {
   "cell_type": "code",
   "execution_count": 27,
   "id": "dd40f427",
   "metadata": {},
   "outputs": [
    {
     "name": "stdout",
     "output_type": "stream",
     "text": [
      "3\n"
     ]
    }
   ],
   "source": [
    "print(a.count(1))"
   ]
  },
  {
   "cell_type": "code",
   "execution_count": 28,
   "id": "e1112d37",
   "metadata": {},
   "outputs": [
    {
     "name": "stdout",
     "output_type": "stream",
     "text": [
      "53\n"
     ]
    }
   ],
   "source": [
    "print(sum(a))"
   ]
  },
  {
   "cell_type": "code",
   "execution_count": 29,
   "id": "9dbc236b",
   "metadata": {},
   "outputs": [
    {
     "name": "stdout",
     "output_type": "stream",
     "text": [
      "9\n"
     ]
    }
   ],
   "source": [
    "print(max(a))"
   ]
  },
  {
   "cell_type": "code",
   "execution_count": 30,
   "id": "3b0e21c7",
   "metadata": {},
   "outputs": [
    {
     "name": "stdout",
     "output_type": "stream",
     "text": [
      "1\n"
     ]
    }
   ],
   "source": [
    "print(min(a))"
   ]
  },
  {
   "cell_type": "code",
   "execution_count": 32,
   "id": "2fd69865",
   "metadata": {},
   "outputs": [
    {
     "name": "stdout",
     "output_type": "stream",
     "text": [
      "4\n"
     ]
    }
   ],
   "source": [
    "print(a.index(6))"
   ]
  },
  {
   "cell_type": "code",
   "execution_count": 33,
   "id": "76448290",
   "metadata": {},
   "outputs": [
    {
     "data": {
      "text/plain": [
       "tuple"
      ]
     },
     "execution_count": 33,
     "metadata": {},
     "output_type": "execute_result"
    }
   ],
   "source": [
    "type(a)"
   ]
  },
  {
   "cell_type": "markdown",
   "id": "eed3d1dc",
   "metadata": {},
   "source": [
    "## Nested Tuple"
   ]
  },
  {
   "cell_type": "code",
   "execution_count": 34,
   "id": "ffd01b35",
   "metadata": {},
   "outputs": [],
   "source": [
    "a = (9, (6,7,2,3), 4,5,6)"
   ]
  },
  {
   "cell_type": "code",
   "execution_count": 36,
   "id": "8159e501",
   "metadata": {},
   "outputs": [
    {
     "name": "stdout",
     "output_type": "stream",
     "text": [
      "(6, 7, 2, 3)\n"
     ]
    }
   ],
   "source": [
    "print(a[1])"
   ]
  },
  {
   "cell_type": "code",
   "execution_count": 39,
   "id": "7089bbe4",
   "metadata": {},
   "outputs": [
    {
     "name": "stdout",
     "output_type": "stream",
     "text": [
      "6\n"
     ]
    }
   ],
   "source": [
    "print(a[1][0])"
   ]
  },
  {
   "cell_type": "markdown",
   "id": "b4ada257",
   "metadata": {},
   "source": [
    "## Typecast"
   ]
  },
  {
   "cell_type": "code",
   "execution_count": 40,
   "id": "65f6c9ae",
   "metadata": {},
   "outputs": [],
   "source": [
    "a = tuple(\"Erul\")"
   ]
  },
  {
   "cell_type": "code",
   "execution_count": 41,
   "id": "edae9b55",
   "metadata": {},
   "outputs": [
    {
     "name": "stdout",
     "output_type": "stream",
     "text": [
      "E\n",
      "r\n",
      "u\n",
      "l\n"
     ]
    }
   ],
   "source": [
    "for e in a:\n",
    "    print(e)"
   ]
  },
  {
   "cell_type": "code",
   "execution_count": null,
   "id": "5b998a6e",
   "metadata": {},
   "outputs": [],
   "source": []
  }
 ],
 "metadata": {
  "kernelspec": {
   "display_name": "Python 3 (ipykernel)",
   "language": "python",
   "name": "python3"
  },
  "language_info": {
   "codemirror_mode": {
    "name": "ipython",
    "version": 3
   },
   "file_extension": ".py",
   "mimetype": "text/x-python",
   "name": "python",
   "nbconvert_exporter": "python",
   "pygments_lexer": "ipython3",
   "version": "3.9.12"
  }
 },
 "nbformat": 4,
 "nbformat_minor": 5
}
