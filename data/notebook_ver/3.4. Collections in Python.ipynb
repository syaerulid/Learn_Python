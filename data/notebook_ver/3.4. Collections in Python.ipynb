{
 "cells": [
  {
   "cell_type": "markdown",
   "id": "2e981ab7",
   "metadata": {},
   "source": [
    "Collections in Python\n",
    "   - Collection Data Types - List, Tuple, Set and Dictionary"
   ]
  },
  {
   "cell_type": "markdown",
   "id": "b40fcca5",
   "metadata": {},
   "source": [
    "Collections is\n",
    "- Data Types\n",
    "which allow us to store multiple values into a single variable"
   ]
  },
  {
   "cell_type": "markdown",
   "id": "54ba8bde",
   "metadata": {},
   "source": [
    "4 Collection Data Types in Python :\n",
    "   - List\n",
    "   - Tuple\n",
    "   - Set\n",
    "   - Dictionary"
   ]
  },
  {
   "cell_type": "code",
   "execution_count": 2,
   "id": "df017045",
   "metadata": {},
   "outputs": [],
   "source": [
    "# Example storing multiple values\n",
    "colors = [\"orange\",\"green\",\"yellow\",\"red\",\"white\"]"
   ]
  },
  {
   "cell_type": "code",
   "execution_count": 3,
   "id": "b69eb88d",
   "metadata": {},
   "outputs": [
    {
     "name": "stdout",
     "output_type": "stream",
     "text": [
      "<class 'list'>\n"
     ]
    }
   ],
   "source": [
    "print(type(colors))"
   ]
  },
  {
   "cell_type": "code",
   "execution_count": null,
   "id": "30646db4",
   "metadata": {},
   "outputs": [],
   "source": []
  }
 ],
 "metadata": {
  "kernelspec": {
   "display_name": "Python 3 (ipykernel)",
   "language": "python",
   "name": "python3"
  },
  "language_info": {
   "codemirror_mode": {
    "name": "ipython",
    "version": 3
   },
   "file_extension": ".py",
   "mimetype": "text/x-python",
   "name": "python",
   "nbconvert_exporter": "python",
   "pygments_lexer": "ipython3",
   "version": "3.9.12"
  }
 },
 "nbformat": 4,
 "nbformat_minor": 5
}
