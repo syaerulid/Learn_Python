{
 "cells": [
  {
   "cell_type": "markdown",
   "id": "52d51e55",
   "metadata": {},
   "source": [
    "Types of Inheritance\n",
    "   - Single\n",
    "   - Multilevel\n",
    "   - Hierirchal - Two child classes have same parent class\n",
    "   - Multiple - A child class has two parent classes - class Three(One,Two):\n",
    "   - Hybrid - Hierarchical + Multiple\n"
   ]
  },
  {
   "cell_type": "code",
   "execution_count": 3,
   "id": "27f1e285",
   "metadata": {},
   "outputs": [],
   "source": [
    "# Multilevel\n",
    "\n",
    "class A:\n",
    "    a = 9\n",
    "\n",
    "class B(A):\n",
    "    b = 10\n",
    "    \n",
    "class C(B):\n",
    "    c = 11\n",
    "    \n",
    "obj = C() #using object from Class C, i can access all object in A,B,C"
   ]
  },
  {
   "cell_type": "code",
   "execution_count": 4,
   "id": "d18af953",
   "metadata": {},
   "outputs": [
    {
     "name": "stdout",
     "output_type": "stream",
     "text": [
      "9\n",
      "10\n",
      "11\n"
     ]
    }
   ],
   "source": [
    "print(obj.a)\n",
    "print(obj.b)\n",
    "print(obj.c)"
   ]
  },
  {
   "cell_type": "code",
   "execution_count": 5,
   "id": "eda9774a",
   "metadata": {},
   "outputs": [],
   "source": [
    "# Hierarchical (One Parents two Child)\n",
    "class A:\n",
    "    a = 9\n",
    "    \n",
    "class B(A):\n",
    "    b = 10\n",
    "    \n",
    "class C(A):\n",
    "    c = 11"
   ]
  },
  {
   "cell_type": "code",
   "execution_count": 8,
   "id": "ee899cd6",
   "metadata": {},
   "outputs": [],
   "source": [
    "# Multiple (Single Class Multiple Parents)\n",
    "class A:\n",
    "    a = 9\n",
    "    \n",
    "class B:\n",
    "    b = 10\n",
    "\n",
    "class C(A,B):\n",
    "    c = 11"
   ]
  },
  {
   "cell_type": "code",
   "execution_count": 9,
   "id": "09efb6dd",
   "metadata": {},
   "outputs": [],
   "source": [
    "# Hybrid = Multiple + Hierarchical\n",
    "class A:\n",
    "    a = 5\n",
    "    \n",
    "class B(A):\n",
    "    b = 6\n",
    "\n",
    "class C(A):\n",
    "    c = 7\n",
    "    \n",
    "class D(B,C):\n",
    "    d = 8\n",
    "    \n",
    "obj = D()"
   ]
  },
  {
   "cell_type": "code",
   "execution_count": 10,
   "id": "9076f23a",
   "metadata": {},
   "outputs": [
    {
     "name": "stdout",
     "output_type": "stream",
     "text": [
      "5\n",
      "6\n",
      "7\n",
      "8\n"
     ]
    }
   ],
   "source": [
    "print(obj.a)\n",
    "print(obj.b)\n",
    "print(obj.c)\n",
    "print(obj.d)"
   ]
  },
  {
   "cell_type": "code",
   "execution_count": null,
   "id": "e284c15b",
   "metadata": {},
   "outputs": [],
   "source": []
  }
 ],
 "metadata": {
  "kernelspec": {
   "display_name": "Python 3 (ipykernel)",
   "language": "python",
   "name": "python3"
  },
  "language_info": {
   "codemirror_mode": {
    "name": "ipython",
    "version": 3
   },
   "file_extension": ".py",
   "mimetype": "text/x-python",
   "name": "python",
   "nbconvert_exporter": "python",
   "pygments_lexer": "ipython3",
   "version": "3.9.12"
  }
 },
 "nbformat": 4,
 "nbformat_minor": 5
}
