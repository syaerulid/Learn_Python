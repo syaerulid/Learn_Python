{
 "cells": [
  {
   "cell_type": "markdown",
   "id": "f252f700",
   "metadata": {},
   "source": [
    "Precedence :\n",
    "   - () have the highest priority in Python\n",
    "   - Folloed by **(Exponential Operator)\n",
    "   - Followed by * / % // (have same precedence)\n",
    "   - Followed byu +- (have the same precedence)\n",
    "   - Same precedence Operators are evaluated from left to right"
   ]
  },
  {
   "cell_type": "code",
   "execution_count": 3,
   "id": "fdeb953d",
   "metadata": {},
   "outputs": [
    {
     "name": "stdout",
     "output_type": "stream",
     "text": [
      "35\n"
     ]
    }
   ],
   "source": [
    "# Example\n",
    "print((3+4)*5) # if normal operator then result is 23 but because of () priority the result is different"
   ]
  },
  {
   "cell_type": "code",
   "execution_count": 4,
   "id": "2e85f028",
   "metadata": {},
   "outputs": [
    {
     "name": "stdout",
     "output_type": "stream",
     "text": [
      "48\n"
     ]
    }
   ],
   "source": [
    "print(3*4**2) # exponential first, 16 x 3"
   ]
  },
  {
   "cell_type": "code",
   "execution_count": 6,
   "id": "7172a530",
   "metadata": {},
   "outputs": [
    {
     "name": "stdout",
     "output_type": "stream",
     "text": [
      "144\n"
     ]
    }
   ],
   "source": [
    "print((3*4)**2) # () then exponential so, 12 ** 2"
   ]
  },
  {
   "cell_type": "code",
   "execution_count": 10,
   "id": "0b70ad5a",
   "metadata": {},
   "outputs": [
    {
     "name": "stdout",
     "output_type": "stream",
     "text": [
      "0.0\n"
     ]
    }
   ],
   "source": [
    "print(4*3/2%4//3) # left to right"
   ]
  },
  {
   "cell_type": "code",
   "execution_count": 11,
   "id": "449633b3",
   "metadata": {},
   "outputs": [
    {
     "name": "stdout",
     "output_type": "stream",
     "text": [
      "12\n"
     ]
    }
   ],
   "source": [
    "print(8-3+7) # left to right"
   ]
  },
  {
   "cell_type": "code",
   "execution_count": 12,
   "id": "205fc514",
   "metadata": {},
   "outputs": [
    {
     "name": "stdout",
     "output_type": "stream",
     "text": [
      "12\n"
     ]
    }
   ],
   "source": [
    "print(8+7-3) # same result"
   ]
  },
  {
   "cell_type": "code",
   "execution_count": null,
   "id": "088be98c",
   "metadata": {},
   "outputs": [],
   "source": []
  }
 ],
 "metadata": {
  "kernelspec": {
   "display_name": "Python 3 (ipykernel)",
   "language": "python",
   "name": "python3"
  },
  "language_info": {
   "codemirror_mode": {
    "name": "ipython",
    "version": 3
   },
   "file_extension": ".py",
   "mimetype": "text/x-python",
   "name": "python",
   "nbconvert_exporter": "python",
   "pygments_lexer": "ipython3",
   "version": "3.9.12"
  }
 },
 "nbformat": 4,
 "nbformat_minor": 5
}
