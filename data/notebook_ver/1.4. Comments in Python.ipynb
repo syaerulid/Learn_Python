{
 "cells": [
  {
   "cell_type": "markdown",
   "id": "00f5a7c6",
   "metadata": {},
   "source": [
    "# Single Line Comments in Python Using '#'"
   ]
  },
  {
   "cell_type": "code",
   "execution_count": 1,
   "id": "2f803423",
   "metadata": {},
   "outputs": [
    {
     "name": "stdout",
     "output_type": "stream",
     "text": [
      "9\n",
      "19\n",
      "30\n"
     ]
    }
   ],
   "source": [
    "# The below code stores 5 and 4 into variables a and b, performs the addition and then prints the result\n",
    "a = 5\n",
    "b = 4\n",
    "sum = a+b\n",
    "print(sum)\n",
    "print(sum+10)\n",
    "print(sum+21)"
   ]
  },
  {
   "cell_type": "markdown",
   "id": "142cfb90",
   "metadata": {},
   "source": [
    "# Multiple Line Comments in Python Using \""
   ]
  },
  {
   "cell_type": "code",
   "execution_count": 2,
   "id": "e731d42b",
   "metadata": {},
   "outputs": [
    {
     "name": "stdout",
     "output_type": "stream",
     "text": [
      "15\n"
     ]
    }
   ],
   "source": [
    "\"\"\"\n",
    "My Name is Syaerul, I'm learn about python and how to use operator in Python Right now.\n",
    "I try to use sum and print function from the stored variables below\n",
    "\"\"\"\n",
    "\n",
    "c = 7\n",
    "d = 8\n",
    "sum = c+d\n",
    "print(sum)"
   ]
  },
  {
   "cell_type": "code",
   "execution_count": null,
   "id": "e76d1458",
   "metadata": {},
   "outputs": [],
   "source": []
  },
  {
   "cell_type": "code",
   "execution_count": null,
   "id": "6aba161c",
   "metadata": {},
   "outputs": [],
   "source": []
  }
 ],
 "metadata": {
  "kernelspec": {
   "display_name": "Python 3 (ipykernel)",
   "language": "python",
   "name": "python3"
  },
  "language_info": {
   "codemirror_mode": {
    "name": "ipython",
    "version": 3
   },
   "file_extension": ".py",
   "mimetype": "text/x-python",
   "name": "python",
   "nbconvert_exporter": "python",
   "pygments_lexer": "ipython3",
   "version": "3.9.12"
  }
 },
 "nbformat": 4,
 "nbformat_minor": 5
}
