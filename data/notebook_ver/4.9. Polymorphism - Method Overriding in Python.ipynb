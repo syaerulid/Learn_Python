{
 "cells": [
  {
   "cell_type": "markdown",
   "id": "e460f0fb",
   "metadata": {},
   "source": [
    "Polymorphism - Method Overriding\n",
    "   - Overriding variables and methods in Python\n"
   ]
  },
  {
   "cell_type": "code",
   "execution_count": 1,
   "id": "17ba9edb",
   "metadata": {},
   "outputs": [],
   "source": [
    "class A:\n",
    "    a = 5\n",
    "    \n",
    "    def sample(self):\n",
    "        print(\"Inside sample method of Class A\")\n",
    "\n",
    "class B(A):\n",
    "    a = 10\n",
    "    \n",
    "    def sample(self):\n",
    "        print(\"Inside sample method of Class B\")\n",
    "        \n",
    "obj = B()"
   ]
  },
  {
   "cell_type": "code",
   "execution_count": 3,
   "id": "c48da84c",
   "metadata": {},
   "outputs": [
    {
     "name": "stdout",
     "output_type": "stream",
     "text": [
      "10\n"
     ]
    }
   ],
   "source": [
    "print(obj.a) #being override"
   ]
  },
  {
   "cell_type": "code",
   "execution_count": null,
   "id": "71b6a562",
   "metadata": {},
   "outputs": [],
   "source": []
  }
 ],
 "metadata": {
  "kernelspec": {
   "display_name": "Python 3 (ipykernel)",
   "language": "python",
   "name": "python3"
  },
  "language_info": {
   "codemirror_mode": {
    "name": "ipython",
    "version": 3
   },
   "file_extension": ".py",
   "mimetype": "text/x-python",
   "name": "python",
   "nbconvert_exporter": "python",
   "pygments_lexer": "ipython3",
   "version": "3.9.12"
  }
 },
 "nbformat": 4,
 "nbformat_minor": 5
}
