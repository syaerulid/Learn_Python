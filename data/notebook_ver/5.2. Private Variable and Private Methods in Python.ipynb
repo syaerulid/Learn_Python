{
 "cells": [
  {
   "cell_type": "markdown",
   "id": "662fe4d3",
   "metadata": {},
   "source": [
    "Private Variable and Private Methods in Python\n",
    "   - __variable_name or __method_name\n",
    "   - Can be accessed only with in the class\n"
   ]
  },
  {
   "cell_type": "code",
   "execution_count": 2,
   "id": "f631ba47",
   "metadata": {},
   "outputs": [
    {
     "name": "stdout",
     "output_type": "stream",
     "text": [
      "5\n",
      "Inside sample method of Class A\n"
     ]
    }
   ],
   "source": [
    "class A:\n",
    "    a = 5\n",
    "    \n",
    "    def sample(self):\n",
    "        print(\"Inside sample method of Class A\")\n",
    "        \n",
    "obj = A()\n",
    "print(obj.a)\n",
    "obj.sample()"
   ]
  },
  {
   "cell_type": "code",
   "execution_count": 3,
   "id": "a41334a0",
   "metadata": {},
   "outputs": [
    {
     "ename": "AttributeError",
     "evalue": "'A' object has no attribute '__a'",
     "output_type": "error",
     "traceback": [
      "\u001b[1;31m---------------------------------------------------------------------------\u001b[0m",
      "\u001b[1;31mAttributeError\u001b[0m                            Traceback (most recent call last)",
      "Input \u001b[1;32mIn [3]\u001b[0m, in \u001b[0;36m<cell line: 9>\u001b[1;34m()\u001b[0m\n\u001b[0;32m      6\u001b[0m         \u001b[38;5;28mprint\u001b[39m(\u001b[38;5;124m\"\u001b[39m\u001b[38;5;124mInside sample method of class A\u001b[39m\u001b[38;5;124m\"\u001b[39m)\n\u001b[0;32m      8\u001b[0m \u001b[38;5;66;03m# we cant access private var and method outside the class\u001b[39;00m\n\u001b[1;32m----> 9\u001b[0m \u001b[38;5;28mprint\u001b[39m(\u001b[43mobj\u001b[49m\u001b[38;5;241;43m.\u001b[39;49m\u001b[43m__a\u001b[49m)\n",
      "\u001b[1;31mAttributeError\u001b[0m: 'A' object has no attribute '__a'"
     ]
    }
   ],
   "source": [
    "## Private Method\n",
    "class A:\n",
    "    __a = 5\n",
    "    \n",
    "    def __sample(self):\n",
    "        print(\"Inside sample method of class A\")\n",
    "        \n",
    "# we cant access private var and method outside the class\n",
    "print(obj.__a)"
   ]
  },
  {
   "cell_type": "code",
   "execution_count": 6,
   "id": "5e7e42cc",
   "metadata": {},
   "outputs": [],
   "source": [
    "## Private Method\n",
    "class A:\n",
    "    __a = 5\n",
    "    \n",
    "    def __sample(self):\n",
    "        print(\"Inside sample method of class A\")\n",
    "        \n",
    "    def print_details(self):\n",
    "        print(self.__a)\n",
    "        self.__sample()\n",
    "        \n",
    "obj = A()"
   ]
  },
  {
   "cell_type": "code",
   "execution_count": 7,
   "id": "141dbc5c",
   "metadata": {},
   "outputs": [
    {
     "name": "stdout",
     "output_type": "stream",
     "text": [
      "5\n",
      "Inside sample method of class A\n"
     ]
    }
   ],
   "source": [
    "obj.print_details()"
   ]
  },
  {
   "cell_type": "code",
   "execution_count": null,
   "id": "ea4e7cb8",
   "metadata": {},
   "outputs": [],
   "source": []
  }
 ],
 "metadata": {
  "kernelspec": {
   "display_name": "Python 3 (ipykernel)",
   "language": "python",
   "name": "python3"
  },
  "language_info": {
   "codemirror_mode": {
    "name": "ipython",
    "version": 3
   },
   "file_extension": ".py",
   "mimetype": "text/x-python",
   "name": "python",
   "nbconvert_exporter": "python",
   "pygments_lexer": "ipython3",
   "version": "3.9.12"
  }
 },
 "nbformat": 4,
 "nbformat_minor": 5
}
