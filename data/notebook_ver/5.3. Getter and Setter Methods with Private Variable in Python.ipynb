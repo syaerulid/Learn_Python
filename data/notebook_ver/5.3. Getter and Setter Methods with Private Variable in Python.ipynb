{
 "cells": [
  {
   "cell_type": "code",
   "execution_count": 2,
   "id": "9823d77c",
   "metadata": {},
   "outputs": [],
   "source": [
    "class A:\n",
    "    __age = 0\n",
    "    \n",
    "    def set_age(self,age):\n",
    "        A.__age = age\n",
    "        \n",
    "    def get_age(self):\n",
    "        return A.__age \n",
    "    \n",
    "    \n",
    "obj = A()\n",
    "obj.set_age(14)\n",
    "\n",
    "#get and set are used to access private variable in Class"
   ]
  },
  {
   "cell_type": "code",
   "execution_count": 3,
   "id": "5ef5c5de",
   "metadata": {},
   "outputs": [
    {
     "data": {
      "text/plain": [
       "14"
      ]
     },
     "execution_count": 3,
     "metadata": {},
     "output_type": "execute_result"
    }
   ],
   "source": [
    "obj.get_age()"
   ]
  },
  {
   "cell_type": "code",
   "execution_count": null,
   "id": "574297ee",
   "metadata": {},
   "outputs": [],
   "source": []
  }
 ],
 "metadata": {
  "kernelspec": {
   "display_name": "Python 3 (ipykernel)",
   "language": "python",
   "name": "python3"
  },
  "language_info": {
   "codemirror_mode": {
    "name": "ipython",
    "version": 3
   },
   "file_extension": ".py",
   "mimetype": "text/x-python",
   "name": "python",
   "nbconvert_exporter": "python",
   "pygments_lexer": "ipython3",
   "version": "3.9.12"
  }
 },
 "nbformat": 4,
 "nbformat_minor": 5
}
