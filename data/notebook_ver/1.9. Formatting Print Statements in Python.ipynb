{
 "cells": [
  {
   "cell_type": "markdown",
   "id": "116f24e9",
   "metadata": {},
   "source": [
    "- Using + and str\n",
    "- Using ,\n",
    "- Using {}\n",
    "- Using {index}\n",
    "- Using %s,%d,%f, or %g"
   ]
  },
  {
   "cell_type": "code",
   "execution_count": 10,
   "id": "d4a5f6f6",
   "metadata": {},
   "outputs": [],
   "source": [
    "name = \"Syaerul Rochman\"\n",
    "experience = str(12)\n",
    "location = \"Semarang\""
   ]
  },
  {
   "cell_type": "markdown",
   "id": "312544b3",
   "metadata": {},
   "source": [
    "## Using +"
   ]
  },
  {
   "cell_type": "code",
   "execution_count": 12,
   "id": "4c1965b4",
   "metadata": {},
   "outputs": [
    {
     "name": "stdout",
     "output_type": "stream",
     "text": [
      "My name is Syaerul Rochman. I have around 12 years of Experience and I stay in Semarang\n"
     ]
    }
   ],
   "source": [
    "print(\"My name is \"+name+\". I have around \"+experience+\" years of Experience and I stay in \"+location)"
   ]
  },
  {
   "cell_type": "markdown",
   "id": "c0878861",
   "metadata": {},
   "source": [
    "## Using {}"
   ]
  },
  {
   "cell_type": "code",
   "execution_count": 13,
   "id": "03e595c2",
   "metadata": {},
   "outputs": [
    {
     "name": "stdout",
     "output_type": "stream",
     "text": [
      "My name is Syaerul Rochman. I have around 12 years of experience and I stay in Semarang\n"
     ]
    }
   ],
   "source": [
    "print(\"My name is {}. I have around {} years of experience and I stay in {}\".format(name,experience,location))"
   ]
  },
  {
   "cell_type": "code",
   "execution_count": 14,
   "id": "5bde8e5f",
   "metadata": {},
   "outputs": [
    {
     "name": "stdout",
     "output_type": "stream",
     "text": [
      "My name is Syaerul Rochman. I have around 12 years of experience and I stay in Semarang\n"
     ]
    }
   ],
   "source": [
    "print(\"My name is {0}. I have around {1} years of experience and I stay in {2}\".format(name,experience,location))"
   ]
  },
  {
   "cell_type": "code",
   "execution_count": 15,
   "id": "876c4e71",
   "metadata": {},
   "outputs": [
    {
     "name": "stdout",
     "output_type": "stream",
     "text": [
      "My name is Syaerul Rochman. I have around 12 years of experience and I stay in Semarang\n"
     ]
    }
   ],
   "source": [
    "print(\"My name is {1}. I have around {0} years of experience and I stay in {2}\".format(experience,name,location))"
   ]
  },
  {
   "cell_type": "code",
   "execution_count": 21,
   "id": "2ebeb170",
   "metadata": {},
   "outputs": [],
   "source": [
    "name = \"Syaerul Rochman\"\n",
    "experience = 12\n",
    "location = \"Semarang\""
   ]
  },
  {
   "cell_type": "markdown",
   "id": "616d4ca5",
   "metadata": {},
   "source": [
    "## Using %"
   ]
  },
  {
   "cell_type": "code",
   "execution_count": 22,
   "id": "d735cbc4",
   "metadata": {},
   "outputs": [
    {
     "name": "stdout",
     "output_type": "stream",
     "text": [
      "My name is Syaerul Rochman. I have around 12 years of experience and I stay in Semarang\n"
     ]
    }
   ],
   "source": [
    "print(\"My name is %s. I have around %d years of experience and I stay in %s\"%(name,experience,location))"
   ]
  },
  {
   "cell_type": "code",
   "execution_count": null,
   "id": "f89d3fe6",
   "metadata": {},
   "outputs": [],
   "source": []
  }
 ],
 "metadata": {
  "kernelspec": {
   "display_name": "Python 3 (ipykernel)",
   "language": "python",
   "name": "python3"
  },
  "language_info": {
   "codemirror_mode": {
    "name": "ipython",
    "version": 3
   },
   "file_extension": ".py",
   "mimetype": "text/x-python",
   "name": "python",
   "nbconvert_exporter": "python",
   "pygments_lexer": "ipython3",
   "version": "3.9.12"
  }
 },
 "nbformat": 4,
 "nbformat_minor": 5
}
