{
 "cells": [
  {
   "cell_type": "markdown",
   "id": "0325e634",
   "metadata": {},
   "source": [
    "# Set"
   ]
  },
  {
   "cell_type": "markdown",
   "id": "600b2efe",
   "metadata": {},
   "source": [
    "- Un-Order\n",
    "- Un-Indexed\n",
    "- Un-Duplicated\n",
    "- Mutable\n",
    "- Random Order"
   ]
  },
  {
   "cell_type": "code",
   "execution_count": 1,
   "id": "c7263b8d",
   "metadata": {},
   "outputs": [],
   "source": [
    "a = {9,1,5,7}"
   ]
  },
  {
   "cell_type": "code",
   "execution_count": 2,
   "id": "88029147",
   "metadata": {},
   "outputs": [
    {
     "name": "stdout",
     "output_type": "stream",
     "text": [
      "{9, 5, 1, 7}\n"
     ]
    }
   ],
   "source": [
    "print(a)"
   ]
  },
  {
   "cell_type": "code",
   "execution_count": 3,
   "id": "d86b75d2",
   "metadata": {},
   "outputs": [
    {
     "ename": "TypeError",
     "evalue": "'set' object is not subscriptable",
     "output_type": "error",
     "traceback": [
      "\u001b[1;31m---------------------------------------------------------------------------\u001b[0m",
      "\u001b[1;31mTypeError\u001b[0m                                 Traceback (most recent call last)",
      "Input \u001b[1;32mIn [3]\u001b[0m, in \u001b[0;36m<cell line: 1>\u001b[1;34m()\u001b[0m\n\u001b[1;32m----> 1\u001b[0m \u001b[38;5;28mprint\u001b[39m(\u001b[43ma\u001b[49m\u001b[43m[\u001b[49m\u001b[38;5;241;43m2\u001b[39;49m\u001b[43m]\u001b[49m)\n",
      "\u001b[1;31mTypeError\u001b[0m: 'set' object is not subscriptable"
     ]
    }
   ],
   "source": [
    "print(a[2]) # error"
   ]
  },
  {
   "cell_type": "code",
   "execution_count": 4,
   "id": "f6d17a96",
   "metadata": {},
   "outputs": [
    {
     "name": "stdout",
     "output_type": "stream",
     "text": [
      "4\n"
     ]
    }
   ],
   "source": [
    "print(len(a))"
   ]
  },
  {
   "cell_type": "markdown",
   "id": "82a2ce0a",
   "metadata": {},
   "source": [
    "## Adding Values to the Set"
   ]
  },
  {
   "cell_type": "code",
   "execution_count": 5,
   "id": "01c22ee4",
   "metadata": {},
   "outputs": [],
   "source": [
    "a = {9,1,5,7}"
   ]
  },
  {
   "cell_type": "code",
   "execution_count": 6,
   "id": "4b66ad5f",
   "metadata": {},
   "outputs": [
    {
     "name": "stdout",
     "output_type": "stream",
     "text": [
      "{9, 5, 1, 7}\n"
     ]
    }
   ],
   "source": [
    "print(a)"
   ]
  },
  {
   "cell_type": "code",
   "execution_count": 7,
   "id": "a1dbc213",
   "metadata": {},
   "outputs": [],
   "source": [
    "# using add\n",
    "a.add(8)\n",
    "a.add(12)"
   ]
  },
  {
   "cell_type": "code",
   "execution_count": 8,
   "id": "e438072b",
   "metadata": {},
   "outputs": [
    {
     "name": "stdout",
     "output_type": "stream",
     "text": [
      "{1, 5, 7, 8, 9, 12}\n"
     ]
    }
   ],
   "source": [
    "print(a)"
   ]
  },
  {
   "cell_type": "code",
   "execution_count": 9,
   "id": "39469055",
   "metadata": {},
   "outputs": [],
   "source": [
    "a = {9,1,5,7}"
   ]
  },
  {
   "cell_type": "code",
   "execution_count": 10,
   "id": "50aa9126",
   "metadata": {},
   "outputs": [],
   "source": [
    "# using update\n",
    "a.update([8,12])"
   ]
  },
  {
   "cell_type": "code",
   "execution_count": 11,
   "id": "a569a8a4",
   "metadata": {
    "scrolled": true
   },
   "outputs": [
    {
     "name": "stdout",
     "output_type": "stream",
     "text": [
      "{1, 5, 7, 8, 9, 12}\n"
     ]
    }
   ],
   "source": [
    "print(a)"
   ]
  },
  {
   "cell_type": "markdown",
   "id": "f1970a9b",
   "metadata": {},
   "source": [
    "## Remove Values from the set"
   ]
  },
  {
   "cell_type": "code",
   "execution_count": 12,
   "id": "4332a5e2",
   "metadata": {},
   "outputs": [],
   "source": [
    "a = {9,1,5,7,6}"
   ]
  },
  {
   "cell_type": "code",
   "execution_count": 13,
   "id": "458b1400",
   "metadata": {},
   "outputs": [],
   "source": [
    "# using remove\n",
    "a.remove(7)"
   ]
  },
  {
   "cell_type": "code",
   "execution_count": 14,
   "id": "18aab1ab",
   "metadata": {},
   "outputs": [
    {
     "name": "stdout",
     "output_type": "stream",
     "text": [
      "{1, 5, 6, 9}\n"
     ]
    }
   ],
   "source": [
    "print(a)"
   ]
  },
  {
   "cell_type": "code",
   "execution_count": 15,
   "id": "c1d4440e",
   "metadata": {},
   "outputs": [],
   "source": [
    "# using discard\n",
    "a = {9,1,5,7,6}"
   ]
  },
  {
   "cell_type": "code",
   "execution_count": 16,
   "id": "fee10274",
   "metadata": {},
   "outputs": [],
   "source": [
    "a.discard(9)"
   ]
  },
  {
   "cell_type": "code",
   "execution_count": 17,
   "id": "a5359df9",
   "metadata": {},
   "outputs": [
    {
     "name": "stdout",
     "output_type": "stream",
     "text": [
      "{1, 5, 6, 7}\n"
     ]
    }
   ],
   "source": [
    "print(a)"
   ]
  },
  {
   "cell_type": "code",
   "execution_count": 18,
   "id": "487e19ca",
   "metadata": {},
   "outputs": [],
   "source": [
    "## using pop for remove random\n",
    "a = {9,1,5,7,6}"
   ]
  },
  {
   "cell_type": "code",
   "execution_count": 19,
   "id": "576ddf75",
   "metadata": {},
   "outputs": [
    {
     "data": {
      "text/plain": [
       "1"
      ]
     },
     "execution_count": 19,
     "metadata": {},
     "output_type": "execute_result"
    }
   ],
   "source": [
    "a.pop()"
   ]
  },
  {
   "cell_type": "code",
   "execution_count": 20,
   "id": "2fc351e4",
   "metadata": {},
   "outputs": [
    {
     "name": "stdout",
     "output_type": "stream",
     "text": [
      "{5, 6, 7, 9}\n"
     ]
    }
   ],
   "source": [
    "print(a)"
   ]
  },
  {
   "cell_type": "code",
   "execution_count": 21,
   "id": "8f129396",
   "metadata": {},
   "outputs": [],
   "source": [
    "# remove all values using clear\n",
    "a.clear()"
   ]
  },
  {
   "cell_type": "code",
   "execution_count": 22,
   "id": "2b8a6326",
   "metadata": {},
   "outputs": [
    {
     "name": "stdout",
     "output_type": "stream",
     "text": [
      "set()\n"
     ]
    }
   ],
   "source": [
    "print(a)"
   ]
  },
  {
   "cell_type": "code",
   "execution_count": 24,
   "id": "39aa415c",
   "metadata": {},
   "outputs": [],
   "source": [
    "# deleting the set\n",
    "del a"
   ]
  },
  {
   "cell_type": "code",
   "execution_count": 25,
   "id": "fe225654",
   "metadata": {},
   "outputs": [
    {
     "ename": "NameError",
     "evalue": "name 'a' is not defined",
     "output_type": "error",
     "traceback": [
      "\u001b[1;31m---------------------------------------------------------------------------\u001b[0m",
      "\u001b[1;31mNameError\u001b[0m                                 Traceback (most recent call last)",
      "Input \u001b[1;32mIn [25]\u001b[0m, in \u001b[0;36m<cell line: 1>\u001b[1;34m()\u001b[0m\n\u001b[1;32m----> 1\u001b[0m \u001b[43ma\u001b[49m\n",
      "\u001b[1;31mNameError\u001b[0m: name 'a' is not defined"
     ]
    }
   ],
   "source": [
    "a"
   ]
  },
  {
   "cell_type": "markdown",
   "id": "3c6d2f33",
   "metadata": {},
   "source": [
    "## For Loops with Tuple"
   ]
  },
  {
   "cell_type": "code",
   "execution_count": 26,
   "id": "2d3df62d",
   "metadata": {},
   "outputs": [],
   "source": [
    "a = {9,1,5,7}"
   ]
  },
  {
   "cell_type": "code",
   "execution_count": 27,
   "id": "1a061654",
   "metadata": {},
   "outputs": [
    {
     "name": "stdout",
     "output_type": "stream",
     "text": [
      "9\n",
      "5\n",
      "1\n",
      "7\n"
     ]
    }
   ],
   "source": [
    "for e in a:\n",
    "    print(e)"
   ]
  },
  {
   "cell_type": "code",
   "execution_count": 28,
   "id": "598e4299",
   "metadata": {},
   "outputs": [],
   "source": [
    "# for loop with range() - Not Possible"
   ]
  },
  {
   "cell_type": "markdown",
   "id": "078bb47f",
   "metadata": {},
   "source": [
    "## In and Not in with Set"
   ]
  },
  {
   "cell_type": "code",
   "execution_count": 29,
   "id": "71377def",
   "metadata": {},
   "outputs": [],
   "source": [
    "a = {9,1,5,7}"
   ]
  },
  {
   "cell_type": "code",
   "execution_count": 30,
   "id": "1f5564be",
   "metadata": {},
   "outputs": [
    {
     "name": "stdout",
     "output_type": "stream",
     "text": [
      "False\n",
      "True\n"
     ]
    }
   ],
   "source": [
    "print(15 in a)\n",
    "print(3 not in a)"
   ]
  },
  {
   "cell_type": "markdown",
   "id": "d97c223f",
   "metadata": {},
   "source": [
    "## Nested Set, Does it Possible?"
   ]
  },
  {
   "cell_type": "markdown",
   "id": "4a9baf77",
   "metadata": {},
   "source": [
    "- Set only cannot nest List and Set"
   ]
  },
  {
   "cell_type": "code",
   "execution_count": 31,
   "id": "a8a46623",
   "metadata": {},
   "outputs": [
    {
     "ename": "TypeError",
     "evalue": "unhashable type: 'set'",
     "output_type": "error",
     "traceback": [
      "\u001b[1;31m---------------------------------------------------------------------------\u001b[0m",
      "\u001b[1;31mTypeError\u001b[0m                                 Traceback (most recent call last)",
      "Input \u001b[1;32mIn [31]\u001b[0m, in \u001b[0;36m<cell line: 1>\u001b[1;34m()\u001b[0m\n\u001b[1;32m----> 1\u001b[0m a \u001b[38;5;241m=\u001b[39m {\u001b[38;5;241m9\u001b[39m,\u001b[38;5;241m6\u001b[39m,{\u001b[38;5;241m4\u001b[39m,\u001b[38;5;241m8\u001b[39m,\u001b[38;5;241m1\u001b[39m,\u001b[38;5;241m2\u001b[39m},\u001b[38;5;241m4\u001b[39m,\u001b[38;5;241m1\u001b[39m}\n",
      "\u001b[1;31mTypeError\u001b[0m: unhashable type: 'set'"
     ]
    }
   ],
   "source": [
    "a = {9,6,{4,8,1,2},4,1}"
   ]
  },
  {
   "cell_type": "code",
   "execution_count": 35,
   "id": "3735356c",
   "metadata": {},
   "outputs": [],
   "source": [
    "a = {7, (8,5,4,2),3,2} # nested tuple is possible"
   ]
  },
  {
   "cell_type": "code",
   "execution_count": 36,
   "id": "fb5290c0",
   "metadata": {},
   "outputs": [
    {
     "data": {
      "text/plain": [
       "{(8, 5, 4, 2), 2, 3, 7}"
      ]
     },
     "execution_count": 36,
     "metadata": {},
     "output_type": "execute_result"
    }
   ],
   "source": [
    "a"
   ]
  },
  {
   "cell_type": "markdown",
   "id": "512282de",
   "metadata": {},
   "source": [
    "## Converting a List to Set"
   ]
  },
  {
   "cell_type": "code",
   "execution_count": 37,
   "id": "28567486",
   "metadata": {},
   "outputs": [],
   "source": [
    "a = [8,5,4,2]"
   ]
  },
  {
   "cell_type": "code",
   "execution_count": 39,
   "id": "c43435ba",
   "metadata": {},
   "outputs": [],
   "source": [
    "b = set(a)"
   ]
  },
  {
   "cell_type": "code",
   "execution_count": 41,
   "id": "1be6afa4",
   "metadata": {},
   "outputs": [
    {
     "name": "stdout",
     "output_type": "stream",
     "text": [
      "<class 'list'>\n",
      "<class 'set'>\n"
     ]
    }
   ],
   "source": [
    "print(type(a))\n",
    "print(type(b))"
   ]
  },
  {
   "cell_type": "markdown",
   "id": "968d438a",
   "metadata": {},
   "source": [
    "## Intersect with Set"
   ]
  },
  {
   "cell_type": "code",
   "execution_count": 42,
   "id": "09ebecca",
   "metadata": {},
   "outputs": [],
   "source": [
    "a = {9,1,5,7}\n",
    "b = {8,5,6,1}"
   ]
  },
  {
   "cell_type": "code",
   "execution_count": 44,
   "id": "9e924404",
   "metadata": {},
   "outputs": [
    {
     "name": "stdout",
     "output_type": "stream",
     "text": [
      "{1, 5}\n"
     ]
    }
   ],
   "source": [
    "print(a.intersection(b))"
   ]
  },
  {
   "cell_type": "markdown",
   "id": "6eb02d57",
   "metadata": {},
   "source": [
    "## Union with set"
   ]
  },
  {
   "cell_type": "code",
   "execution_count": 45,
   "id": "8d93f26b",
   "metadata": {},
   "outputs": [
    {
     "name": "stdout",
     "output_type": "stream",
     "text": [
      "{1, 5, 6, 7, 8, 9}\n"
     ]
    }
   ],
   "source": [
    "print(a.union(b))"
   ]
  },
  {
   "cell_type": "markdown",
   "id": "5a67c0b5",
   "metadata": {},
   "source": [
    "## Difference with Set"
   ]
  },
  {
   "cell_type": "code",
   "execution_count": 46,
   "id": "ba49fcc4",
   "metadata": {},
   "outputs": [
    {
     "name": "stdout",
     "output_type": "stream",
     "text": [
      "{9, 7}\n"
     ]
    }
   ],
   "source": [
    "print(a.difference(b)) # a-b"
   ]
  },
  {
   "cell_type": "code",
   "execution_count": 47,
   "id": "2f5d86df",
   "metadata": {},
   "outputs": [
    {
     "name": "stdout",
     "output_type": "stream",
     "text": [
      "{8, 6}\n"
     ]
    }
   ],
   "source": [
    "print(b.difference(a)) # b-a"
   ]
  },
  {
   "cell_type": "markdown",
   "id": "251a0bf5",
   "metadata": {},
   "source": [
    "## Symetric Difference with Set"
   ]
  },
  {
   "cell_type": "code",
   "execution_count": 51,
   "id": "0dfb82e8",
   "metadata": {},
   "outputs": [
    {
     "name": "stdout",
     "output_type": "stream",
     "text": [
      "{6, 7, 8, 9}\n",
      "{6, 7, 8, 9}\n"
     ]
    }
   ],
   "source": [
    "print(a.symmetric_difference(b))\n",
    "print(a ^ b)"
   ]
  },
  {
   "cell_type": "code",
   "execution_count": null,
   "id": "7df33bce",
   "metadata": {},
   "outputs": [],
   "source": []
  }
 ],
 "metadata": {
  "kernelspec": {
   "display_name": "Python 3 (ipykernel)",
   "language": "python",
   "name": "python3"
  },
  "language_info": {
   "codemirror_mode": {
    "name": "ipython",
    "version": 3
   },
   "file_extension": ".py",
   "mimetype": "text/x-python",
   "name": "python",
   "nbconvert_exporter": "python",
   "pygments_lexer": "ipython3",
   "version": "3.9.12"
  }
 },
 "nbformat": 4,
 "nbformat_minor": 5
}
