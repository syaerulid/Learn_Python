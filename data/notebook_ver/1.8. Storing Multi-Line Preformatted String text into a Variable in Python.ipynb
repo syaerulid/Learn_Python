{
 "cells": [
  {
   "cell_type": "code",
   "execution_count": 5,
   "id": "81878de9",
   "metadata": {},
   "outputs": [],
   "source": [
    "p = \"\"\"\n",
    "Nama saya Cholifah Turizah, saya seorang Junior Auditor di salah satu KAP Big 10 di Indonesia yaitu Crowe Indonesia.\n",
    "Saya Dulunya berkuliah di Unnes dan jurusan saya adalah Ekonomi, Saya Lulus tahun 2022 dan resmi memperoleh gelar S.E.\n",
    "pada November 2022\"\"\""
   ]
  },
  {
   "cell_type": "code",
   "execution_count": 6,
   "id": "e0382c66",
   "metadata": {},
   "outputs": [
    {
     "name": "stdout",
     "output_type": "stream",
     "text": [
      "\n",
      "Nama saya Cholifah Turizah, saya seorang Junior Auditor di salah satu KAP Big 10 di Indonesia yaitu Crowe Indonesia.\n",
      "Saya Dulunya berkuliah di Unnes dan jurusan saya adalah Ekonomi, Saya Lulus tahun 2022 dan resmi memperoleh gelar S.E.\n",
      "pada November 2022\n"
     ]
    }
   ],
   "source": [
    "print(p)"
   ]
  },
  {
   "cell_type": "code",
   "execution_count": null,
   "id": "eb785ad5",
   "metadata": {},
   "outputs": [],
   "source": []
  }
 ],
 "metadata": {
  "kernelspec": {
   "display_name": "Python 3 (ipykernel)",
   "language": "python",
   "name": "python3"
  },
  "language_info": {
   "codemirror_mode": {
    "name": "ipython",
    "version": 3
   },
   "file_extension": ".py",
   "mimetype": "text/x-python",
   "name": "python",
   "nbconvert_exporter": "python",
   "pygments_lexer": "ipython3",
   "version": "3.9.12"
  }
 },
 "nbformat": 4,
 "nbformat_minor": 5
}
