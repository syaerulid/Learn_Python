{
 "cells": [
  {
   "cell_type": "code",
   "execution_count": 9,
   "id": "366375a7",
   "metadata": {},
   "outputs": [],
   "source": [
    "class Car:\n",
    "    \n",
    "    def sample(self,brand,model,price,milage):\n",
    "        print(brand,model,price,milage)\n",
    "    \n",
    "    def sample_two(self):\n",
    "        print(brand,model,price,milage)"
   ]
  },
  {
   "cell_type": "code",
   "execution_count": 5,
   "id": "4882fbcb",
   "metadata": {},
   "outputs": [],
   "source": [
    "car1 = Car()"
   ]
  },
  {
   "cell_type": "code",
   "execution_count": 6,
   "id": "feb680f3",
   "metadata": {},
   "outputs": [
    {
     "ename": "TypeError",
     "evalue": "sample() missing 4 required positional arguments: 'brand', 'model', 'price', and 'milage'",
     "output_type": "error",
     "traceback": [
      "\u001b[1;31m---------------------------------------------------------------------------\u001b[0m",
      "\u001b[1;31mTypeError\u001b[0m                                 Traceback (most recent call last)",
      "Input \u001b[1;32mIn [6]\u001b[0m, in \u001b[0;36m<cell line: 1>\u001b[1;34m()\u001b[0m\n\u001b[1;32m----> 1\u001b[0m \u001b[43mcar1\u001b[49m\u001b[38;5;241;43m.\u001b[39;49m\u001b[43msample\u001b[49m\u001b[43m(\u001b[49m\u001b[43m)\u001b[49m\n",
      "\u001b[1;31mTypeError\u001b[0m: sample() missing 4 required positional arguments: 'brand', 'model', 'price', and 'milage'"
     ]
    }
   ],
   "source": [
    "car1.sample() #need arguments"
   ]
  },
  {
   "cell_type": "markdown",
   "id": "655e3ade",
   "metadata": {},
   "source": [
    "## Calling needs argument"
   ]
  },
  {
   "cell_type": "code",
   "execution_count": 8,
   "id": "c120f355",
   "metadata": {},
   "outputs": [
    {
     "name": "stdout",
     "output_type": "stream",
     "text": [
      "Honda Amaze 90000 14\n"
     ]
    }
   ],
   "source": [
    "car1.sample(\"Honda\",\"Amaze\",\"90000\",\"14\")"
   ]
  },
  {
   "cell_type": "code",
   "execution_count": 10,
   "id": "0091cf3d",
   "metadata": {},
   "outputs": [
    {
     "ename": "AttributeError",
     "evalue": "'Car' object has no attribute 'sample_two'",
     "output_type": "error",
     "traceback": [
      "\u001b[1;31m---------------------------------------------------------------------------\u001b[0m",
      "\u001b[1;31mAttributeError\u001b[0m                            Traceback (most recent call last)",
      "Input \u001b[1;32mIn [10]\u001b[0m, in \u001b[0;36m<cell line: 1>\u001b[1;34m()\u001b[0m\n\u001b[1;32m----> 1\u001b[0m \u001b[43mcar1\u001b[49m\u001b[38;5;241;43m.\u001b[39;49m\u001b[43msample_two\u001b[49m()\n",
      "\u001b[1;31mAttributeError\u001b[0m: 'Car' object has no attribute 'sample_two'"
     ]
    }
   ],
   "source": [
    "car1.sample_two() # not accessible because belong to sample_1"
   ]
  },
  {
   "cell_type": "markdown",
   "id": "728ded13",
   "metadata": {},
   "source": [
    "## Knowing which is variable under the Class"
   ]
  },
  {
   "cell_type": "code",
   "execution_count": 14,
   "id": "9d843be4",
   "metadata": {},
   "outputs": [
    {
     "name": "stdout",
     "output_type": "stream",
     "text": [
      "Honda Amaze 90000 14\n"
     ]
    },
    {
     "ename": "AttributeError",
     "evalue": "'Car' object has no attribute 'brand'",
     "output_type": "error",
     "traceback": [
      "\u001b[1;31m---------------------------------------------------------------------------\u001b[0m",
      "\u001b[1;31mAttributeError\u001b[0m                            Traceback (most recent call last)",
      "Input \u001b[1;32mIn [14]\u001b[0m, in \u001b[0;36m<cell line: 13>\u001b[1;34m()\u001b[0m\n\u001b[0;32m     11\u001b[0m car1 \u001b[38;5;241m=\u001b[39m Car()\n\u001b[0;32m     12\u001b[0m car1\u001b[38;5;241m.\u001b[39msample(\u001b[38;5;124m\"\u001b[39m\u001b[38;5;124mHonda\u001b[39m\u001b[38;5;124m\"\u001b[39m,\u001b[38;5;124m\"\u001b[39m\u001b[38;5;124mAmaze\u001b[39m\u001b[38;5;124m\"\u001b[39m,\u001b[38;5;124m\"\u001b[39m\u001b[38;5;124m90000\u001b[39m\u001b[38;5;124m\"\u001b[39m,\u001b[38;5;124m\"\u001b[39m\u001b[38;5;124m14\u001b[39m\u001b[38;5;124m\"\u001b[39m)\n\u001b[1;32m---> 13\u001b[0m \u001b[43mcar1\u001b[49m\u001b[38;5;241;43m.\u001b[39;49m\u001b[43msample_two\u001b[49m\u001b[43m(\u001b[49m\u001b[43m)\u001b[49m\n",
      "Input \u001b[1;32mIn [14]\u001b[0m, in \u001b[0;36mCar.sample_two\u001b[1;34m(self)\u001b[0m\n\u001b[0;32m      8\u001b[0m \u001b[38;5;28;01mdef\u001b[39;00m \u001b[38;5;21msample_two\u001b[39m(\u001b[38;5;28mself\u001b[39m):\n\u001b[1;32m----> 9\u001b[0m     \u001b[38;5;28mprint\u001b[39m(\u001b[38;5;28;43mself\u001b[39;49m\u001b[38;5;241;43m.\u001b[39;49m\u001b[43mbrand\u001b[49m,\u001b[38;5;28mself\u001b[39m\u001b[38;5;241m.\u001b[39mmodel,\u001b[38;5;28mself\u001b[39m\u001b[38;5;241m.\u001b[39mprice,\u001b[38;5;28mself\u001b[39m\u001b[38;5;241m.\u001b[39mmilage)\n",
      "\u001b[1;31mAttributeError\u001b[0m: 'Car' object has no attribute 'brand'"
     ]
    }
   ],
   "source": [
    "class Car:\n",
    "    \n",
    "    wheels = 4\n",
    "    \n",
    "    def sample(self,brand,model,price,milage):\n",
    "        print(brand,model,price,milage)\n",
    "    \n",
    "    def sample_two(self):\n",
    "        print(self.brand,self.model,self.price,self.milage) \n",
    "        # no brand variables, because the only variable is wheels under Car class\n",
    "        \n",
    "car1 = Car()\n",
    "car1.sample(\"Honda\",\"Amaze\",\"90000\",\"14\")\n",
    "car1.sample_two() "
   ]
  },
  {
   "cell_type": "code",
   "execution_count": 15,
   "id": "6d1593b7",
   "metadata": {},
   "outputs": [
    {
     "name": "stdout",
     "output_type": "stream",
     "text": [
      "Honda Amaze 90000 14\n",
      "4\n"
     ]
    }
   ],
   "source": [
    "class Car:\n",
    "    \n",
    "    wheels = 4\n",
    "    \n",
    "    def sample(self,brand,model,price,milage):\n",
    "        print(brand,model,price,milage)\n",
    "    \n",
    "    def sample_two(self):\n",
    "        print(self.wheels) \n",
    "        \n",
    "car1 = Car()\n",
    "car1.sample(\"Honda\",\"Amaze\",\"90000\",\"14\")\n",
    "car1.sample_two() "
   ]
  },
  {
   "cell_type": "markdown",
   "id": "a12bbcab",
   "metadata": {},
   "source": [
    "## Creating New Variable Under the Class"
   ]
  },
  {
   "cell_type": "code",
   "execution_count": 24,
   "id": "1ca7ff61",
   "metadata": {},
   "outputs": [
    {
     "name": "stdout",
     "output_type": "stream",
     "text": [
      "Honda Amaze 90000 14\n",
      "4\n",
      "Honda\n",
      "14\n"
     ]
    }
   ],
   "source": [
    "## update\n",
    "class Car:\n",
    "    \n",
    "    wheels = 4\n",
    "    # variable convert\n",
    "    def sample(self,brand,model,price,milage):\n",
    "        self.brand = brand\n",
    "        self.model = model\n",
    "        self.price = price\n",
    "        self.milage = milage\n",
    "        print(brand,model,price,milage)\n",
    "    \n",
    "    def sample_two(self):\n",
    "        print(self.wheels) \n",
    "        print(self.brand)\n",
    "        print(self.milage)\n",
    "        \n",
    "        \n",
    "car1 = Car()\n",
    "car1.sample(\"Honda\",\"Amaze\",\"90000\",\"14\")\n",
    "car1.sample_two() "
   ]
  },
  {
   "cell_type": "code",
   "execution_count": 27,
   "id": "e875051b",
   "metadata": {},
   "outputs": [
    {
     "name": "stdout",
     "output_type": "stream",
     "text": [
      "Honda Amaze 90000 14\n",
      "4\n",
      "Honda\n",
      "14\n",
      "Car started\n"
     ]
    }
   ],
   "source": [
    "## update\n",
    "class Car:\n",
    "    \n",
    "    wheels = 4\n",
    "    \n",
    "    def start_car(self):\n",
    "        print(\"Car started\")\n",
    "        \n",
    "    # variable convert\n",
    "    def sample(self,brand,model,price,milage):\n",
    "        self.brand = brand\n",
    "        self.model = model\n",
    "        self.price = price\n",
    "        self.milage = milage\n",
    "        print(brand,model,price,milage)\n",
    "    \n",
    "    def sample_two(self):\n",
    "        print(self.wheels) \n",
    "        print(self.brand)\n",
    "        print(self.milage)\n",
    "        \n",
    "    def sample_three(self):\n",
    "        self.start_car()\n",
    "        \n",
    "        \n",
    "car1 = Car()\n",
    "car1.sample(\"Honda\",\"Amaze\",\"90000\",\"14\")\n",
    "car1.sample_two() \n",
    "car1.sample_three()"
   ]
  },
  {
   "cell_type": "code",
   "execution_count": null,
   "id": "501da6f3",
   "metadata": {},
   "outputs": [],
   "source": []
  }
 ],
 "metadata": {
  "kernelspec": {
   "display_name": "Python 3 (ipykernel)",
   "language": "python",
   "name": "python3"
  },
  "language_info": {
   "codemirror_mode": {
    "name": "ipython",
    "version": 3
   },
   "file_extension": ".py",
   "mimetype": "text/x-python",
   "name": "python",
   "nbconvert_exporter": "python",
   "pygments_lexer": "ipython3",
   "version": "3.9.12"
  }
 },
 "nbformat": 4,
 "nbformat_minor": 5
}
