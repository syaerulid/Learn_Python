{
 "cells": [
  {
   "cell_type": "markdown",
   "id": "44e66b40",
   "metadata": {},
   "source": [
    "# Variable"
   ]
  },
  {
   "cell_type": "markdown",
   "id": "e034fd2e",
   "metadata": {},
   "source": [
    "- Variables is to store data\n",
    "- Variables is nothing but a name given to a reserved memeory location where the data is stored\n",
    "- We Don't need to specify the data type for any variable"
   ]
  },
  {
   "cell_type": "markdown",
   "id": "adcbe957",
   "metadata": {},
   "source": [
    "## Example"
   ]
  },
  {
   "cell_type": "code",
   "execution_count": 1,
   "id": "a01a3b32",
   "metadata": {},
   "outputs": [
    {
     "data": {
      "text/plain": [
       "9"
      ]
     },
     "execution_count": 1,
     "metadata": {},
     "output_type": "execute_result"
    }
   ],
   "source": [
    "a = 9 # this means value 9 is stored in a variable name a\n",
    "a # when we call this, they will print a 9"
   ]
  },
  {
   "cell_type": "code",
   "execution_count": 2,
   "id": "bb15ac0b",
   "metadata": {},
   "outputs": [
    {
     "name": "stdout",
     "output_type": "stream",
     "text": [
      "9\n"
     ]
    }
   ],
   "source": [
    "print(a) # or we can do something like this instead"
   ]
  },
  {
   "cell_type": "code",
   "execution_count": 3,
   "id": "4ffbac5c",
   "metadata": {},
   "outputs": [],
   "source": [
    "b = 2\n",
    "c = 'Syaerul Rochman'\n",
    "d = 'Python Programming'\n",
    "e = True"
   ]
  },
  {
   "cell_type": "code",
   "execution_count": 4,
   "id": "5ae4bd97",
   "metadata": {},
   "outputs": [
    {
     "name": "stdout",
     "output_type": "stream",
     "text": [
      "2\n",
      "Syaerul Rochman\n",
      "Python Programming\n",
      "True\n"
     ]
    }
   ],
   "source": [
    "print(b)\n",
    "print(c)\n",
    "print(d)\n",
    "print(e)"
   ]
  },
  {
   "cell_type": "code",
   "execution_count": 5,
   "id": "4052d4a6",
   "metadata": {},
   "outputs": [
    {
     "name": "stdout",
     "output_type": "stream",
     "text": [
      "1 2 3\n"
     ]
    }
   ],
   "source": [
    "a,b,c = 1,2,3\n",
    "print(a,b,c)"
   ]
  },
  {
   "cell_type": "code",
   "execution_count": 6,
   "id": "9e20f3ba",
   "metadata": {},
   "outputs": [
    {
     "name": "stdout",
     "output_type": "stream",
     "text": [
      "9 9 9\n"
     ]
    }
   ],
   "source": [
    "a=b=c = 9\n",
    "print(a,b,c)"
   ]
  },
  {
   "cell_type": "code",
   "execution_count": 7,
   "id": "987506a8",
   "metadata": {},
   "outputs": [],
   "source": [
    "my_first_name = 'Syaerul'\n",
    "my_last_name = 'Rochman'"
   ]
  },
  {
   "cell_type": "code",
   "execution_count": 8,
   "id": "a70de11a",
   "metadata": {},
   "outputs": [
    {
     "data": {
      "text/plain": [
       "'Rochman'"
      ]
     },
     "execution_count": 8,
     "metadata": {},
     "output_type": "execute_result"
    }
   ],
   "source": [
    "my_first_name\n",
    "my_last_name # python will only display the latest variable "
   ]
  },
  {
   "cell_type": "code",
   "execution_count": 9,
   "id": "5ac74697",
   "metadata": {},
   "outputs": [
    {
     "name": "stdout",
     "output_type": "stream",
     "text": [
      "Syaerul\n",
      "Rochman\n"
     ]
    }
   ],
   "source": [
    "#if we want to display two of them use print instead\n",
    "print(my_first_name)\n",
    "print(my_last_name)"
   ]
  },
  {
   "cell_type": "code",
   "execution_count": 10,
   "id": "6009072d",
   "metadata": {},
   "outputs": [
    {
     "name": "stdout",
     "output_type": "stream",
     "text": [
      "Syaerul Rochman\n"
     ]
    }
   ],
   "source": [
    "#if we want to display two of them use print instead\n",
    "print(my_first_name, end = \" \")\n",
    "print(my_last_name)"
   ]
  },
  {
   "cell_type": "markdown",
   "id": "f04353aa",
   "metadata": {},
   "source": [
    "## Variable will store the latest values"
   ]
  },
  {
   "cell_type": "code",
   "execution_count": 11,
   "id": "921afcfc",
   "metadata": {},
   "outputs": [
    {
     "name": "stdout",
     "output_type": "stream",
     "text": [
      "14\n"
     ]
    }
   ],
   "source": [
    "# Example :\n",
    "a = 7\n",
    "a = 14\n",
    "print(a) # the newest value is 14 so 14 being printed instead of 7"
   ]
  },
  {
   "cell_type": "code",
   "execution_count": 12,
   "id": "4b18dbb6",
   "metadata": {},
   "outputs": [
    {
     "name": "stdout",
     "output_type": "stream",
     "text": [
      "The value stored in a is : 7\n"
     ]
    }
   ],
   "source": [
    "a = 7\n",
    "print(\"The value stored in a is :\", a)"
   ]
  },
  {
   "cell_type": "code",
   "execution_count": null,
   "id": "42604a04",
   "metadata": {},
   "outputs": [],
   "source": []
  }
 ],
 "metadata": {
  "kernelspec": {
   "display_name": "Python 3 (ipykernel)",
   "language": "python",
   "name": "python3"
  },
  "language_info": {
   "codemirror_mode": {
    "name": "ipython",
    "version": 3
   },
   "file_extension": ".py",
   "mimetype": "text/x-python",
   "name": "python",
   "nbconvert_exporter": "python",
   "pygments_lexer": "ipython3",
   "version": "3.9.12"
  }
 },
 "nbformat": 4,
 "nbformat_minor": 5
}
