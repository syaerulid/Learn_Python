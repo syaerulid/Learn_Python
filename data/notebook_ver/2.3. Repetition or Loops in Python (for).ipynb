{
 "cells": [
  {
   "cell_type": "code",
   "execution_count": 1,
   "id": "781ff08c",
   "metadata": {},
   "outputs": [
    {
     "name": "stdout",
     "output_type": "stream",
     "text": [
      "0\n",
      "1\n",
      "2\n",
      "3\n",
      "4\n",
      "5\n",
      "6\n",
      "7\n",
      "8\n",
      "9\n"
     ]
    }
   ],
   "source": [
    "for i in range(10):\n",
    "    print(i) # python index start from 0"
   ]
  },
  {
   "cell_type": "code",
   "execution_count": 3,
   "id": "fdc6140f",
   "metadata": {},
   "outputs": [
    {
     "name": "stdout",
     "output_type": "stream",
     "text": [
      "4\n",
      "5\n",
      "6\n",
      "7\n",
      "8\n",
      "9\n",
      "10\n",
      "11\n",
      "12\n",
      "13\n",
      "14\n"
     ]
    }
   ],
   "source": [
    "for i in range(4, 15):\n",
    "    print(i) # python index start from 4 to 14"
   ]
  },
  {
   "cell_type": "code",
   "execution_count": 4,
   "id": "0d5d7f53",
   "metadata": {},
   "outputs": [
    {
     "name": "stdout",
     "output_type": "stream",
     "text": [
      "2\n",
      "5\n",
      "8\n"
     ]
    }
   ],
   "source": [
    "for i in range(2,11,3):\n",
    "    print(i) # kelipatan +3 dari 2"
   ]
  },
  {
   "cell_type": "code",
   "execution_count": 5,
   "id": "09a5bcf1",
   "metadata": {},
   "outputs": [
    {
     "name": "stdout",
     "output_type": "stream",
     "text": [
      "10\n",
      "9\n",
      "8\n",
      "7\n",
      "6\n",
      "5\n",
      "4\n",
      "3\n",
      "2\n"
     ]
    }
   ],
   "source": [
    "for i in range(10,1,-1):\n",
    "    print(i) # indexnya dibalik dan dimulai dari index ke - 1 yaitu [2]"
   ]
  },
  {
   "cell_type": "code",
   "execution_count": 8,
   "id": "ea92048c",
   "metadata": {},
   "outputs": [
    {
     "name": "stdout",
     "output_type": "stream",
     "text": [
      "10\n",
      "9\n",
      "8\n",
      "7\n",
      "6\n",
      "5\n",
      "4\n",
      "3\n",
      "2\n",
      "1\n"
     ]
    }
   ],
   "source": [
    "for i in range(10,0,-1):\n",
    "    print(i) # indexnya dibalik dan dimulai dari index ke - 0 yaitu [1]"
   ]
  },
  {
   "cell_type": "code",
   "execution_count": 10,
   "id": "057b9168",
   "metadata": {},
   "outputs": [
    {
     "name": "stdout",
     "output_type": "stream",
     "text": [
      "10\n",
      "9\n",
      "8\n",
      "7\n",
      "6\n",
      "5\n",
      "4\n",
      "3\n",
      "2\n",
      "1\n",
      "Inside Else Block\n",
      "End of this program\n"
     ]
    }
   ],
   "source": [
    "for i in range(10,0,-1):\n",
    "    print(i) # indexnya dibalik dan dimulai dari index ke - 0 yaitu [1]\n",
    "else:\n",
    "    print(\"Inside Else Block\")\n",
    "    \n",
    "print(\"End of this program\")"
   ]
  },
  {
   "cell_type": "code",
   "execution_count": null,
   "id": "3bb79ae8",
   "metadata": {},
   "outputs": [],
   "source": []
  }
 ],
 "metadata": {
  "kernelspec": {
   "display_name": "Python 3 (ipykernel)",
   "language": "python",
   "name": "python3"
  },
  "language_info": {
   "codemirror_mode": {
    "name": "ipython",
    "version": 3
   },
   "file_extension": ".py",
   "mimetype": "text/x-python",
   "name": "python",
   "nbconvert_exporter": "python",
   "pygments_lexer": "ipython3",
   "version": "3.9.12"
  }
 },
 "nbformat": 4,
 "nbformat_minor": 5
}
